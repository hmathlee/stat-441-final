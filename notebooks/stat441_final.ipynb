{
  "nbformat": 4,
  "nbformat_minor": 0,
  "metadata": {
    "colab": {
      "provenance": [],
      "gpuType": "T4"
    },
    "kernelspec": {
      "name": "python3",
      "display_name": "Python 3"
    },
    "language_info": {
      "name": "python"
    },
    "accelerator": "GPU"
  },
  "cells": [
    {
      "cell_type": "markdown",
      "source": [
        "# Important: Read Me!\n",
        "\n",
        "Before you start, create a new folder in the Files section called \"data\". Inside, put your three data .csv files (X_train, X_test, and y_train).\n",
        "\n",
        "Then, put config.yaml and names.txt in the Files section as well."
      ],
      "metadata": {
        "id": "9FUtO4BY1xRi"
      }
    },
    {
      "cell_type": "markdown",
      "source": [
        "# Imports"
      ],
      "metadata": {
        "id": "TXNf2Rv87Hrv"
      }
    },
    {
      "cell_type": "code",
      "source": [
        "!pip install numpy==1.26.0"
      ],
      "metadata": {
        "colab": {
          "base_uri": "https://localhost:8080/"
        },
        "id": "v1Sm9AbE4VDK",
        "outputId": "7b782f2f-adfb-4fcc-eed1-b59a1e34b394"
      },
      "execution_count": null,
      "outputs": [
        {
          "output_type": "stream",
          "name": "stdout",
          "text": [
            "Requirement already satisfied: numpy==1.26.0 in /usr/local/lib/python3.10/dist-packages (1.26.0)\n"
          ]
        }
      ]
    },
    {
      "cell_type": "code",
      "source": [
        "!pip install matplotlib==3.8.3\n",
        "!pip install pandas==2.2.1\n",
        "!pip install PyYAML==6.0.1\n",
        "!pip install scikit_learn==1.2.2\n",
        "!pip install torch==2.2.1\n",
        "!pip install tqdm==4.66.2\n",
        "!pip install xgboost==2.0.3"
      ],
      "metadata": {
        "colab": {
          "base_uri": "https://localhost:8080/"
        },
        "id": "d1gSQW2H1zM3",
        "outputId": "756d83af-9e28-4d24-f8e7-58b2029b9709"
      },
      "execution_count": null,
      "outputs": [
        {
          "output_type": "stream",
          "name": "stdout",
          "text": [
            "Requirement already satisfied: matplotlib==3.8.3 in /usr/local/lib/python3.10/dist-packages (3.8.3)\n",
            "Requirement already satisfied: contourpy>=1.0.1 in /usr/local/lib/python3.10/dist-packages (from matplotlib==3.8.3) (1.2.0)\n",
            "Requirement already satisfied: cycler>=0.10 in /usr/local/lib/python3.10/dist-packages (from matplotlib==3.8.3) (0.12.1)\n",
            "Requirement already satisfied: fonttools>=4.22.0 in /usr/local/lib/python3.10/dist-packages (from matplotlib==3.8.3) (4.50.0)\n",
            "Requirement already satisfied: kiwisolver>=1.3.1 in /usr/local/lib/python3.10/dist-packages (from matplotlib==3.8.3) (1.4.5)\n",
            "Requirement already satisfied: numpy<2,>=1.21 in /usr/local/lib/python3.10/dist-packages (from matplotlib==3.8.3) (1.26.0)\n",
            "Requirement already satisfied: packaging>=20.0 in /usr/local/lib/python3.10/dist-packages (from matplotlib==3.8.3) (24.0)\n",
            "Requirement already satisfied: pillow>=8 in /usr/local/lib/python3.10/dist-packages (from matplotlib==3.8.3) (9.4.0)\n",
            "Requirement already satisfied: pyparsing>=2.3.1 in /usr/local/lib/python3.10/dist-packages (from matplotlib==3.8.3) (3.1.2)\n",
            "Requirement already satisfied: python-dateutil>=2.7 in /usr/local/lib/python3.10/dist-packages (from matplotlib==3.8.3) (2.8.2)\n",
            "Requirement already satisfied: six>=1.5 in /usr/local/lib/python3.10/dist-packages (from python-dateutil>=2.7->matplotlib==3.8.3) (1.16.0)\n",
            "Requirement already satisfied: pandas==2.2.1 in /usr/local/lib/python3.10/dist-packages (2.2.1)\n",
            "Requirement already satisfied: numpy<2,>=1.22.4 in /usr/local/lib/python3.10/dist-packages (from pandas==2.2.1) (1.26.0)\n",
            "Requirement already satisfied: python-dateutil>=2.8.2 in /usr/local/lib/python3.10/dist-packages (from pandas==2.2.1) (2.8.2)\n",
            "Requirement already satisfied: pytz>=2020.1 in /usr/local/lib/python3.10/dist-packages (from pandas==2.2.1) (2023.4)\n",
            "Requirement already satisfied: tzdata>=2022.7 in /usr/local/lib/python3.10/dist-packages (from pandas==2.2.1) (2024.1)\n",
            "Requirement already satisfied: six>=1.5 in /usr/local/lib/python3.10/dist-packages (from python-dateutil>=2.8.2->pandas==2.2.1) (1.16.0)\n",
            "Requirement already satisfied: PyYAML==6.0.1 in /usr/local/lib/python3.10/dist-packages (6.0.1)\n",
            "Requirement already satisfied: scikit_learn==1.2.2 in /usr/local/lib/python3.10/dist-packages (1.2.2)\n",
            "Requirement already satisfied: numpy>=1.17.3 in /usr/local/lib/python3.10/dist-packages (from scikit_learn==1.2.2) (1.26.0)\n",
            "Requirement already satisfied: scipy>=1.3.2 in /usr/local/lib/python3.10/dist-packages (from scikit_learn==1.2.2) (1.11.4)\n",
            "Requirement already satisfied: joblib>=1.1.1 in /usr/local/lib/python3.10/dist-packages (from scikit_learn==1.2.2) (1.3.2)\n",
            "Requirement already satisfied: threadpoolctl>=2.0.0 in /usr/local/lib/python3.10/dist-packages (from scikit_learn==1.2.2) (3.4.0)\n",
            "Requirement already satisfied: torch==2.2.1 in /usr/local/lib/python3.10/dist-packages (2.2.1+cu121)\n",
            "Requirement already satisfied: filelock in /usr/local/lib/python3.10/dist-packages (from torch==2.2.1) (3.13.3)\n",
            "Requirement already satisfied: typing-extensions>=4.8.0 in /usr/local/lib/python3.10/dist-packages (from torch==2.2.1) (4.10.0)\n",
            "Requirement already satisfied: sympy in /usr/local/lib/python3.10/dist-packages (from torch==2.2.1) (1.12)\n",
            "Requirement already satisfied: networkx in /usr/local/lib/python3.10/dist-packages (from torch==2.2.1) (3.2.1)\n",
            "Requirement already satisfied: jinja2 in /usr/local/lib/python3.10/dist-packages (from torch==2.2.1) (3.1.3)\n",
            "Requirement already satisfied: fsspec in /usr/local/lib/python3.10/dist-packages (from torch==2.2.1) (2023.6.0)\n",
            "Requirement already satisfied: nvidia-cuda-nvrtc-cu12==12.1.105 in /usr/local/lib/python3.10/dist-packages (from torch==2.2.1) (12.1.105)\n",
            "Requirement already satisfied: nvidia-cuda-runtime-cu12==12.1.105 in /usr/local/lib/python3.10/dist-packages (from torch==2.2.1) (12.1.105)\n",
            "Requirement already satisfied: nvidia-cuda-cupti-cu12==12.1.105 in /usr/local/lib/python3.10/dist-packages (from torch==2.2.1) (12.1.105)\n",
            "Requirement already satisfied: nvidia-cudnn-cu12==8.9.2.26 in /usr/local/lib/python3.10/dist-packages (from torch==2.2.1) (8.9.2.26)\n",
            "Requirement already satisfied: nvidia-cublas-cu12==12.1.3.1 in /usr/local/lib/python3.10/dist-packages (from torch==2.2.1) (12.1.3.1)\n",
            "Requirement already satisfied: nvidia-cufft-cu12==11.0.2.54 in /usr/local/lib/python3.10/dist-packages (from torch==2.2.1) (11.0.2.54)\n",
            "Requirement already satisfied: nvidia-curand-cu12==10.3.2.106 in /usr/local/lib/python3.10/dist-packages (from torch==2.2.1) (10.3.2.106)\n",
            "Requirement already satisfied: nvidia-cusolver-cu12==11.4.5.107 in /usr/local/lib/python3.10/dist-packages (from torch==2.2.1) (11.4.5.107)\n",
            "Requirement already satisfied: nvidia-cusparse-cu12==12.1.0.106 in /usr/local/lib/python3.10/dist-packages (from torch==2.2.1) (12.1.0.106)\n",
            "Requirement already satisfied: nvidia-nccl-cu12==2.19.3 in /usr/local/lib/python3.10/dist-packages (from torch==2.2.1) (2.19.3)\n",
            "Requirement already satisfied: nvidia-nvtx-cu12==12.1.105 in /usr/local/lib/python3.10/dist-packages (from torch==2.2.1) (12.1.105)\n",
            "Requirement already satisfied: triton==2.2.0 in /usr/local/lib/python3.10/dist-packages (from torch==2.2.1) (2.2.0)\n",
            "Requirement already satisfied: nvidia-nvjitlink-cu12 in /usr/local/lib/python3.10/dist-packages (from nvidia-cusolver-cu12==11.4.5.107->torch==2.2.1) (12.4.99)\n",
            "Requirement already satisfied: MarkupSafe>=2.0 in /usr/local/lib/python3.10/dist-packages (from jinja2->torch==2.2.1) (2.1.5)\n",
            "Requirement already satisfied: mpmath>=0.19 in /usr/local/lib/python3.10/dist-packages (from sympy->torch==2.2.1) (1.3.0)\n",
            "Requirement already satisfied: tqdm==4.66.2 in /usr/local/lib/python3.10/dist-packages (4.66.2)\n",
            "Requirement already satisfied: xgboost==2.0.3 in /usr/local/lib/python3.10/dist-packages (2.0.3)\n",
            "Requirement already satisfied: numpy in /usr/local/lib/python3.10/dist-packages (from xgboost==2.0.3) (1.26.0)\n",
            "Requirement already satisfied: scipy in /usr/local/lib/python3.10/dist-packages (from xgboost==2.0.3) (1.11.4)\n"
          ]
        }
      ]
    },
    {
      "cell_type": "code",
      "execution_count": null,
      "metadata": {
        "id": "Fpw_TQYR1P0r"
      },
      "outputs": [],
      "source": [
        "import os\n",
        "from yaml import safe_load\n",
        "from datetime import datetime\n",
        "\n",
        "import numpy as np\n",
        "import matplotlib.pyplot as plt"
      ]
    },
    {
      "cell_type": "markdown",
      "source": [
        "# Utils"
      ],
      "metadata": {
        "id": "_Y-9b5QE1mF6"
      }
    },
    {
      "cell_type": "markdown",
      "source": [],
      "metadata": {
        "id": "BXg5lwVZ1mD1"
      }
    },
    {
      "cell_type": "code",
      "source": [
        "# Data\n",
        "import pandas as pd\n",
        "import numpy as np\n",
        "from sklearn.preprocessing import LabelEncoder\n",
        "\n",
        "# File utils\n",
        "import os\n",
        "from yaml import safe_load\n",
        "\n",
        "# Torch\n",
        "from torch import Tensor\n",
        "from torch.utils.data import TensorDataset\n",
        "from torch.nn.functional import normalize\n",
        "\n",
        "cfg = safe_load(open(\"config.yaml\", 'r'))\n",
        "\n",
        "# Set seed\n",
        "rng = np.random.default_rng(cfg[\"SEED\"])\n",
        "\n",
        "\n",
        "def read_csv_data(X_train_path, y_train_path, X_test_path, val):\n",
        "    # Read in the dataset\n",
        "    X_train = pd.read_csv(X_train_path)\n",
        "    X_test = pd.read_csv(X_test_path)\n",
        "    y_train = pd.read_csv(y_train_path)[\"label\"]\n",
        "\n",
        "    # Remove any rows from the train set that contain NA values\n",
        "    X_train = X_train.dropna(axis=0)\n",
        "    y_train = y_train.iloc[X_train.index]\n",
        "\n",
        "    # (val)% of all data set aside for validation\n",
        "    n_val = int(val * (len(X_train) + len(X_test)))\n",
        "    val_idx = rng.choice(np.arange(len(X_train)), n_val, replace=False)\n",
        "\n",
        "    return X_train, y_train, X_test, list(val_idx)\n",
        "\n",
        "\n",
        "def train_val_split(X_train, y_train, val_idx):\n",
        "    X_train = X_train.reset_index(drop=True)\n",
        "\n",
        "    v = X_train.index.isin(val_idx)\n",
        "\n",
        "    X_val = X_train[v]\n",
        "    y_val = y_train[v]\n",
        "\n",
        "    X_train = X_train[~v]\n",
        "    y_train = y_train[~v]\n",
        "\n",
        "    return X_train, y_train, X_val, y_val\n",
        "\n",
        "\n",
        "def eliminate_variables(X, group_start, group_end, new_ftr_name):\n",
        "    idx = list(X.columns).index(group_start)\n",
        "    curr_var = group_start\n",
        "    to_drop = []\n",
        "    while curr_var != group_end:\n",
        "        to_drop.append(curr_var)\n",
        "        idx += 1\n",
        "        curr_var = list(X.columns)[idx]\n",
        "    if new_ftr_name:\n",
        "        X[new_ftr_name] = X[to_drop].sum(axis=1)\n",
        "    X = X.drop(columns=to_drop)\n",
        "    return X\n",
        "\n",
        "\n",
        "def zero_out_negatives(X, ftr_name):\n",
        "    vals = X[ftr_name].unique()\n",
        "    for v in vals:\n",
        "        if v < 0:\n",
        "            X[ftr_name] = X[ftr_name].replace(v, 0)\n",
        "    return X\n",
        "\n",
        "\n",
        "def feature_transform(X):\n",
        "    # Rewrite fieldwork start and end dates as numbers\n",
        "    fw_start = X[\"fw_start\"].apply(lambda x: x // 100 + (x % 100) / 12)\n",
        "    fw_end = X[\"fw_end\"].apply(lambda x: x // 100 + (x % 100) / 12)\n",
        "\n",
        "    # Replace field work start and end with duration\n",
        "    fw_duration = fw_end - fw_start\n",
        "    X = X.assign(fw_duration=fw_duration)\n",
        "    X = X.drop(columns=[\"fw_start\", \"fw_end\"])\n",
        "\n",
        "    # Aggregate some integer-encoded categorical variables (not of type \"object\")\n",
        "    X = eliminate_variables(X, \"v22\", \"v31\", \"neighbor_discrim\")\n",
        "    X = eliminate_variables(X, \"v31\", \"v38\", \"distrust\")\n",
        "    X = eliminate_variables(X, \"v40\", \"v45a\", \"job_standard\")\n",
        "    X = eliminate_variables(X, \"v46\", \"v51\", \"work_ethic\")\n",
        "    X = eliminate_variables(X, \"v72\", \"v79\", \"patriarch_belief\")\n",
        "    X = eliminate_variables(X, \"v83\", \"v96\", \"children_virtues\")\n",
        "    X = eliminate_variables(X, \"v97\", \"v102\", \"poli_activism\")\n",
        "    X = eliminate_variables(X, \"v115\", \"v133\", \"society_conf\")\n",
        "    X = eliminate_variables(X, \"v133\", \"v144\", \"democracy\")\n",
        "    X = eliminate_variables(X, \"v146\", \"v149\", \"poli_system\")\n",
        "    X = eliminate_variables(X, \"v164\", \"v171\", \"community\")\n",
        "\n",
        "    # Subtract each of the \"none mentioned\" variables from their relevant groups\n",
        "    X = zero_out_negatives(X, \"v45a\")\n",
        "    X[\"job_standard\"] = X[\"job_standard\"] - X[\"v45a\"]\n",
        "    X = X.drop(columns=[\"v45a\"])\n",
        "\n",
        "    X = zero_out_negatives(X, \"v96\")\n",
        "    X[\"children_virtues\"] = X[\"children_virtues\"] - X[\"v96\"]\n",
        "    X = X.drop(columns=[\"v96\"])\n",
        "\n",
        "    X = X.drop(columns=[\"v108\", \"v109\", \"v110\", \"v111\"])\n",
        "\n",
        "    # Add/subtract DK (don't know) values based on topic: subtract if higher rating means individual perceives a\n",
        "    # high level of corruption in their country; add otherwise\n",
        "    to_subtract = [\"v176\", \"v180\", \"v181\"]\n",
        "    to_add = [\"v177\", \"v178\", \"v179\", \"v182\", \"v183\"]\n",
        "    corruption = X[to_add].sum(axis=1) - X[to_subtract].sum(axis=1)\n",
        "\n",
        "    # Compute corruption values for both the original and \"don't know\" responses\n",
        "    to_subtract = [var + \"_DK\" for var in to_subtract]\n",
        "    to_add = [var + \"_DK\" for var in to_add]\n",
        "    corruption_dk = X[to_add].sum(axis=1) - X[to_subtract].sum(axis=1)\n",
        "\n",
        "    # Replace these variables with the corruption feature\n",
        "    X = X.assign(corruption=(corruption + corruption_dk))\n",
        "    X = X.drop(columns=to_add)\n",
        "    X = X.drop(columns=to_subtract)\n",
        "\n",
        "    # Select variables up to 224_DK, along with the new variables we selected\n",
        "    # Specify the new feature name as None to not make a new aggregate variable\n",
        "    X = eliminate_variables(X, \"v225\", \"fw_duration\", None)\n",
        "\n",
        "    return X\n",
        "\n",
        "\n",
        "def drop(X):\n",
        "    \"\"\"\n",
        "    Drop variables with zero variance and/or whose values are modified/flagged\n",
        "    :param X: pd.DataFrame; original dataset.\n",
        "    :return: pd.DataFrame, with columns dropped.\n",
        "    \"\"\"\n",
        "    # Drop the id and country columns (redundant information)\n",
        "    vars_to_drop = [\"country\"]\n",
        "    for var in X.columns:\n",
        "        vals = X[var].unique()\n",
        "\n",
        "        # Remove variables with only one unique value\n",
        "        if len(vals) == 1 or X[var].dtype != \"O\" and len(vals[vals >= 0]) == 1:\n",
        "            vars_to_drop.append(var)\n",
        "\n",
        "        # Drop modified and/or flagged variables\n",
        "        elif \"DE\" in var:\n",
        "            vars_to_drop.append(var)\n",
        "        elif \"f\" in var and \"fw\" not in var:\n",
        "            vars_to_drop.append(var)\n",
        "\n",
        "    X = X.drop(columns=vars_to_drop)\n",
        "    return X\n",
        "\n",
        "\n",
        "def preprocess(X_train, y_train, X_test, val_idx, preproc_dir=None):\n",
        "    # Replace -1's in y_train with 0's\n",
        "    y_train = y_train.replace(-1, 0)\n",
        "\n",
        "    # The drop() function removes variables with only one unique value; this is checked across all observations,\n",
        "    # i.e. both train and test sets\n",
        "    print(\"Removing constant, modified, and flagged variables...\")\n",
        "    X = pd.concat([X_train, X_test])\n",
        "    X = drop(X)\n",
        "\n",
        "    # Retrieve the train and test sets\n",
        "    X_train = X.iloc[:len(X_train)]\n",
        "    X_test = X.iloc[len(X_train):]\n",
        "\n",
        "    # Do some feature engineering\n",
        "    print(\"Applying feature engineering...\")\n",
        "    X_train = feature_transform(X_train)\n",
        "    X_test = feature_transform(X_test)\n",
        "\n",
        "    # Handle the categorical variables for XGBoost\n",
        "    print(\"Ensuring categorical variable types...\")\n",
        "    X_train = categorical_dmatrix(X_train)\n",
        "    X_test = categorical_dmatrix(X_test)\n",
        "\n",
        "    # Train-val split\n",
        "    print(\"Generating a train-val data split...\")\n",
        "    X_train, y_train, X_val, y_val = train_val_split(X_train, y_train, val_idx)\n",
        "\n",
        "    # Write the dfs to .csv files if applicable\n",
        "    if preproc_dir:\n",
        "        if len(os.listdir(\"preprocessed\")) == 0 and not os.path.exists(preproc_dir):\n",
        "            os.makedirs(preproc_dir)\n",
        "\n",
        "            X_train_path = os.path.join(preproc_dir, \"X_train.csv\")\n",
        "            X_val_path = os.path.join(preproc_dir, \"X_val.csv\")\n",
        "            X_test_path = os.path.join(preproc_dir, \"X_test.csv\")\n",
        "\n",
        "            X_train.to_csv(X_train_path, index=False)\n",
        "            X_val.to_csv(X_val_path, index=False)\n",
        "            X_test.to_csv(X_test_path, index=False)\n",
        "\n",
        "            print(\"Preprocessed datasets saved to\")\n",
        "            print(\"-- X_train: {}\".format(X_train_path))\n",
        "            print(\"-- X_val: {}\".format(X_val_path))\n",
        "            print(\"-- X_test: {}\".format(X_test_path))\n",
        "\n",
        "    return X_train, y_train, X_val, y_val, X_test\n",
        "\n",
        "\n",
        "def categorical_dmatrix(X):\n",
        "    for var in X.columns:\n",
        "        if X[var].dtype == \"O\":\n",
        "            X[var] = X[var].astype(\"category\")\n",
        "    return X\n",
        "\n",
        "\n",
        "def select_features(X_train, X_val, X_test, xgb_model):\n",
        "    \"\"\"\n",
        "    Apply a feature selection transformation (based on importance matrix from XGBoost) on train dnd test sets.\n",
        "    :param X_train: pd.DataFrame; train set\n",
        "    :param X_test: pd.DataFrame; test set\n",
        "    :param xgb_model: XGBoost Booster model.\n",
        "    :return: (pd.DataFrame, pd.DataFrame) (with only the selected features from XGBoost)\n",
        "    \"\"\"\n",
        "    # Get feature importance from XGBoost model (descending order)\n",
        "    imp = xgb_model.feature_importances_\n",
        "    ftr_idx = np.where(imp > cfg[\"XGBOOST\"][\"SELECTION\"][\"IMP_THRESH\"])\n",
        "    ftr_select = []\n",
        "\n",
        "    # Get features with non-zero importance\n",
        "    print(\"Selecting features based on gain...\")\n",
        "    for idx in ftr_idx:\n",
        "        ftr_select.append(xgb_model.feature_names_in_[idx])\n",
        "\n",
        "    ftr_select = list(ftr_select[0])\n",
        "    print(\"{} features selected from XGBoost.\".format(len(ftr_select)))\n",
        "\n",
        "    # Feature selection\n",
        "    X_train = X_train[ftr_select]\n",
        "    X_val = X_val[ftr_select]\n",
        "    X_test = X_test[ftr_select]\n",
        "\n",
        "    return X_train, X_val, X_test\n",
        "\n",
        "\n",
        "def write_pred_csv(pred_df, dest):\n",
        "    assert not os.path.exists(dest), \"The prediction directory {} already exists.\".format(dest)\n",
        "    if not os.path.exists(dest):\n",
        "        os.makedirs(dest)\n",
        "        pred_path = os.path.join(dest, \"pred.csv\")\n",
        "        pred_df.to_csv(pred_path, index_label=\"id\")\n",
        "\n",
        "\n",
        "def pandas2numpy(X_train, X_val, X_test):\n",
        "    # One-hot-encode\n",
        "    X = pd.concat([X_train, X_val, X_test])\n",
        "    X = label_encode(X)\n",
        "\n",
        "    n_train, n_val = len(X_train), len(X_val)\n",
        "\n",
        "    # Scale features between 0 and 1\n",
        "    mean = np.tile(np.mean(X, axis=1), (X.shape[1], 1)).transpose()\n",
        "    std = np.tile(np.std(X, axis=1), (X.shape[1], 1)).transpose()\n",
        "    X = X * mean / std\n",
        "\n",
        "    X_train = X.iloc[:n_train]\n",
        "    X_val = X.iloc[n_train:n_train+n_val]\n",
        "    X_test = X.iloc[n_train+n_val:]\n",
        "\n",
        "    return np.array(X_train), np.array(X_val), np.array(X_test)\n",
        "\n",
        "\n",
        "def pandas2torch(X, y):\n",
        "    X = label_encode(X)\n",
        "    # Cast booleans in X to ints (for numpy conversion)\n",
        "    for var in X.columns:\n",
        "        if X[var].dtype == \"bool\":\n",
        "            X[var] = X[var].astype(int)\n",
        "\n",
        "    X_tensor = Tensor(X.to_numpy())\n",
        "    y_tensor = Tensor(y.to_numpy())\n",
        "    return TensorDataset(normalize(X_tensor), y_tensor)\n",
        "\n",
        "\n",
        "def label_encode(X):\n",
        "    le = LabelEncoder()\n",
        "    for var in X.columns:\n",
        "        if X[var].dtype in [\"object\", \"category\"]:\n",
        "            X[var] = le.fit_transform(X[var])\n",
        "    return X"
      ],
      "metadata": {
        "id": "PWa_PsTm1dps"
      },
      "execution_count": null,
      "outputs": []
    },
    {
      "cell_type": "markdown",
      "source": [
        "# Models"
      ],
      "metadata": {
        "id": "hvVHFkd42TdO"
      }
    },
    {
      "cell_type": "code",
      "source": [
        "from yaml import safe_load\n",
        "\n",
        "import matplotlib.pyplot as plt\n",
        "import pandas as pd\n",
        "import numpy as np\n",
        "from xgboost import XGBClassifier\n",
        "from sklearn.metrics import log_loss, accuracy_score\n",
        "from sklearn.model_selection import GridSearchCV\n",
        "from sklearn.ensemble import RandomForestClassifier\n",
        "\n",
        "# Torch\n",
        "import torch\n",
        "from torch.utils.data import DataLoader\n",
        "from torch.optim import SGD, Adam, Rprop\n",
        "import torch.nn.functional as F\n",
        "from torch.optim.lr_scheduler import CosineAnnealingLR\n",
        "from torch.utils.tensorboard import SummaryWriter\n",
        "\n",
        "from tqdm import tqdm\n",
        "\n",
        "cfg = safe_load(open(\"config.yaml\", 'r'))\n",
        "\n",
        "rng = np.random.default_rng(cfg[\"SEED\"])\n",
        "\n",
        "\n",
        "class XGBoost():\n",
        "    def __init__(self):\n",
        "        super().__init__()\n",
        "        self.model = \"xgboost\"\n",
        "        self.trained = None\n",
        "\n",
        "    def train(self, X_train, y_train, X_val, y_val, xgb_cfg, cv=True, pre_test=None):\n",
        "        X_pre_test, y_pre_test = None, None\n",
        "\n",
        "        # If we want to set aside a preemptive test set for further evaluation purposes\n",
        "        if pre_test > 0:\n",
        "            n_train = len(X_train)\n",
        "            pre_test_idx = rng.choice(np.arange(n_train), size=int(pre_test * n_train), replace=False)\n",
        "            pre_test_data = X_train.index.isin(pre_test_idx)\n",
        "            X_pre_test = X_train.iloc[pre_test_data]\n",
        "            y_pre_test = y_train.iloc[pre_test_data]\n",
        "            X_train_new = X_train.iloc[~pre_test_data]\n",
        "            y_train_new = y_train.iloc[~pre_test_data]\n",
        "        else:\n",
        "            X_train_new = X_train\n",
        "            y_train_new = y_train\n",
        "\n",
        "        # Watchlist (monitor over-fitting)\n",
        "        eval_set = [(X_train_new, y_train_new), (X_val, y_val)]\n",
        "\n",
        "        # Define the model with parameters from the config file\n",
        "        model = XGBClassifier(n_estimators=xgb_cfg[\"ROUNDS\"], objective=\"multi:softprob\", eval_metric=\"mlogloss\",\n",
        "                              enable_categorical=xgb_cfg[\"CATEGORICAL\"], tree_method=\"hist\",\n",
        "                              colsample_bytree=xgb_cfg[\"SUBSET\"], n_jobs=cfg[\"N_JOBS\"], early_stopping_rounds=50)\n",
        "\n",
        "        params = {\"max_depth\": xgb_cfg[\"DEPTH\"], \"eta\": xgb_cfg[\"LR\"], \"min_child_weight\": xgb_cfg[\"MIN_CHILD_WGT\"]}\n",
        "\n",
        "        # Grid search cross-validation\n",
        "        if cv:\n",
        "            xgb_search = GridSearchCV(model, params, n_jobs=cfg[\"N_JOBS\"])\n",
        "            xgb_search.fit(X_train_new, y_train_new, eval_set=eval_set, verbose=2)\n",
        "\n",
        "            best_model = xgb_search.best_estimator_\n",
        "            self.trained = best_model\n",
        "\n",
        "            # Output best set of parameters\n",
        "            for param in xgb_search.best_params_:\n",
        "                print(\"{}: {}\".format(param, xgb_search.best_params_[param]))\n",
        "\n",
        "        # Single train-test pass\n",
        "        else:\n",
        "            assert len(xgb_cfg[\"DEPTH\"]) == 1, \\\n",
        "                \"Depth parameter has length {} when 1 is required.\".format(len(xgb_cfg[\"DEPTH\"]))\n",
        "            assert len(xgb_cfg[\"LR\"]) == 1, \\\n",
        "                \"Learning rate parameter has length {} when 1 is required.\".format(len(xgb_cfg[\"LR\"]))\n",
        "            assert len(xgb_cfg[\"MIN_CHILD_WGT\"]) == 1, \\\n",
        "                \"Min child wgt parameter has length {} when 1 is required.\".format(len(xgb_cfg[\"MIN_CHILD_WGT\"]))\n",
        "\n",
        "            model.set_params(max_depth=xgb_cfg[\"DEPTH\"][0], learning_rate=xgb_cfg[\"LR\"][0],\n",
        "                             min_child_weight=xgb_cfg[\"MIN_CHILD_WGT\"][0])\n",
        "            self.trained = model.fit(X_train_new, y_train_new, eval_set=eval_set)\n",
        "\n",
        "        # Evaluate best model on preemptive test set\n",
        "        val_pred = self.trained.predict_proba(X_val)\n",
        "        val_pred_class = np.argmax(val_pred, axis=1)\n",
        "\n",
        "        eval_metrics = {\n",
        "            \"logloss\": log_loss(y_val, val_pred),\n",
        "            \"accuracy\": accuracy_score(y_val, val_pred_class)\n",
        "        }\n",
        "\n",
        "        # Evaluation metrics on the preemptive test set, if applicable\n",
        "        if pre_test > 0:\n",
        "            pre_test_pred = self.trained.predict_proba(X_pre_test)\n",
        "            pre_test_pred_class = np.argmax(pre_test_pred, axis=1)\n",
        "            eval_metrics[\"pre_test_logloss\"] = log_loss(y_pre_test, pre_test_pred)\n",
        "            eval_metrics[\"pre_test_accuracy\"] = accuracy_score(y_pre_test, pre_test_pred_class)\n",
        "\n",
        "        return eval_metrics\n",
        "\n",
        "    def predict(self, X_test):\n",
        "        pred = self.trained.predict_proba(X_test)\n",
        "\n",
        "        # Retrieve column names for prediction dataframe\n",
        "        names_file = open(\"names.txt\", \"r\")\n",
        "        columns = names_file.readlines()\n",
        "        names_file.close()\n",
        "\n",
        "        # Remove the newline characters\n",
        "        for i in range(len(columns) - 1):\n",
        "            columns[i] = columns[i][:-1]\n",
        "\n",
        "        # Construct prediction dataframe\n",
        "        pred_df = pd.DataFrame(pred, columns=columns)\n",
        "\n",
        "        return pred_df\n",
        "\n",
        "\n",
        "class RandomForest:\n",
        "    def __init__(self):\n",
        "        self.trained = None\n",
        "\n",
        "    def train(self, X_train, y_train, X_val, y_val):\n",
        "        rf = cfg[\"RF\"]\n",
        "\n",
        "        self.trained = RandomForestClassifier(n_estimators=rf[\"N_TREES\"], criterion=\"log_loss\", max_depth=9,\n",
        "                                              min_samples_leaf=rf[\"MIN_CHILD_WGT\"], max_features=rf[\"MAX_FTRS\"],\n",
        "                                              n_jobs=cfg[\"N_JOBS\"], verbose=1)\n",
        "        self.trained.fit(X_train, y_train)\n",
        "        train_pred = self.trained.predict_proba(X_train)\n",
        "        train_pred_class = np.argmax(train_pred, axis=1)\n",
        "        print(\"Random forest log loss (train):\", log_loss(y_train, train_pred))\n",
        "        print(\"Random forest accuracy (train):\", accuracy_score(y_train, train_pred_class))\n",
        "\n",
        "        val_pred = self.trained.predict_proba(X_val)\n",
        "        pred_class = np.argmax(val_pred, axis=1)\n",
        "        return {\n",
        "            \"logloss\": log_loss(y_val, val_pred),\n",
        "            \"accuracy\": accuracy_score(y_val, pred_class)\n",
        "        }\n",
        "\n",
        "\n",
        "class NN(torch.nn.Module):\n",
        "    def __init__(self, dims):\n",
        "        super(NN, self).__init__()\n",
        "\n",
        "        self.b1 = torch.nn.BatchNorm1d(dims[0])\n",
        "        self.b2 = torch.nn.BatchNorm1d(dims[1])\n",
        "        self.b3 = torch.nn.BatchNorm1d(dims[2])\n",
        "        self.b4 = torch.nn.BatchNorm1d(dims[3])\n",
        "        self.b5 = torch.nn.BatchNorm1d(dims[4])\n",
        "        self.b6 = torch.nn.BatchNorm1d(dims[5])\n",
        "\n",
        "        self.fc1 = torch.nn.Linear(dims[0], dims[1])\n",
        "        self.fc2 = torch.nn.Linear(dims[1], dims[2])\n",
        "        self.fc3 = torch.nn.Linear(dims[2], dims[3])\n",
        "        self.fc4 = torch.nn.Linear(dims[3], dims[4])\n",
        "        self.fc5 = torch.nn.Linear(dims[4], dims[5])\n",
        "        self.fc6 = torch.nn.Linear(dims[5], dims[6])\n",
        "\n",
        "        # Initialize weights\n",
        "        torch.nn.init.kaiming_normal_(self.fc1.weight)\n",
        "        torch.nn.init.kaiming_normal_(self.fc2.weight)\n",
        "        torch.nn.init.kaiming_normal_(self.fc3.weight)\n",
        "        torch.nn.init.kaiming_normal_(self.fc4.weight)\n",
        "        torch.nn.init.kaiming_normal_(self.fc5.weight)\n",
        "        torch.nn.init.kaiming_normal_(self.fc6.weight)\n",
        "\n",
        "    def forward(self, x):\n",
        "        x = self.b1(x)\n",
        "        x = torch.nn.Dropout(cfg[\"NN\"][\"DROPOUT\"])(x)\n",
        "        x = self.fc1(x)\n",
        "        x = F.relu(x)\n",
        "\n",
        "        x = self.b2(x)\n",
        "        x = torch.nn.Dropout(cfg[\"NN\"][\"DROPOUT\"])(x)\n",
        "        x = self.fc2(x)\n",
        "        x = F.relu(x)\n",
        "\n",
        "        x = self.b3(x)\n",
        "        x = torch.nn.Dropout(cfg[\"NN\"][\"DROPOUT\"])(x)\n",
        "        x = self.fc3(x)\n",
        "        x = F.relu(x)\n",
        "\n",
        "        x = self.b4(x)\n",
        "        x = torch.nn.Dropout(cfg[\"NN\"][\"DROPOUT\"])(x)\n",
        "        x = self.fc4(x)\n",
        "        x = F.relu(x)\n",
        "\n",
        "        x = self.b5(x)\n",
        "        x = torch.nn.Dropout(cfg[\"NN\"][\"DROPOUT\"])(x)\n",
        "        x = self.fc5(x)\n",
        "        x = F.relu(x)\n",
        "\n",
        "        x = self.b6(x)\n",
        "        x = torch.nn.Dropout(cfg[\"NN\"][\"DROPOUT\"])(x)\n",
        "        x = self.fc6(x)\n",
        "        x = F.log_softmax(x, dim=1)\n",
        "\n",
        "        return x\n",
        "\n",
        "\n",
        "class NeuralNetwork:\n",
        "    def __init__(self):\n",
        "        self.net = None\n",
        "        self.epochs = cfg[\"NN\"][\"EPOCHS\"]\n",
        "        self.model = \"nn\"\n",
        "        self.device = torch.device(\"cuda\" if torch.cuda.is_available() else \"cpu\")\n",
        "\n",
        "    def train_one_epoch(self, train_loader, optim, loss_fn):\n",
        "        loss_sum = 0\n",
        "\n",
        "        for i, data in tqdm(enumerate(train_loader), total=len(train_loader)):\n",
        "            # Data\n",
        "            x, y = data\n",
        "            x = x.to(self.device)\n",
        "            y = y.type(torch.LongTensor).to(self.device)\n",
        "            optim.zero_grad()\n",
        "\n",
        "            # Train\n",
        "            pred = self.net(x)\n",
        "\n",
        "            # Training loss with L2 regularization\n",
        "            loss = loss_fn(pred, y)\n",
        "            loss.backward()\n",
        "            optim.step()\n",
        "            loss_sum += loss.item()\n",
        "\n",
        "        # Report the average training loss across the batches\n",
        "        return loss_sum / len(train_loader)\n",
        "\n",
        "    def train(self, X_train, y_train, X_val, y_val, return_history=False):\n",
        "        torch.set_num_threads(6)\n",
        "\n",
        "        hidden_dims = cfg[\"NN\"][\"H_DIM\"]\n",
        "        dims = [len(X_train.columns)] + hidden_dims + [y_train.nunique()]\n",
        "        self.net = NN(dims).to(self.device)\n",
        "\n",
        "        dtrain = pandas2torch(X_train, y_train)\n",
        "        dval = pandas2torch(X_val, y_val)\n",
        "\n",
        "        train_loader = DataLoader(dtrain, batch_size=cfg[\"NN\"][\"BATCH_SIZE\"], shuffle=True)\n",
        "        val_loader = DataLoader(dval, batch_size=cfg[\"NN\"][\"BATCH_SIZE\"], shuffle=False)\n",
        "\n",
        "        # optim = SGD(self.net.parameters(), lr=cfg[\"NN\"][\"LR\"], weight_decay=cfg[\"NN\"][\"L2_REG\"],\n",
        "        #             momentum=cfg[\"NN\"][\"MOMENTUM\"])\n",
        "        optim = Rprop(self.net.parameters(), lr=cfg[\"NN\"][\"RPROP_LR\"])\n",
        "        # scheduler = CosineAnnealingLR(optimizer=optim, T_max=cfg[\"NN\"][\"EPOCHS\"])\n",
        "\n",
        "        loss_fn = torch.nn.NLLLoss().to(self.device)\n",
        "\n",
        "        # TensorBoard writer\n",
        "        writer = SummaryWriter()\n",
        "\n",
        "        val_loss_sum = 0\n",
        "        best_val_loss = 10000\n",
        "        curr_acc = 0\n",
        "        train_history, val_history = [], []\n",
        "        for epoch in range(self.epochs):\n",
        "            print(\"Epoch {}:\".format(epoch + 1))\n",
        "\n",
        "            self.net.train(True)\n",
        "            # scheduler.step()\n",
        "            train_loss = self.train_one_epoch(train_loader, optim, loss_fn)\n",
        "            train_history.append(train_loss)\n",
        "            writer.add_scalar(\"logloss_train\", train_loss, epoch)\n",
        "            print(\"Training loss: {}\".format(train_loss))\n",
        "\n",
        "            self.net.eval()\n",
        "            correct = 0\n",
        "            with torch.no_grad():\n",
        "                for i, data in tqdm(enumerate(val_loader), total=len(val_loader)):\n",
        "                    x, y = data\n",
        "                    x = x.to(self.device)\n",
        "                    y = y.type(torch.LongTensor).to(self.device)\n",
        "                    pred = self.net(x)\n",
        "                    loss = loss_fn(pred, y)\n",
        "                    val_loss_sum += loss.item()\n",
        "\n",
        "                    # Validation accuracy\n",
        "                    pred_class = torch.argmax(pred, dim=1)\n",
        "                    correct += (pred_class == y).float().sum()\n",
        "\n",
        "            val_loss = val_loss_sum / len(val_loader)\n",
        "            val_loss_sum = 0\n",
        "            val_acc = correct / len(y_val)\n",
        "            val_history.append(val_loss)\n",
        "            writer.add_scalar(\"logloss_val\", val_loss, epoch)\n",
        "            print(\"Validation loss: {}\".format(val_loss))\n",
        "            print(\"Validation accuracy: {}\".format(val_acc))\n",
        "\n",
        "            if val_loss < best_val_loss:\n",
        "                best_val_loss = val_loss\n",
        "                curr_acc = val_acc\n",
        "                model_path = 'model.pt'.format(epoch + 1)\n",
        "                torch.save(self.net.state_dict(), model_path)\n",
        "\n",
        "        writer.flush()\n",
        "        writer.close()\n",
        "\n",
        "        eval_metrics = {\n",
        "            \"logloss\": best_val_loss,\n",
        "            \"accuracy\": curr_acc\n",
        "        }\n",
        "\n",
        "        if return_history:\n",
        "            eval_metrics[\"loss_history\"] = {\n",
        "                \"train\": train_history,\n",
        "                \"val\": val_history\n",
        "            }\n",
        "\n",
        "        return eval_metrics\n",
        "\n",
        "    def predict(self, X_test):\n",
        "        pass\n"
      ],
      "metadata": {
        "id": "gpScp1za2UU7"
      },
      "execution_count": null,
      "outputs": []
    },
    {
      "cell_type": "markdown",
      "source": [
        "# Driver Code"
      ],
      "metadata": {
        "id": "IVKbUvfD2VpA"
      }
    },
    {
      "cell_type": "code",
      "source": [
        "import os\n",
        "from yaml import safe_load\n",
        "from datetime import datetime\n",
        "\n",
        "import numpy as np\n",
        "import matplotlib.pyplot as plt\n",
        "\n",
        "# Config\n",
        "cfg = safe_load(open(\"config.yaml\", \"r\"))\n",
        "\n",
        "\n",
        "if __name__ == \"__main__\":\n",
        "    # Read data\n",
        "    X_train, y_train, X_test, val_idx = read_csv_data(cfg[\"X_TRAIN\"], cfg[\"Y_TRAIN\"], cfg[\"X_TEST\"], cfg[\"VAL\"])\n",
        "\n",
        "    # Get datetime for saving preprocessed datasets\n",
        "    if not os.path.exists(\"preprocessed\"):\n",
        "        os.makedirs(\"preprocessed\")\n",
        "    preproc_dir = os.path.join(\"preprocessed\", datetime.now().strftime(\"%X\").replace(\":\", \"_\"))\n",
        "    X_train, y_train, X_val, y_val, X_test = preprocess(X_train, y_train, X_test, val_idx, preproc_dir)\n",
        "\n",
        "    # XGBoost for feature selection\n",
        "    xgb_select = XGBoost()\n",
        "    print(\"Fitting XGBoost (selection). {} features\".format(len(X_train.columns)))\n",
        "    xgb_select_metrics = xgb_select.train(X_train, y_train, X_val, y_val, cfg[\"XGBOOST\"][\"SELECTION\"], cv=False,\n",
        "                                          pre_test=cfg[\"PRE_TEST\"])\n",
        "    print(\"XGBoost log loss:\", xgb_select_metrics[\"logloss\"])\n",
        "    print(\"XGBoost accuracy:\", xgb_select_metrics[\"accuracy\"])\n",
        "\n",
        "    # If we did a pre-test\n",
        "    if cfg[\"PRE_TEST\"] > 0:\n",
        "        print(\"XGBoost log loss (pre-test):\", xgb_select_metrics[\"pre_test_logloss\"])\n",
        "        print(\"XGBoost accuracy (pre-test):\", xgb_select_metrics[\"pre_test_accuracy\"])\n",
        "\n",
        "    # Prediction\n",
        "    print(\"Predicting with XGBoost...\")\n",
        "    if not os.path.exists(\"predictions\"):\n",
        "        os.makedirs(\"predictions\")\n",
        "    pred_df = xgb_select.predict(X_test)\n",
        "    pred_dir = os.path.join(\"predictions\", datetime.now().strftime(\"%X\").replace(\":\", \"_\"))\n",
        "    write_pred_csv(pred_df, pred_dir)\n",
        "\n",
        "    # Select important features from XGBoost\n",
        "    X_train, X_val, X_test = select_features(X_train, X_val, X_test, xgb_select.trained)\n",
        "\n",
        "    # Random forest\n",
        "    # rf = RandomForest()\n",
        "    # print(\"Fitting random forest (prediction). {} features\".format(len(X_train.columns)))\n",
        "    # X_train_np, X_val_np, X_test_np = pandas2numpy(X_train, X_val, X_test)\n",
        "    # rf_metrics = rf.train(X_train_np, y_train, X_val_np, y_val)\n",
        "    # print(\"Random forest log loss:\", rf_metrics[\"logloss\"])\n",
        "    # print(\"Random forest accuracy:\", rf_metrics[\"accuracy\"])\n",
        "\n",
        "    # Neural network training\n",
        "    neural_net = NeuralNetwork()\n",
        "    print(\"Fitting MLP (prediction). {} features\".format(len(X_train.columns)))\n",
        "    dtrain = pandas2torch(X_train, y_train)\n",
        "    dval = pandas2torch(X_val, y_val)\n",
        "    nn_metrics = neural_net.train(X_train, y_train, X_val, y_val, return_history=True)\n",
        "    print(\"MLP log loss:\", nn_metrics[\"logloss\"])\n",
        "    print(\"MLP accuracy:\", nn_metrics[\"accuracy\"])\n",
        "\n",
        "    # Plot neural net train/val loss curves\n",
        "    t = np.arange(neural_net.epochs) + 1\n",
        "    plt.plot(t, nn_metrics[\"loss_history\"][\"train\"], label=\"train loss\")\n",
        "    plt.plot(t, nn_metrics[\"loss_history\"][\"val\"], label=\"val loss\")\n",
        "\n",
        "    # Plot XGBoost loss for reference\n",
        "    xgb_loss = np.repeat(xgb_select_metrics[\"logloss\"], neural_net.epochs)\n",
        "    plt.plot(t, xgb_loss, label=\"XGBoost loss\", linestyle=\"dashed\")\n",
        "\n",
        "    plt.legend()\n",
        "    plt.xlabel(\"Epoch\")\n",
        "    plt.ylabel(\"Log Loss\")\n",
        "    plt.title(\"Log Loss (Train/Val)\")\n",
        "    plt.savefig(\"nn_loss.png\")\n"
      ],
      "metadata": {
        "colab": {
          "base_uri": "https://localhost:8080/",
          "height": 1000
        },
        "id": "e1hmS5OV2W0H",
        "outputId": "347264e3-03bc-4604-cc70-e6db0c4492f1"
      },
      "execution_count": null,
      "outputs": [
        {
          "output_type": "display_data",
          "data": {
            "text/plain": [
              "<IPython.core.display.Javascript object>"
            ],
            "application/javascript": [
              "\n",
              "        (async () => {\n",
              "            const url = new URL(await google.colab.kernel.proxyPort(6006, {'cache': true}));\n",
              "            url.searchParams.set('tensorboardColab', 'true');\n",
              "            const iframe = document.createElement('iframe');\n",
              "            iframe.src = url;\n",
              "            iframe.setAttribute('width', '100%');\n",
              "            iframe.setAttribute('height', '1000');\n",
              "            iframe.setAttribute('frameborder', 0);\n",
              "            document.body.appendChild(iframe);\n",
              "        })();\n",
              "    "
            ]
          },
          "metadata": {}
        },
        {
          "output_type": "stream",
          "name": "stderr",
          "text": [
            "<ipython-input-5-81f1d15ad6d4>:23: DtypeWarning: Columns (105) have mixed types. Specify dtype option on import or set low_memory=False.\n",
            "  X_train = pd.read_csv(X_train_path)\n"
          ]
        },
        {
          "output_type": "stream",
          "name": "stdout",
          "text": [
            "Removing constant, modified, and flagged variables...\n",
            "Applying feature engineering...\n",
            "Ensuring categorical variable types...\n",
            "Generating a train-val data split...\n",
            "Fitting XGBoost (selection). 157 features\n",
            "[0]\tvalidation_0-mlogloss:1.57607\tvalidation_1-mlogloss:1.57642\n",
            "[1]\tvalidation_0-mlogloss:1.54523\tvalidation_1-mlogloss:1.54578\n",
            "[2]\tvalidation_0-mlogloss:1.51656\tvalidation_1-mlogloss:1.51726\n",
            "[3]\tvalidation_0-mlogloss:1.48931\tvalidation_1-mlogloss:1.49031\n",
            "[4]\tvalidation_0-mlogloss:1.46415\tvalidation_1-mlogloss:1.46529\n",
            "[5]\tvalidation_0-mlogloss:1.44079\tvalidation_1-mlogloss:1.44201\n",
            "[6]\tvalidation_0-mlogloss:1.41888\tvalidation_1-mlogloss:1.42036\n",
            "[7]\tvalidation_0-mlogloss:1.39777\tvalidation_1-mlogloss:1.39981\n",
            "[8]\tvalidation_0-mlogloss:1.37813\tvalidation_1-mlogloss:1.38031\n",
            "[9]\tvalidation_0-mlogloss:1.35896\tvalidation_1-mlogloss:1.36186\n",
            "[10]\tvalidation_0-mlogloss:1.34162\tvalidation_1-mlogloss:1.34468\n",
            "[11]\tvalidation_0-mlogloss:1.32450\tvalidation_1-mlogloss:1.32820\n",
            "[12]\tvalidation_0-mlogloss:1.30882\tvalidation_1-mlogloss:1.31273\n",
            "[13]\tvalidation_0-mlogloss:1.29367\tvalidation_1-mlogloss:1.29792\n",
            "[14]\tvalidation_0-mlogloss:1.27948\tvalidation_1-mlogloss:1.28408\n",
            "[15]\tvalidation_0-mlogloss:1.26566\tvalidation_1-mlogloss:1.27045\n",
            "[16]\tvalidation_0-mlogloss:1.25285\tvalidation_1-mlogloss:1.25802\n",
            "[17]\tvalidation_0-mlogloss:1.24038\tvalidation_1-mlogloss:1.24564\n",
            "[18]\tvalidation_0-mlogloss:1.22865\tvalidation_1-mlogloss:1.23390\n",
            "[19]\tvalidation_0-mlogloss:1.21752\tvalidation_1-mlogloss:1.22304\n",
            "[20]\tvalidation_0-mlogloss:1.20678\tvalidation_1-mlogloss:1.21279\n",
            "[21]\tvalidation_0-mlogloss:1.19654\tvalidation_1-mlogloss:1.20273\n",
            "[22]\tvalidation_0-mlogloss:1.18695\tvalidation_1-mlogloss:1.19335\n",
            "[23]\tvalidation_0-mlogloss:1.17737\tvalidation_1-mlogloss:1.18432\n",
            "[24]\tvalidation_0-mlogloss:1.16846\tvalidation_1-mlogloss:1.17556\n",
            "[25]\tvalidation_0-mlogloss:1.16006\tvalidation_1-mlogloss:1.16746\n",
            "[26]\tvalidation_0-mlogloss:1.15182\tvalidation_1-mlogloss:1.15952\n",
            "[27]\tvalidation_0-mlogloss:1.14398\tvalidation_1-mlogloss:1.15166\n",
            "[28]\tvalidation_0-mlogloss:1.13630\tvalidation_1-mlogloss:1.14426\n",
            "[29]\tvalidation_0-mlogloss:1.12892\tvalidation_1-mlogloss:1.13697\n",
            "[30]\tvalidation_0-mlogloss:1.12174\tvalidation_1-mlogloss:1.13014\n",
            "[31]\tvalidation_0-mlogloss:1.11488\tvalidation_1-mlogloss:1.12331\n",
            "[32]\tvalidation_0-mlogloss:1.10836\tvalidation_1-mlogloss:1.11702\n",
            "[33]\tvalidation_0-mlogloss:1.10190\tvalidation_1-mlogloss:1.11093\n",
            "[34]\tvalidation_0-mlogloss:1.09571\tvalidation_1-mlogloss:1.10524\n",
            "[35]\tvalidation_0-mlogloss:1.08990\tvalidation_1-mlogloss:1.09967\n",
            "[36]\tvalidation_0-mlogloss:1.08403\tvalidation_1-mlogloss:1.09421\n",
            "[37]\tvalidation_0-mlogloss:1.07855\tvalidation_1-mlogloss:1.08934\n",
            "[38]\tvalidation_0-mlogloss:1.07303\tvalidation_1-mlogloss:1.08421\n",
            "[39]\tvalidation_0-mlogloss:1.06768\tvalidation_1-mlogloss:1.07947\n",
            "[40]\tvalidation_0-mlogloss:1.06278\tvalidation_1-mlogloss:1.07499\n",
            "[41]\tvalidation_0-mlogloss:1.05781\tvalidation_1-mlogloss:1.07042\n",
            "[42]\tvalidation_0-mlogloss:1.05313\tvalidation_1-mlogloss:1.06628\n",
            "[43]\tvalidation_0-mlogloss:1.04848\tvalidation_1-mlogloss:1.06244\n",
            "[44]\tvalidation_0-mlogloss:1.04414\tvalidation_1-mlogloss:1.05820\n",
            "[45]\tvalidation_0-mlogloss:1.03985\tvalidation_1-mlogloss:1.05455\n",
            "[46]\tvalidation_0-mlogloss:1.03575\tvalidation_1-mlogloss:1.05078\n",
            "[47]\tvalidation_0-mlogloss:1.03187\tvalidation_1-mlogloss:1.04746\n",
            "[48]\tvalidation_0-mlogloss:1.02792\tvalidation_1-mlogloss:1.04429\n",
            "[49]\tvalidation_0-mlogloss:1.02436\tvalidation_1-mlogloss:1.04090\n",
            "[50]\tvalidation_0-mlogloss:1.02079\tvalidation_1-mlogloss:1.03788\n",
            "[51]\tvalidation_0-mlogloss:1.01699\tvalidation_1-mlogloss:1.03483\n",
            "[52]\tvalidation_0-mlogloss:1.01356\tvalidation_1-mlogloss:1.03222\n",
            "[53]\tvalidation_0-mlogloss:1.01032\tvalidation_1-mlogloss:1.02962\n",
            "[54]\tvalidation_0-mlogloss:1.00688\tvalidation_1-mlogloss:1.02684\n",
            "[55]\tvalidation_0-mlogloss:1.00388\tvalidation_1-mlogloss:1.02436\n",
            "[56]\tvalidation_0-mlogloss:1.00057\tvalidation_1-mlogloss:1.02184\n",
            "[57]\tvalidation_0-mlogloss:0.99763\tvalidation_1-mlogloss:1.01935\n",
            "[58]\tvalidation_0-mlogloss:0.99467\tvalidation_1-mlogloss:1.01683\n",
            "[59]\tvalidation_0-mlogloss:0.99191\tvalidation_1-mlogloss:1.01440\n",
            "[60]\tvalidation_0-mlogloss:0.98915\tvalidation_1-mlogloss:1.01234\n",
            "[61]\tvalidation_0-mlogloss:0.98628\tvalidation_1-mlogloss:1.01020\n",
            "[62]\tvalidation_0-mlogloss:0.98366\tvalidation_1-mlogloss:1.00801\n",
            "[63]\tvalidation_0-mlogloss:0.98098\tvalidation_1-mlogloss:1.00610\n",
            "[64]\tvalidation_0-mlogloss:0.97812\tvalidation_1-mlogloss:1.00396\n",
            "[65]\tvalidation_0-mlogloss:0.97562\tvalidation_1-mlogloss:1.00211\n",
            "[66]\tvalidation_0-mlogloss:0.97312\tvalidation_1-mlogloss:1.00038\n",
            "[67]\tvalidation_0-mlogloss:0.97063\tvalidation_1-mlogloss:0.99858\n",
            "[68]\tvalidation_0-mlogloss:0.96825\tvalidation_1-mlogloss:0.99692\n",
            "[69]\tvalidation_0-mlogloss:0.96581\tvalidation_1-mlogloss:0.99506\n",
            "[70]\tvalidation_0-mlogloss:0.96357\tvalidation_1-mlogloss:0.99358\n",
            "[71]\tvalidation_0-mlogloss:0.96141\tvalidation_1-mlogloss:0.99182\n",
            "[72]\tvalidation_0-mlogloss:0.95932\tvalidation_1-mlogloss:0.99036\n",
            "[73]\tvalidation_0-mlogloss:0.95712\tvalidation_1-mlogloss:0.98897\n",
            "[74]\tvalidation_0-mlogloss:0.95501\tvalidation_1-mlogloss:0.98742\n",
            "[75]\tvalidation_0-mlogloss:0.95284\tvalidation_1-mlogloss:0.98601\n",
            "[76]\tvalidation_0-mlogloss:0.95067\tvalidation_1-mlogloss:0.98436\n",
            "[77]\tvalidation_0-mlogloss:0.94888\tvalidation_1-mlogloss:0.98304\n",
            "[78]\tvalidation_0-mlogloss:0.94674\tvalidation_1-mlogloss:0.98155\n",
            "[79]\tvalidation_0-mlogloss:0.94470\tvalidation_1-mlogloss:0.98009\n",
            "[80]\tvalidation_0-mlogloss:0.94299\tvalidation_1-mlogloss:0.97881\n",
            "[81]\tvalidation_0-mlogloss:0.94086\tvalidation_1-mlogloss:0.97747\n",
            "[82]\tvalidation_0-mlogloss:0.93917\tvalidation_1-mlogloss:0.97647\n",
            "[83]\tvalidation_0-mlogloss:0.93748\tvalidation_1-mlogloss:0.97516\n",
            "[84]\tvalidation_0-mlogloss:0.93571\tvalidation_1-mlogloss:0.97400\n",
            "[85]\tvalidation_0-mlogloss:0.93421\tvalidation_1-mlogloss:0.97307\n",
            "[86]\tvalidation_0-mlogloss:0.93235\tvalidation_1-mlogloss:0.97193\n",
            "[87]\tvalidation_0-mlogloss:0.93053\tvalidation_1-mlogloss:0.97081\n",
            "[88]\tvalidation_0-mlogloss:0.92881\tvalidation_1-mlogloss:0.96969\n",
            "[89]\tvalidation_0-mlogloss:0.92726\tvalidation_1-mlogloss:0.96872\n",
            "[90]\tvalidation_0-mlogloss:0.92553\tvalidation_1-mlogloss:0.96782\n",
            "[91]\tvalidation_0-mlogloss:0.92406\tvalidation_1-mlogloss:0.96694\n",
            "[92]\tvalidation_0-mlogloss:0.92251\tvalidation_1-mlogloss:0.96588\n",
            "[93]\tvalidation_0-mlogloss:0.92094\tvalidation_1-mlogloss:0.96506\n",
            "[94]\tvalidation_0-mlogloss:0.91942\tvalidation_1-mlogloss:0.96427\n",
            "[95]\tvalidation_0-mlogloss:0.91775\tvalidation_1-mlogloss:0.96346\n",
            "[96]\tvalidation_0-mlogloss:0.91608\tvalidation_1-mlogloss:0.96262\n",
            "[97]\tvalidation_0-mlogloss:0.91477\tvalidation_1-mlogloss:0.96183\n",
            "[98]\tvalidation_0-mlogloss:0.91317\tvalidation_1-mlogloss:0.96081\n",
            "[99]\tvalidation_0-mlogloss:0.91181\tvalidation_1-mlogloss:0.96007\n",
            "[100]\tvalidation_0-mlogloss:0.91047\tvalidation_1-mlogloss:0.95936\n",
            "[101]\tvalidation_0-mlogloss:0.90940\tvalidation_1-mlogloss:0.95863\n",
            "[102]\tvalidation_0-mlogloss:0.90795\tvalidation_1-mlogloss:0.95788\n",
            "[103]\tvalidation_0-mlogloss:0.90676\tvalidation_1-mlogloss:0.95730\n",
            "[104]\tvalidation_0-mlogloss:0.90541\tvalidation_1-mlogloss:0.95653\n",
            "[105]\tvalidation_0-mlogloss:0.90423\tvalidation_1-mlogloss:0.95602\n",
            "[106]\tvalidation_0-mlogloss:0.90285\tvalidation_1-mlogloss:0.95527\n",
            "[107]\tvalidation_0-mlogloss:0.90152\tvalidation_1-mlogloss:0.95471\n",
            "[108]\tvalidation_0-mlogloss:0.90030\tvalidation_1-mlogloss:0.95390\n",
            "[109]\tvalidation_0-mlogloss:0.89912\tvalidation_1-mlogloss:0.95326\n",
            "[110]\tvalidation_0-mlogloss:0.89800\tvalidation_1-mlogloss:0.95279\n",
            "[111]\tvalidation_0-mlogloss:0.89678\tvalidation_1-mlogloss:0.95232\n",
            "[112]\tvalidation_0-mlogloss:0.89566\tvalidation_1-mlogloss:0.95193\n",
            "[113]\tvalidation_0-mlogloss:0.89448\tvalidation_1-mlogloss:0.95136\n",
            "[114]\tvalidation_0-mlogloss:0.89336\tvalidation_1-mlogloss:0.95075\n",
            "[115]\tvalidation_0-mlogloss:0.89225\tvalidation_1-mlogloss:0.95034\n",
            "[116]\tvalidation_0-mlogloss:0.89113\tvalidation_1-mlogloss:0.94973\n",
            "[117]\tvalidation_0-mlogloss:0.89024\tvalidation_1-mlogloss:0.94936\n",
            "[118]\tvalidation_0-mlogloss:0.88892\tvalidation_1-mlogloss:0.94894\n",
            "[119]\tvalidation_0-mlogloss:0.88804\tvalidation_1-mlogloss:0.94862\n",
            "[120]\tvalidation_0-mlogloss:0.88697\tvalidation_1-mlogloss:0.94810\n",
            "[121]\tvalidation_0-mlogloss:0.88598\tvalidation_1-mlogloss:0.94762\n",
            "[122]\tvalidation_0-mlogloss:0.88484\tvalidation_1-mlogloss:0.94735\n",
            "[123]\tvalidation_0-mlogloss:0.88367\tvalidation_1-mlogloss:0.94682\n",
            "[124]\tvalidation_0-mlogloss:0.88266\tvalidation_1-mlogloss:0.94634\n",
            "[125]\tvalidation_0-mlogloss:0.88149\tvalidation_1-mlogloss:0.94593\n",
            "[126]\tvalidation_0-mlogloss:0.88049\tvalidation_1-mlogloss:0.94585\n",
            "[127]\tvalidation_0-mlogloss:0.87930\tvalidation_1-mlogloss:0.94562\n",
            "[128]\tvalidation_0-mlogloss:0.87817\tvalidation_1-mlogloss:0.94535\n",
            "[129]\tvalidation_0-mlogloss:0.87703\tvalidation_1-mlogloss:0.94489\n",
            "[130]\tvalidation_0-mlogloss:0.87583\tvalidation_1-mlogloss:0.94452\n",
            "[131]\tvalidation_0-mlogloss:0.87506\tvalidation_1-mlogloss:0.94446\n",
            "[132]\tvalidation_0-mlogloss:0.87411\tvalidation_1-mlogloss:0.94401\n",
            "[133]\tvalidation_0-mlogloss:0.87316\tvalidation_1-mlogloss:0.94363\n",
            "[134]\tvalidation_0-mlogloss:0.87235\tvalidation_1-mlogloss:0.94329\n",
            "[135]\tvalidation_0-mlogloss:0.87137\tvalidation_1-mlogloss:0.94290\n",
            "[136]\tvalidation_0-mlogloss:0.87060\tvalidation_1-mlogloss:0.94268\n",
            "[137]\tvalidation_0-mlogloss:0.86952\tvalidation_1-mlogloss:0.94238\n",
            "[138]\tvalidation_0-mlogloss:0.86849\tvalidation_1-mlogloss:0.94215\n",
            "[139]\tvalidation_0-mlogloss:0.86754\tvalidation_1-mlogloss:0.94190\n",
            "[140]\tvalidation_0-mlogloss:0.86662\tvalidation_1-mlogloss:0.94146\n",
            "[141]\tvalidation_0-mlogloss:0.86579\tvalidation_1-mlogloss:0.94134\n",
            "[142]\tvalidation_0-mlogloss:0.86484\tvalidation_1-mlogloss:0.94104\n",
            "[143]\tvalidation_0-mlogloss:0.86381\tvalidation_1-mlogloss:0.94067\n",
            "[144]\tvalidation_0-mlogloss:0.86314\tvalidation_1-mlogloss:0.94045\n",
            "[145]\tvalidation_0-mlogloss:0.86227\tvalidation_1-mlogloss:0.94000\n",
            "[146]\tvalidation_0-mlogloss:0.86159\tvalidation_1-mlogloss:0.93990\n",
            "[147]\tvalidation_0-mlogloss:0.86056\tvalidation_1-mlogloss:0.93966\n",
            "[148]\tvalidation_0-mlogloss:0.85987\tvalidation_1-mlogloss:0.93949\n",
            "[149]\tvalidation_0-mlogloss:0.85892\tvalidation_1-mlogloss:0.93917\n",
            "[150]\tvalidation_0-mlogloss:0.85796\tvalidation_1-mlogloss:0.93899\n",
            "[151]\tvalidation_0-mlogloss:0.85729\tvalidation_1-mlogloss:0.93874\n",
            "[152]\tvalidation_0-mlogloss:0.85637\tvalidation_1-mlogloss:0.93855\n",
            "[153]\tvalidation_0-mlogloss:0.85571\tvalidation_1-mlogloss:0.93827\n",
            "[154]\tvalidation_0-mlogloss:0.85473\tvalidation_1-mlogloss:0.93793\n",
            "[155]\tvalidation_0-mlogloss:0.85389\tvalidation_1-mlogloss:0.93782\n",
            "[156]\tvalidation_0-mlogloss:0.85307\tvalidation_1-mlogloss:0.93758\n",
            "[157]\tvalidation_0-mlogloss:0.85231\tvalidation_1-mlogloss:0.93729\n",
            "[158]\tvalidation_0-mlogloss:0.85146\tvalidation_1-mlogloss:0.93697\n",
            "[159]\tvalidation_0-mlogloss:0.85094\tvalidation_1-mlogloss:0.93675\n",
            "[160]\tvalidation_0-mlogloss:0.85023\tvalidation_1-mlogloss:0.93667\n",
            "[161]\tvalidation_0-mlogloss:0.84941\tvalidation_1-mlogloss:0.93640\n",
            "[162]\tvalidation_0-mlogloss:0.84873\tvalidation_1-mlogloss:0.93614\n",
            "[163]\tvalidation_0-mlogloss:0.84797\tvalidation_1-mlogloss:0.93586\n",
            "[164]\tvalidation_0-mlogloss:0.84702\tvalidation_1-mlogloss:0.93566\n",
            "[165]\tvalidation_0-mlogloss:0.84635\tvalidation_1-mlogloss:0.93540\n",
            "[166]\tvalidation_0-mlogloss:0.84569\tvalidation_1-mlogloss:0.93533\n",
            "[167]\tvalidation_0-mlogloss:0.84490\tvalidation_1-mlogloss:0.93502\n",
            "[168]\tvalidation_0-mlogloss:0.84398\tvalidation_1-mlogloss:0.93486\n",
            "[169]\tvalidation_0-mlogloss:0.84335\tvalidation_1-mlogloss:0.93482\n",
            "[170]\tvalidation_0-mlogloss:0.84275\tvalidation_1-mlogloss:0.93471\n",
            "[171]\tvalidation_0-mlogloss:0.84196\tvalidation_1-mlogloss:0.93454\n",
            "[172]\tvalidation_0-mlogloss:0.84104\tvalidation_1-mlogloss:0.93434\n",
            "[173]\tvalidation_0-mlogloss:0.84030\tvalidation_1-mlogloss:0.93419\n",
            "[174]\tvalidation_0-mlogloss:0.83978\tvalidation_1-mlogloss:0.93401\n",
            "[175]\tvalidation_0-mlogloss:0.83913\tvalidation_1-mlogloss:0.93396\n",
            "[176]\tvalidation_0-mlogloss:0.83837\tvalidation_1-mlogloss:0.93385\n",
            "[177]\tvalidation_0-mlogloss:0.83774\tvalidation_1-mlogloss:0.93371\n",
            "[178]\tvalidation_0-mlogloss:0.83688\tvalidation_1-mlogloss:0.93359\n",
            "[179]\tvalidation_0-mlogloss:0.83615\tvalidation_1-mlogloss:0.93349\n",
            "[180]\tvalidation_0-mlogloss:0.83542\tvalidation_1-mlogloss:0.93321\n",
            "[181]\tvalidation_0-mlogloss:0.83484\tvalidation_1-mlogloss:0.93323\n",
            "[182]\tvalidation_0-mlogloss:0.83401\tvalidation_1-mlogloss:0.93319\n",
            "[183]\tvalidation_0-mlogloss:0.83336\tvalidation_1-mlogloss:0.93287\n",
            "[184]\tvalidation_0-mlogloss:0.83272\tvalidation_1-mlogloss:0.93290\n",
            "[185]\tvalidation_0-mlogloss:0.83207\tvalidation_1-mlogloss:0.93269\n",
            "[186]\tvalidation_0-mlogloss:0.83137\tvalidation_1-mlogloss:0.93259\n",
            "[187]\tvalidation_0-mlogloss:0.83078\tvalidation_1-mlogloss:0.93234\n",
            "[188]\tvalidation_0-mlogloss:0.83016\tvalidation_1-mlogloss:0.93219\n",
            "[189]\tvalidation_0-mlogloss:0.82944\tvalidation_1-mlogloss:0.93211\n",
            "[190]\tvalidation_0-mlogloss:0.82870\tvalidation_1-mlogloss:0.93202\n",
            "[191]\tvalidation_0-mlogloss:0.82813\tvalidation_1-mlogloss:0.93188\n",
            "[192]\tvalidation_0-mlogloss:0.82752\tvalidation_1-mlogloss:0.93181\n",
            "[193]\tvalidation_0-mlogloss:0.82676\tvalidation_1-mlogloss:0.93173\n",
            "[194]\tvalidation_0-mlogloss:0.82625\tvalidation_1-mlogloss:0.93157\n",
            "[195]\tvalidation_0-mlogloss:0.82557\tvalidation_1-mlogloss:0.93164\n",
            "[196]\tvalidation_0-mlogloss:0.82484\tvalidation_1-mlogloss:0.93142\n",
            "[197]\tvalidation_0-mlogloss:0.82428\tvalidation_1-mlogloss:0.93141\n",
            "[198]\tvalidation_0-mlogloss:0.82371\tvalidation_1-mlogloss:0.93136\n",
            "[199]\tvalidation_0-mlogloss:0.82300\tvalidation_1-mlogloss:0.93126\n",
            "[200]\tvalidation_0-mlogloss:0.82250\tvalidation_1-mlogloss:0.93128\n",
            "[201]\tvalidation_0-mlogloss:0.82186\tvalidation_1-mlogloss:0.93115\n",
            "[202]\tvalidation_0-mlogloss:0.82106\tvalidation_1-mlogloss:0.93106\n",
            "[203]\tvalidation_0-mlogloss:0.82027\tvalidation_1-mlogloss:0.93087\n",
            "[204]\tvalidation_0-mlogloss:0.81968\tvalidation_1-mlogloss:0.93079\n",
            "[205]\tvalidation_0-mlogloss:0.81908\tvalidation_1-mlogloss:0.93080\n",
            "[206]\tvalidation_0-mlogloss:0.81834\tvalidation_1-mlogloss:0.93061\n",
            "[207]\tvalidation_0-mlogloss:0.81778\tvalidation_1-mlogloss:0.93062\n",
            "[208]\tvalidation_0-mlogloss:0.81733\tvalidation_1-mlogloss:0.93046\n",
            "[209]\tvalidation_0-mlogloss:0.81670\tvalidation_1-mlogloss:0.93034\n",
            "[210]\tvalidation_0-mlogloss:0.81618\tvalidation_1-mlogloss:0.93032\n",
            "[211]\tvalidation_0-mlogloss:0.81550\tvalidation_1-mlogloss:0.93029\n",
            "[212]\tvalidation_0-mlogloss:0.81489\tvalidation_1-mlogloss:0.93017\n",
            "[213]\tvalidation_0-mlogloss:0.81442\tvalidation_1-mlogloss:0.93018\n",
            "[214]\tvalidation_0-mlogloss:0.81381\tvalidation_1-mlogloss:0.93009\n",
            "[215]\tvalidation_0-mlogloss:0.81309\tvalidation_1-mlogloss:0.93005\n",
            "[216]\tvalidation_0-mlogloss:0.81233\tvalidation_1-mlogloss:0.92988\n",
            "[217]\tvalidation_0-mlogloss:0.81161\tvalidation_1-mlogloss:0.92997\n",
            "[218]\tvalidation_0-mlogloss:0.81099\tvalidation_1-mlogloss:0.92995\n",
            "[219]\tvalidation_0-mlogloss:0.81045\tvalidation_1-mlogloss:0.92982\n",
            "[220]\tvalidation_0-mlogloss:0.80989\tvalidation_1-mlogloss:0.92983\n",
            "[221]\tvalidation_0-mlogloss:0.80937\tvalidation_1-mlogloss:0.92974\n",
            "[222]\tvalidation_0-mlogloss:0.80864\tvalidation_1-mlogloss:0.92966\n",
            "[223]\tvalidation_0-mlogloss:0.80801\tvalidation_1-mlogloss:0.92964\n",
            "[224]\tvalidation_0-mlogloss:0.80752\tvalidation_1-mlogloss:0.92953\n",
            "[225]\tvalidation_0-mlogloss:0.80676\tvalidation_1-mlogloss:0.92938\n",
            "[226]\tvalidation_0-mlogloss:0.80625\tvalidation_1-mlogloss:0.92931\n",
            "[227]\tvalidation_0-mlogloss:0.80558\tvalidation_1-mlogloss:0.92927\n",
            "[228]\tvalidation_0-mlogloss:0.80493\tvalidation_1-mlogloss:0.92918\n",
            "[229]\tvalidation_0-mlogloss:0.80459\tvalidation_1-mlogloss:0.92923\n",
            "[230]\tvalidation_0-mlogloss:0.80412\tvalidation_1-mlogloss:0.92919\n",
            "[231]\tvalidation_0-mlogloss:0.80352\tvalidation_1-mlogloss:0.92910\n",
            "[232]\tvalidation_0-mlogloss:0.80301\tvalidation_1-mlogloss:0.92908\n",
            "[233]\tvalidation_0-mlogloss:0.80240\tvalidation_1-mlogloss:0.92896\n",
            "[234]\tvalidation_0-mlogloss:0.80175\tvalidation_1-mlogloss:0.92888\n",
            "[235]\tvalidation_0-mlogloss:0.80126\tvalidation_1-mlogloss:0.92885\n",
            "[236]\tvalidation_0-mlogloss:0.80067\tvalidation_1-mlogloss:0.92882\n",
            "[237]\tvalidation_0-mlogloss:0.80022\tvalidation_1-mlogloss:0.92882\n",
            "[238]\tvalidation_0-mlogloss:0.79964\tvalidation_1-mlogloss:0.92879\n",
            "[239]\tvalidation_0-mlogloss:0.79909\tvalidation_1-mlogloss:0.92877\n",
            "[240]\tvalidation_0-mlogloss:0.79855\tvalidation_1-mlogloss:0.92883\n",
            "[241]\tvalidation_0-mlogloss:0.79808\tvalidation_1-mlogloss:0.92876\n",
            "[242]\tvalidation_0-mlogloss:0.79760\tvalidation_1-mlogloss:0.92863\n",
            "[243]\tvalidation_0-mlogloss:0.79693\tvalidation_1-mlogloss:0.92861\n",
            "[244]\tvalidation_0-mlogloss:0.79637\tvalidation_1-mlogloss:0.92854\n",
            "[245]\tvalidation_0-mlogloss:0.79578\tvalidation_1-mlogloss:0.92855\n",
            "[246]\tvalidation_0-mlogloss:0.79507\tvalidation_1-mlogloss:0.92846\n",
            "[247]\tvalidation_0-mlogloss:0.79458\tvalidation_1-mlogloss:0.92845\n",
            "[248]\tvalidation_0-mlogloss:0.79401\tvalidation_1-mlogloss:0.92832\n",
            "[249]\tvalidation_0-mlogloss:0.79346\tvalidation_1-mlogloss:0.92830\n",
            "[250]\tvalidation_0-mlogloss:0.79289\tvalidation_1-mlogloss:0.92839\n",
            "[251]\tvalidation_0-mlogloss:0.79216\tvalidation_1-mlogloss:0.92836\n",
            "[252]\tvalidation_0-mlogloss:0.79173\tvalidation_1-mlogloss:0.92833\n",
            "[253]\tvalidation_0-mlogloss:0.79120\tvalidation_1-mlogloss:0.92826\n",
            "[254]\tvalidation_0-mlogloss:0.79057\tvalidation_1-mlogloss:0.92827\n",
            "[255]\tvalidation_0-mlogloss:0.79017\tvalidation_1-mlogloss:0.92812\n",
            "[256]\tvalidation_0-mlogloss:0.78959\tvalidation_1-mlogloss:0.92813\n",
            "[257]\tvalidation_0-mlogloss:0.78908\tvalidation_1-mlogloss:0.92801\n",
            "[258]\tvalidation_0-mlogloss:0.78869\tvalidation_1-mlogloss:0.92792\n",
            "[259]\tvalidation_0-mlogloss:0.78828\tvalidation_1-mlogloss:0.92798\n",
            "[260]\tvalidation_0-mlogloss:0.78770\tvalidation_1-mlogloss:0.92796\n",
            "[261]\tvalidation_0-mlogloss:0.78722\tvalidation_1-mlogloss:0.92805\n",
            "[262]\tvalidation_0-mlogloss:0.78691\tvalidation_1-mlogloss:0.92817\n",
            "[263]\tvalidation_0-mlogloss:0.78637\tvalidation_1-mlogloss:0.92814\n",
            "[264]\tvalidation_0-mlogloss:0.78593\tvalidation_1-mlogloss:0.92803\n",
            "[265]\tvalidation_0-mlogloss:0.78523\tvalidation_1-mlogloss:0.92806\n",
            "[266]\tvalidation_0-mlogloss:0.78477\tvalidation_1-mlogloss:0.92801\n",
            "[267]\tvalidation_0-mlogloss:0.78421\tvalidation_1-mlogloss:0.92806\n",
            "[268]\tvalidation_0-mlogloss:0.78375\tvalidation_1-mlogloss:0.92816\n",
            "[269]\tvalidation_0-mlogloss:0.78326\tvalidation_1-mlogloss:0.92798\n",
            "[270]\tvalidation_0-mlogloss:0.78289\tvalidation_1-mlogloss:0.92790\n",
            "[271]\tvalidation_0-mlogloss:0.78234\tvalidation_1-mlogloss:0.92792\n",
            "[272]\tvalidation_0-mlogloss:0.78195\tvalidation_1-mlogloss:0.92778\n",
            "[273]\tvalidation_0-mlogloss:0.78152\tvalidation_1-mlogloss:0.92779\n",
            "[274]\tvalidation_0-mlogloss:0.78117\tvalidation_1-mlogloss:0.92784\n",
            "[275]\tvalidation_0-mlogloss:0.78078\tvalidation_1-mlogloss:0.92773\n",
            "[276]\tvalidation_0-mlogloss:0.78039\tvalidation_1-mlogloss:0.92771\n",
            "[277]\tvalidation_0-mlogloss:0.78001\tvalidation_1-mlogloss:0.92775\n",
            "[278]\tvalidation_0-mlogloss:0.77946\tvalidation_1-mlogloss:0.92775\n",
            "[279]\tvalidation_0-mlogloss:0.77884\tvalidation_1-mlogloss:0.92778\n",
            "[280]\tvalidation_0-mlogloss:0.77819\tvalidation_1-mlogloss:0.92774\n",
            "[281]\tvalidation_0-mlogloss:0.77765\tvalidation_1-mlogloss:0.92756\n",
            "[282]\tvalidation_0-mlogloss:0.77732\tvalidation_1-mlogloss:0.92742\n",
            "[283]\tvalidation_0-mlogloss:0.77666\tvalidation_1-mlogloss:0.92747\n",
            "[284]\tvalidation_0-mlogloss:0.77623\tvalidation_1-mlogloss:0.92734\n",
            "[285]\tvalidation_0-mlogloss:0.77570\tvalidation_1-mlogloss:0.92736\n",
            "[286]\tvalidation_0-mlogloss:0.77536\tvalidation_1-mlogloss:0.92733\n",
            "[287]\tvalidation_0-mlogloss:0.77490\tvalidation_1-mlogloss:0.92726\n",
            "[288]\tvalidation_0-mlogloss:0.77441\tvalidation_1-mlogloss:0.92725\n",
            "[289]\tvalidation_0-mlogloss:0.77393\tvalidation_1-mlogloss:0.92716\n",
            "[290]\tvalidation_0-mlogloss:0.77355\tvalidation_1-mlogloss:0.92710\n",
            "[291]\tvalidation_0-mlogloss:0.77319\tvalidation_1-mlogloss:0.92719\n",
            "[292]\tvalidation_0-mlogloss:0.77258\tvalidation_1-mlogloss:0.92716\n",
            "[293]\tvalidation_0-mlogloss:0.77210\tvalidation_1-mlogloss:0.92722\n",
            "[294]\tvalidation_0-mlogloss:0.77156\tvalidation_1-mlogloss:0.92726\n",
            "[295]\tvalidation_0-mlogloss:0.77095\tvalidation_1-mlogloss:0.92724\n",
            "[296]\tvalidation_0-mlogloss:0.77065\tvalidation_1-mlogloss:0.92710\n",
            "[297]\tvalidation_0-mlogloss:0.77012\tvalidation_1-mlogloss:0.92707\n",
            "[298]\tvalidation_0-mlogloss:0.76976\tvalidation_1-mlogloss:0.92709\n",
            "[299]\tvalidation_0-mlogloss:0.76912\tvalidation_1-mlogloss:0.92698\n",
            "[300]\tvalidation_0-mlogloss:0.76875\tvalidation_1-mlogloss:0.92698\n",
            "[301]\tvalidation_0-mlogloss:0.76841\tvalidation_1-mlogloss:0.92688\n",
            "[302]\tvalidation_0-mlogloss:0.76789\tvalidation_1-mlogloss:0.92692\n",
            "[303]\tvalidation_0-mlogloss:0.76742\tvalidation_1-mlogloss:0.92676\n",
            "[304]\tvalidation_0-mlogloss:0.76704\tvalidation_1-mlogloss:0.92680\n",
            "[305]\tvalidation_0-mlogloss:0.76660\tvalidation_1-mlogloss:0.92690\n",
            "[306]\tvalidation_0-mlogloss:0.76620\tvalidation_1-mlogloss:0.92693\n",
            "[307]\tvalidation_0-mlogloss:0.76578\tvalidation_1-mlogloss:0.92694\n",
            "[308]\tvalidation_0-mlogloss:0.76527\tvalidation_1-mlogloss:0.92698\n",
            "[309]\tvalidation_0-mlogloss:0.76473\tvalidation_1-mlogloss:0.92687\n",
            "[310]\tvalidation_0-mlogloss:0.76431\tvalidation_1-mlogloss:0.92683\n",
            "[311]\tvalidation_0-mlogloss:0.76379\tvalidation_1-mlogloss:0.92663\n",
            "[312]\tvalidation_0-mlogloss:0.76330\tvalidation_1-mlogloss:0.92668\n",
            "[313]\tvalidation_0-mlogloss:0.76291\tvalidation_1-mlogloss:0.92675\n",
            "[314]\tvalidation_0-mlogloss:0.76239\tvalidation_1-mlogloss:0.92680\n",
            "[315]\tvalidation_0-mlogloss:0.76195\tvalidation_1-mlogloss:0.92673\n",
            "[316]\tvalidation_0-mlogloss:0.76163\tvalidation_1-mlogloss:0.92666\n",
            "[317]\tvalidation_0-mlogloss:0.76120\tvalidation_1-mlogloss:0.92659\n",
            "[318]\tvalidation_0-mlogloss:0.76061\tvalidation_1-mlogloss:0.92652\n",
            "[319]\tvalidation_0-mlogloss:0.76008\tvalidation_1-mlogloss:0.92651\n",
            "[320]\tvalidation_0-mlogloss:0.75968\tvalidation_1-mlogloss:0.92648\n",
            "[321]\tvalidation_0-mlogloss:0.75928\tvalidation_1-mlogloss:0.92647\n",
            "[322]\tvalidation_0-mlogloss:0.75871\tvalidation_1-mlogloss:0.92639\n",
            "[323]\tvalidation_0-mlogloss:0.75828\tvalidation_1-mlogloss:0.92637\n",
            "[324]\tvalidation_0-mlogloss:0.75784\tvalidation_1-mlogloss:0.92627\n",
            "[325]\tvalidation_0-mlogloss:0.75750\tvalidation_1-mlogloss:0.92623\n",
            "[326]\tvalidation_0-mlogloss:0.75708\tvalidation_1-mlogloss:0.92630\n",
            "[327]\tvalidation_0-mlogloss:0.75665\tvalidation_1-mlogloss:0.92630\n",
            "[328]\tvalidation_0-mlogloss:0.75612\tvalidation_1-mlogloss:0.92634\n",
            "[329]\tvalidation_0-mlogloss:0.75570\tvalidation_1-mlogloss:0.92631\n",
            "[330]\tvalidation_0-mlogloss:0.75541\tvalidation_1-mlogloss:0.92630\n",
            "[331]\tvalidation_0-mlogloss:0.75503\tvalidation_1-mlogloss:0.92628\n",
            "[332]\tvalidation_0-mlogloss:0.75451\tvalidation_1-mlogloss:0.92628\n",
            "[333]\tvalidation_0-mlogloss:0.75412\tvalidation_1-mlogloss:0.92629\n",
            "[334]\tvalidation_0-mlogloss:0.75366\tvalidation_1-mlogloss:0.92626\n",
            "[335]\tvalidation_0-mlogloss:0.75320\tvalidation_1-mlogloss:0.92627\n",
            "[336]\tvalidation_0-mlogloss:0.75263\tvalidation_1-mlogloss:0.92632\n",
            "[337]\tvalidation_0-mlogloss:0.75232\tvalidation_1-mlogloss:0.92627\n",
            "[338]\tvalidation_0-mlogloss:0.75195\tvalidation_1-mlogloss:0.92638\n",
            "[339]\tvalidation_0-mlogloss:0.75140\tvalidation_1-mlogloss:0.92633\n",
            "[340]\tvalidation_0-mlogloss:0.75109\tvalidation_1-mlogloss:0.92628\n",
            "[341]\tvalidation_0-mlogloss:0.75065\tvalidation_1-mlogloss:0.92621\n",
            "[342]\tvalidation_0-mlogloss:0.75023\tvalidation_1-mlogloss:0.92622\n",
            "[343]\tvalidation_0-mlogloss:0.74995\tvalidation_1-mlogloss:0.92618\n",
            "[344]\tvalidation_0-mlogloss:0.74944\tvalidation_1-mlogloss:0.92619\n",
            "[345]\tvalidation_0-mlogloss:0.74906\tvalidation_1-mlogloss:0.92613\n",
            "[346]\tvalidation_0-mlogloss:0.74854\tvalidation_1-mlogloss:0.92610\n",
            "[347]\tvalidation_0-mlogloss:0.74796\tvalidation_1-mlogloss:0.92603\n",
            "[348]\tvalidation_0-mlogloss:0.74750\tvalidation_1-mlogloss:0.92601\n",
            "[349]\tvalidation_0-mlogloss:0.74712\tvalidation_1-mlogloss:0.92607\n",
            "[350]\tvalidation_0-mlogloss:0.74661\tvalidation_1-mlogloss:0.92612\n",
            "[351]\tvalidation_0-mlogloss:0.74612\tvalidation_1-mlogloss:0.92604\n",
            "[352]\tvalidation_0-mlogloss:0.74574\tvalidation_1-mlogloss:0.92610\n",
            "[353]\tvalidation_0-mlogloss:0.74534\tvalidation_1-mlogloss:0.92609\n",
            "[354]\tvalidation_0-mlogloss:0.74490\tvalidation_1-mlogloss:0.92608\n",
            "[355]\tvalidation_0-mlogloss:0.74457\tvalidation_1-mlogloss:0.92612\n",
            "[356]\tvalidation_0-mlogloss:0.74412\tvalidation_1-mlogloss:0.92602\n",
            "[357]\tvalidation_0-mlogloss:0.74366\tvalidation_1-mlogloss:0.92605\n",
            "[358]\tvalidation_0-mlogloss:0.74310\tvalidation_1-mlogloss:0.92582\n",
            "[359]\tvalidation_0-mlogloss:0.74288\tvalidation_1-mlogloss:0.92581\n",
            "[360]\tvalidation_0-mlogloss:0.74255\tvalidation_1-mlogloss:0.92584\n",
            "[361]\tvalidation_0-mlogloss:0.74222\tvalidation_1-mlogloss:0.92578\n",
            "[362]\tvalidation_0-mlogloss:0.74187\tvalidation_1-mlogloss:0.92577\n",
            "[363]\tvalidation_0-mlogloss:0.74144\tvalidation_1-mlogloss:0.92579\n",
            "[364]\tvalidation_0-mlogloss:0.74101\tvalidation_1-mlogloss:0.92587\n",
            "[365]\tvalidation_0-mlogloss:0.74062\tvalidation_1-mlogloss:0.92581\n",
            "[366]\tvalidation_0-mlogloss:0.74029\tvalidation_1-mlogloss:0.92571\n",
            "[367]\tvalidation_0-mlogloss:0.73980\tvalidation_1-mlogloss:0.92556\n",
            "[368]\tvalidation_0-mlogloss:0.73934\tvalidation_1-mlogloss:0.92560\n",
            "[369]\tvalidation_0-mlogloss:0.73896\tvalidation_1-mlogloss:0.92571\n",
            "[370]\tvalidation_0-mlogloss:0.73844\tvalidation_1-mlogloss:0.92574\n",
            "[371]\tvalidation_0-mlogloss:0.73799\tvalidation_1-mlogloss:0.92580\n",
            "[372]\tvalidation_0-mlogloss:0.73753\tvalidation_1-mlogloss:0.92573\n",
            "[373]\tvalidation_0-mlogloss:0.73718\tvalidation_1-mlogloss:0.92578\n",
            "[374]\tvalidation_0-mlogloss:0.73677\tvalidation_1-mlogloss:0.92577\n",
            "[375]\tvalidation_0-mlogloss:0.73647\tvalidation_1-mlogloss:0.92580\n",
            "[376]\tvalidation_0-mlogloss:0.73605\tvalidation_1-mlogloss:0.92573\n",
            "[377]\tvalidation_0-mlogloss:0.73566\tvalidation_1-mlogloss:0.92564\n",
            "[378]\tvalidation_0-mlogloss:0.73524\tvalidation_1-mlogloss:0.92548\n",
            "[379]\tvalidation_0-mlogloss:0.73488\tvalidation_1-mlogloss:0.92556\n",
            "[380]\tvalidation_0-mlogloss:0.73455\tvalidation_1-mlogloss:0.92551\n",
            "[381]\tvalidation_0-mlogloss:0.73428\tvalidation_1-mlogloss:0.92545\n",
            "[382]\tvalidation_0-mlogloss:0.73391\tvalidation_1-mlogloss:0.92539\n",
            "[383]\tvalidation_0-mlogloss:0.73344\tvalidation_1-mlogloss:0.92539\n",
            "[384]\tvalidation_0-mlogloss:0.73309\tvalidation_1-mlogloss:0.92546\n",
            "[385]\tvalidation_0-mlogloss:0.73282\tvalidation_1-mlogloss:0.92546\n",
            "[386]\tvalidation_0-mlogloss:0.73236\tvalidation_1-mlogloss:0.92542\n",
            "[387]\tvalidation_0-mlogloss:0.73174\tvalidation_1-mlogloss:0.92555\n",
            "[388]\tvalidation_0-mlogloss:0.73134\tvalidation_1-mlogloss:0.92548\n",
            "[389]\tvalidation_0-mlogloss:0.73098\tvalidation_1-mlogloss:0.92539\n",
            "[390]\tvalidation_0-mlogloss:0.73046\tvalidation_1-mlogloss:0.92532\n",
            "[391]\tvalidation_0-mlogloss:0.73011\tvalidation_1-mlogloss:0.92531\n",
            "[392]\tvalidation_0-mlogloss:0.72982\tvalidation_1-mlogloss:0.92533\n",
            "[393]\tvalidation_0-mlogloss:0.72929\tvalidation_1-mlogloss:0.92531\n",
            "[394]\tvalidation_0-mlogloss:0.72890\tvalidation_1-mlogloss:0.92528\n",
            "[395]\tvalidation_0-mlogloss:0.72852\tvalidation_1-mlogloss:0.92532\n",
            "[396]\tvalidation_0-mlogloss:0.72819\tvalidation_1-mlogloss:0.92525\n",
            "[397]\tvalidation_0-mlogloss:0.72781\tvalidation_1-mlogloss:0.92527\n",
            "[398]\tvalidation_0-mlogloss:0.72735\tvalidation_1-mlogloss:0.92525\n",
            "[399]\tvalidation_0-mlogloss:0.72695\tvalidation_1-mlogloss:0.92526\n",
            "[400]\tvalidation_0-mlogloss:0.72672\tvalidation_1-mlogloss:0.92526\n",
            "[401]\tvalidation_0-mlogloss:0.72640\tvalidation_1-mlogloss:0.92535\n",
            "[402]\tvalidation_0-mlogloss:0.72604\tvalidation_1-mlogloss:0.92547\n",
            "[403]\tvalidation_0-mlogloss:0.72573\tvalidation_1-mlogloss:0.92551\n",
            "[404]\tvalidation_0-mlogloss:0.72537\tvalidation_1-mlogloss:0.92535\n",
            "[405]\tvalidation_0-mlogloss:0.72504\tvalidation_1-mlogloss:0.92527\n",
            "[406]\tvalidation_0-mlogloss:0.72477\tvalidation_1-mlogloss:0.92531\n",
            "[407]\tvalidation_0-mlogloss:0.72443\tvalidation_1-mlogloss:0.92529\n",
            "[408]\tvalidation_0-mlogloss:0.72377\tvalidation_1-mlogloss:0.92531\n",
            "[409]\tvalidation_0-mlogloss:0.72346\tvalidation_1-mlogloss:0.92523\n",
            "[410]\tvalidation_0-mlogloss:0.72320\tvalidation_1-mlogloss:0.92523\n",
            "[411]\tvalidation_0-mlogloss:0.72285\tvalidation_1-mlogloss:0.92526\n",
            "[412]\tvalidation_0-mlogloss:0.72230\tvalidation_1-mlogloss:0.92532\n",
            "[413]\tvalidation_0-mlogloss:0.72184\tvalidation_1-mlogloss:0.92522\n",
            "[414]\tvalidation_0-mlogloss:0.72139\tvalidation_1-mlogloss:0.92516\n",
            "[415]\tvalidation_0-mlogloss:0.72105\tvalidation_1-mlogloss:0.92517\n",
            "[416]\tvalidation_0-mlogloss:0.72075\tvalidation_1-mlogloss:0.92517\n",
            "[417]\tvalidation_0-mlogloss:0.72048\tvalidation_1-mlogloss:0.92511\n",
            "[418]\tvalidation_0-mlogloss:0.72029\tvalidation_1-mlogloss:0.92508\n",
            "[419]\tvalidation_0-mlogloss:0.71988\tvalidation_1-mlogloss:0.92506\n",
            "[420]\tvalidation_0-mlogloss:0.71958\tvalidation_1-mlogloss:0.92507\n",
            "[421]\tvalidation_0-mlogloss:0.71926\tvalidation_1-mlogloss:0.92517\n",
            "[422]\tvalidation_0-mlogloss:0.71872\tvalidation_1-mlogloss:0.92516\n",
            "[423]\tvalidation_0-mlogloss:0.71846\tvalidation_1-mlogloss:0.92521\n",
            "[424]\tvalidation_0-mlogloss:0.71808\tvalidation_1-mlogloss:0.92527\n",
            "[425]\tvalidation_0-mlogloss:0.71772\tvalidation_1-mlogloss:0.92526\n",
            "[426]\tvalidation_0-mlogloss:0.71734\tvalidation_1-mlogloss:0.92524\n",
            "[427]\tvalidation_0-mlogloss:0.71701\tvalidation_1-mlogloss:0.92519\n",
            "[428]\tvalidation_0-mlogloss:0.71670\tvalidation_1-mlogloss:0.92522\n",
            "[429]\tvalidation_0-mlogloss:0.71636\tvalidation_1-mlogloss:0.92516\n",
            "[430]\tvalidation_0-mlogloss:0.71593\tvalidation_1-mlogloss:0.92511\n",
            "[431]\tvalidation_0-mlogloss:0.71555\tvalidation_1-mlogloss:0.92506\n",
            "[432]\tvalidation_0-mlogloss:0.71515\tvalidation_1-mlogloss:0.92511\n",
            "[433]\tvalidation_0-mlogloss:0.71486\tvalidation_1-mlogloss:0.92508\n",
            "[434]\tvalidation_0-mlogloss:0.71462\tvalidation_1-mlogloss:0.92506\n",
            "[435]\tvalidation_0-mlogloss:0.71416\tvalidation_1-mlogloss:0.92514\n",
            "[436]\tvalidation_0-mlogloss:0.71388\tvalidation_1-mlogloss:0.92515\n",
            "[437]\tvalidation_0-mlogloss:0.71346\tvalidation_1-mlogloss:0.92516\n",
            "[438]\tvalidation_0-mlogloss:0.71295\tvalidation_1-mlogloss:0.92513\n",
            "[439]\tvalidation_0-mlogloss:0.71247\tvalidation_1-mlogloss:0.92516\n",
            "[440]\tvalidation_0-mlogloss:0.71211\tvalidation_1-mlogloss:0.92500\n",
            "[441]\tvalidation_0-mlogloss:0.71179\tvalidation_1-mlogloss:0.92502\n",
            "[442]\tvalidation_0-mlogloss:0.71129\tvalidation_1-mlogloss:0.92514\n",
            "[443]\tvalidation_0-mlogloss:0.71091\tvalidation_1-mlogloss:0.92532\n",
            "[444]\tvalidation_0-mlogloss:0.71058\tvalidation_1-mlogloss:0.92530\n",
            "[445]\tvalidation_0-mlogloss:0.71029\tvalidation_1-mlogloss:0.92532\n",
            "[446]\tvalidation_0-mlogloss:0.70989\tvalidation_1-mlogloss:0.92535\n",
            "[447]\tvalidation_0-mlogloss:0.70962\tvalidation_1-mlogloss:0.92529\n",
            "[448]\tvalidation_0-mlogloss:0.70924\tvalidation_1-mlogloss:0.92530\n",
            "[449]\tvalidation_0-mlogloss:0.70894\tvalidation_1-mlogloss:0.92531\n",
            "[450]\tvalidation_0-mlogloss:0.70853\tvalidation_1-mlogloss:0.92542\n",
            "[451]\tvalidation_0-mlogloss:0.70816\tvalidation_1-mlogloss:0.92539\n",
            "[452]\tvalidation_0-mlogloss:0.70784\tvalidation_1-mlogloss:0.92534\n",
            "[453]\tvalidation_0-mlogloss:0.70755\tvalidation_1-mlogloss:0.92542\n",
            "[454]\tvalidation_0-mlogloss:0.70721\tvalidation_1-mlogloss:0.92547\n",
            "[455]\tvalidation_0-mlogloss:0.70672\tvalidation_1-mlogloss:0.92549\n",
            "[456]\tvalidation_0-mlogloss:0.70635\tvalidation_1-mlogloss:0.92538\n",
            "[457]\tvalidation_0-mlogloss:0.70603\tvalidation_1-mlogloss:0.92547\n",
            "[458]\tvalidation_0-mlogloss:0.70573\tvalidation_1-mlogloss:0.92549\n",
            "[459]\tvalidation_0-mlogloss:0.70549\tvalidation_1-mlogloss:0.92545\n",
            "[460]\tvalidation_0-mlogloss:0.70517\tvalidation_1-mlogloss:0.92551\n",
            "[461]\tvalidation_0-mlogloss:0.70484\tvalidation_1-mlogloss:0.92549\n",
            "[462]\tvalidation_0-mlogloss:0.70453\tvalidation_1-mlogloss:0.92553\n",
            "[463]\tvalidation_0-mlogloss:0.70412\tvalidation_1-mlogloss:0.92551\n",
            "[464]\tvalidation_0-mlogloss:0.70390\tvalidation_1-mlogloss:0.92550\n",
            "[465]\tvalidation_0-mlogloss:0.70352\tvalidation_1-mlogloss:0.92555\n",
            "[466]\tvalidation_0-mlogloss:0.70305\tvalidation_1-mlogloss:0.92548\n",
            "[467]\tvalidation_0-mlogloss:0.70266\tvalidation_1-mlogloss:0.92551\n",
            "[468]\tvalidation_0-mlogloss:0.70243\tvalidation_1-mlogloss:0.92562\n",
            "[469]\tvalidation_0-mlogloss:0.70208\tvalidation_1-mlogloss:0.92563\n",
            "[470]\tvalidation_0-mlogloss:0.70179\tvalidation_1-mlogloss:0.92573\n",
            "[471]\tvalidation_0-mlogloss:0.70156\tvalidation_1-mlogloss:0.92574\n",
            "[472]\tvalidation_0-mlogloss:0.70130\tvalidation_1-mlogloss:0.92573\n",
            "[473]\tvalidation_0-mlogloss:0.70103\tvalidation_1-mlogloss:0.92574\n",
            "[474]\tvalidation_0-mlogloss:0.70057\tvalidation_1-mlogloss:0.92571\n",
            "[475]\tvalidation_0-mlogloss:0.70012\tvalidation_1-mlogloss:0.92575\n",
            "[476]\tvalidation_0-mlogloss:0.69996\tvalidation_1-mlogloss:0.92586\n",
            "[477]\tvalidation_0-mlogloss:0.69960\tvalidation_1-mlogloss:0.92585\n",
            "[478]\tvalidation_0-mlogloss:0.69917\tvalidation_1-mlogloss:0.92579\n",
            "[479]\tvalidation_0-mlogloss:0.69890\tvalidation_1-mlogloss:0.92578\n",
            "[480]\tvalidation_0-mlogloss:0.69859\tvalidation_1-mlogloss:0.92559\n",
            "[481]\tvalidation_0-mlogloss:0.69836\tvalidation_1-mlogloss:0.92567\n",
            "[482]\tvalidation_0-mlogloss:0.69783\tvalidation_1-mlogloss:0.92584\n",
            "[483]\tvalidation_0-mlogloss:0.69764\tvalidation_1-mlogloss:0.92591\n",
            "[484]\tvalidation_0-mlogloss:0.69730\tvalidation_1-mlogloss:0.92594\n",
            "[485]\tvalidation_0-mlogloss:0.69688\tvalidation_1-mlogloss:0.92594\n",
            "[486]\tvalidation_0-mlogloss:0.69641\tvalidation_1-mlogloss:0.92593\n",
            "[487]\tvalidation_0-mlogloss:0.69618\tvalidation_1-mlogloss:0.92604\n",
            "[488]\tvalidation_0-mlogloss:0.69578\tvalidation_1-mlogloss:0.92590\n",
            "[489]\tvalidation_0-mlogloss:0.69546\tvalidation_1-mlogloss:0.92588\n",
            "XGBoost log loss: 0.9250030036443782\n",
            "XGBoost accuracy: 0.6185993975903614\n",
            "XGBoost log loss (pre-test): 0.9447379189296771\n",
            "XGBoost accuracy (pre-test): 0.5956112852664577\n",
            "Predicting with XGBoost...\n",
            "Selecting features based on gain...\n",
            "147 features selected from XGBoost.\n",
            "Fitting MLP (prediction). 147 features\n"
          ]
        },
        {
          "output_type": "stream",
          "name": "stderr",
          "text": [
            "<ipython-input-5-81f1d15ad6d4>:284: SettingWithCopyWarning: \n",
            "A value is trying to be set on a copy of a slice from a DataFrame.\n",
            "Try using .loc[row_indexer,col_indexer] = value instead\n",
            "\n",
            "See the caveats in the documentation: https://pandas.pydata.org/pandas-docs/stable/user_guide/indexing.html#returning-a-view-versus-a-copy\n",
            "  X[var] = le.fit_transform(X[var])\n",
            "<ipython-input-5-81f1d15ad6d4>:284: SettingWithCopyWarning: \n",
            "A value is trying to be set on a copy of a slice from a DataFrame.\n",
            "Try using .loc[row_indexer,col_indexer] = value instead\n",
            "\n",
            "See the caveats in the documentation: https://pandas.pydata.org/pandas-docs/stable/user_guide/indexing.html#returning-a-view-versus-a-copy\n",
            "  X[var] = le.fit_transform(X[var])\n"
          ]
        },
        {
          "output_type": "stream",
          "name": "stdout",
          "text": [
            "Epoch 1:\n"
          ]
        },
        {
          "output_type": "stream",
          "name": "stderr",
          "text": [
            "100%|██████████| 10/10 [00:02<00:00,  3.42it/s]\n"
          ]
        },
        {
          "output_type": "stream",
          "name": "stdout",
          "text": [
            "Training loss: 1.9448517441749573\n"
          ]
        },
        {
          "output_type": "stream",
          "name": "stderr",
          "text": [
            "100%|██████████| 6/6 [00:00<00:00, 41.70it/s]\n"
          ]
        },
        {
          "output_type": "stream",
          "name": "stdout",
          "text": [
            "Validation loss: 1.9361143112182617\n",
            "Validation accuracy: 0.26242467761039734\n",
            "Epoch 2:\n"
          ]
        },
        {
          "output_type": "stream",
          "name": "stderr",
          "text": [
            "100%|██████████| 10/10 [00:00<00:00, 22.01it/s]\n"
          ]
        },
        {
          "output_type": "stream",
          "name": "stdout",
          "text": [
            "Training loss: 1.3222037434577942\n"
          ]
        },
        {
          "output_type": "stream",
          "name": "stderr",
          "text": [
            "100%|██████████| 6/6 [00:00<00:00, 63.02it/s]\n"
          ]
        },
        {
          "output_type": "stream",
          "name": "stdout",
          "text": [
            "Validation loss: 1.5226052403450012\n",
            "Validation accuracy: 0.3177710771560669\n",
            "Epoch 3:\n"
          ]
        },
        {
          "output_type": "stream",
          "name": "stderr",
          "text": [
            "100%|██████████| 10/10 [00:00<00:00, 31.61it/s]\n"
          ]
        },
        {
          "output_type": "stream",
          "name": "stdout",
          "text": [
            "Training loss: 1.2420682907104492\n"
          ]
        },
        {
          "output_type": "stream",
          "name": "stderr",
          "text": [
            "100%|██████████| 6/6 [00:00<00:00, 88.08it/s]\n"
          ]
        },
        {
          "output_type": "stream",
          "name": "stdout",
          "text": [
            "Validation loss: 1.5201828082402546\n",
            "Validation accuracy: 0.3027108311653137\n",
            "Epoch 4:\n"
          ]
        },
        {
          "output_type": "stream",
          "name": "stderr",
          "text": [
            "100%|██████████| 10/10 [00:00<00:00, 29.67it/s]\n"
          ]
        },
        {
          "output_type": "stream",
          "name": "stdout",
          "text": [
            "Training loss: 1.2217349052429198\n"
          ]
        },
        {
          "output_type": "stream",
          "name": "stderr",
          "text": [
            "100%|██████████| 6/6 [00:00<00:00, 125.35it/s]\n"
          ]
        },
        {
          "output_type": "stream",
          "name": "stdout",
          "text": [
            "Validation loss: 1.5078978141148884\n",
            "Validation accuracy: 0.30835843086242676\n",
            "Epoch 5:\n"
          ]
        },
        {
          "output_type": "stream",
          "name": "stderr",
          "text": [
            "100%|██████████| 10/10 [00:00<00:00, 52.15it/s]\n"
          ]
        },
        {
          "output_type": "stream",
          "name": "stdout",
          "text": [
            "Training loss: 1.1875154376029968\n"
          ]
        },
        {
          "output_type": "stream",
          "name": "stderr",
          "text": [
            "100%|██████████| 6/6 [00:00<00:00, 73.91it/s]\n"
          ]
        },
        {
          "output_type": "stream",
          "name": "stdout",
          "text": [
            "Validation loss: 1.5149393876393635\n",
            "Validation accuracy: 0.31287649273872375\n",
            "Epoch 6:\n"
          ]
        },
        {
          "output_type": "stream",
          "name": "stderr",
          "text": [
            "100%|██████████| 10/10 [00:00<00:00, 52.54it/s]\n"
          ]
        },
        {
          "output_type": "stream",
          "name": "stdout",
          "text": [
            "Training loss: 1.1877207040786744\n"
          ]
        },
        {
          "output_type": "stream",
          "name": "stderr",
          "text": [
            "100%|██████████| 6/6 [00:00<00:00, 110.76it/s]\n"
          ]
        },
        {
          "output_type": "stream",
          "name": "stdout",
          "text": [
            "Validation loss: 1.486741026242574\n",
            "Validation accuracy: 0.3237951695919037\n",
            "Epoch 7:\n"
          ]
        },
        {
          "output_type": "stream",
          "name": "stderr",
          "text": [
            "100%|██████████| 10/10 [00:00<00:00, 101.66it/s]\n"
          ]
        },
        {
          "output_type": "stream",
          "name": "stdout",
          "text": [
            "Training loss: 1.183519446849823\n"
          ]
        },
        {
          "output_type": "stream",
          "name": "stderr",
          "text": [
            "100%|██████████| 6/6 [00:00<00:00, 220.14it/s]\n"
          ]
        },
        {
          "output_type": "stream",
          "name": "stdout",
          "text": [
            "Validation loss: 1.4652045369148254\n",
            "Validation accuracy: 0.33734938502311707\n",
            "Epoch 8:\n"
          ]
        },
        {
          "output_type": "stream",
          "name": "stderr",
          "text": [
            "100%|██████████| 10/10 [00:00<00:00, 85.66it/s]\n"
          ]
        },
        {
          "output_type": "stream",
          "name": "stdout",
          "text": [
            "Training loss: 1.1839256405830383\n"
          ]
        },
        {
          "output_type": "stream",
          "name": "stderr",
          "text": [
            "100%|██████████| 6/6 [00:00<00:00, 62.89it/s]\n"
          ]
        },
        {
          "output_type": "stream",
          "name": "stdout",
          "text": [
            "Validation loss: 1.4550331830978394\n",
            "Validation accuracy: 0.3294427692890167\n",
            "Epoch 9:\n"
          ]
        },
        {
          "output_type": "stream",
          "name": "stderr",
          "text": [
            "100%|██████████| 10/10 [00:00<00:00, 86.81it/s]\n"
          ]
        },
        {
          "output_type": "stream",
          "name": "stdout",
          "text": [
            "Training loss: 1.193785011768341\n"
          ]
        },
        {
          "output_type": "stream",
          "name": "stderr",
          "text": [
            "100%|██████████| 6/6 [00:00<00:00, 217.99it/s]\n"
          ]
        },
        {
          "output_type": "stream",
          "name": "stdout",
          "text": [
            "Validation loss: 1.393255611260732\n",
            "Validation accuracy: 0.375\n",
            "Epoch 10:\n"
          ]
        },
        {
          "output_type": "stream",
          "name": "stderr",
          "text": [
            "100%|██████████| 10/10 [00:00<00:00, 71.41it/s]\n"
          ]
        },
        {
          "output_type": "stream",
          "name": "stdout",
          "text": [
            "Training loss: 1.1972810983657838\n"
          ]
        },
        {
          "output_type": "stream",
          "name": "stderr",
          "text": [
            "100%|██████████| 6/6 [00:00<00:00, 80.08it/s]\n"
          ]
        },
        {
          "output_type": "stream",
          "name": "stdout",
          "text": [
            "Validation loss: 1.3068257371584575\n",
            "Validation accuracy: 0.4017319083213806\n",
            "Epoch 11:\n"
          ]
        },
        {
          "output_type": "stream",
          "name": "stderr",
          "text": [
            "100%|██████████| 10/10 [00:00<00:00, 49.79it/s]\n"
          ]
        },
        {
          "output_type": "stream",
          "name": "stdout",
          "text": [
            "Training loss: 1.1831812143325806\n"
          ]
        },
        {
          "output_type": "stream",
          "name": "stderr",
          "text": [
            "100%|██████████| 6/6 [00:00<00:00, 75.58it/s]\n"
          ]
        },
        {
          "output_type": "stream",
          "name": "stdout",
          "text": [
            "Validation loss: 1.2403119603792827\n",
            "Validation accuracy: 0.43260541558265686\n",
            "Epoch 12:\n"
          ]
        },
        {
          "output_type": "stream",
          "name": "stderr",
          "text": [
            "100%|██████████| 10/10 [00:00<00:00, 37.72it/s]\n"
          ]
        },
        {
          "output_type": "stream",
          "name": "stdout",
          "text": [
            "Training loss: 1.186460030078888\n"
          ]
        },
        {
          "output_type": "stream",
          "name": "stderr",
          "text": [
            "100%|██████████| 6/6 [00:00<00:00, 68.38it/s]\n"
          ]
        },
        {
          "output_type": "stream",
          "name": "stdout",
          "text": [
            "Validation loss: 1.1979354818662007\n",
            "Validation accuracy: 0.47289153933525085\n",
            "Epoch 13:\n"
          ]
        },
        {
          "output_type": "stream",
          "name": "stderr",
          "text": [
            "100%|██████████| 10/10 [00:00<00:00, 48.85it/s]\n"
          ]
        },
        {
          "output_type": "stream",
          "name": "stdout",
          "text": [
            "Training loss: 1.1919241905212403\n"
          ]
        },
        {
          "output_type": "stream",
          "name": "stderr",
          "text": [
            "100%|██████████| 6/6 [00:00<00:00, 126.11it/s]\n"
          ]
        },
        {
          "output_type": "stream",
          "name": "stdout",
          "text": [
            "Validation loss: 1.184757669766744\n",
            "Validation accuracy: 0.4604668617248535\n",
            "Epoch 14:\n"
          ]
        },
        {
          "output_type": "stream",
          "name": "stderr",
          "text": [
            "100%|██████████| 10/10 [00:00<00:00, 36.68it/s]\n"
          ]
        },
        {
          "output_type": "stream",
          "name": "stdout",
          "text": [
            "Training loss: 1.187947392463684\n"
          ]
        },
        {
          "output_type": "stream",
          "name": "stderr",
          "text": [
            "100%|██████████| 6/6 [00:00<00:00, 38.75it/s]\n"
          ]
        },
        {
          "output_type": "stream",
          "name": "stdout",
          "text": [
            "Validation loss: 1.1700292030970256\n",
            "Validation accuracy: 0.4815512001514435\n",
            "Epoch 15:\n"
          ]
        },
        {
          "output_type": "stream",
          "name": "stderr",
          "text": [
            "100%|██████████| 10/10 [00:00<00:00, 48.51it/s]\n"
          ]
        },
        {
          "output_type": "stream",
          "name": "stdout",
          "text": [
            "Training loss: 1.1857661724090576\n"
          ]
        },
        {
          "output_type": "stream",
          "name": "stderr",
          "text": [
            "100%|██████████| 6/6 [00:00<00:00, 50.19it/s]\n"
          ]
        },
        {
          "output_type": "stream",
          "name": "stdout",
          "text": [
            "Validation loss: 1.1895888050397236\n",
            "Validation accuracy: 0.47891563177108765\n",
            "Epoch 16:\n"
          ]
        },
        {
          "output_type": "stream",
          "name": "stderr",
          "text": [
            "100%|██████████| 10/10 [00:00<00:00, 39.67it/s]\n"
          ]
        },
        {
          "output_type": "stream",
          "name": "stdout",
          "text": [
            "Training loss: 1.1953261375427247\n"
          ]
        },
        {
          "output_type": "stream",
          "name": "stderr",
          "text": [
            "100%|██████████| 6/6 [00:00<00:00, 129.45it/s]\n"
          ]
        },
        {
          "output_type": "stream",
          "name": "stdout",
          "text": [
            "Validation loss: 1.1852950652440388\n",
            "Validation accuracy: 0.47364455461502075\n",
            "Epoch 17:\n"
          ]
        },
        {
          "output_type": "stream",
          "name": "stderr",
          "text": [
            "100%|██████████| 10/10 [00:00<00:00, 42.75it/s]\n"
          ]
        },
        {
          "output_type": "stream",
          "name": "stdout",
          "text": [
            "Training loss: 1.1814900875091552\n"
          ]
        },
        {
          "output_type": "stream",
          "name": "stderr",
          "text": [
            "100%|██████████| 6/6 [00:00<00:00, 49.10it/s]\n"
          ]
        },
        {
          "output_type": "stream",
          "name": "stdout",
          "text": [
            "Validation loss: 1.1949101686477661\n",
            "Validation accuracy: 0.47891563177108765\n",
            "Epoch 18:\n"
          ]
        },
        {
          "output_type": "stream",
          "name": "stderr",
          "text": [
            "100%|██████████| 10/10 [00:00<00:00, 42.82it/s]\n"
          ]
        },
        {
          "output_type": "stream",
          "name": "stdout",
          "text": [
            "Training loss: 1.1953205227851869\n"
          ]
        },
        {
          "output_type": "stream",
          "name": "stderr",
          "text": [
            "100%|██████████| 6/6 [00:00<00:00, 109.76it/s]\n"
          ]
        },
        {
          "output_type": "stream",
          "name": "stdout",
          "text": [
            "Validation loss: 1.196543534596761\n",
            "Validation accuracy: 0.482304185628891\n",
            "Epoch 19:\n"
          ]
        },
        {
          "output_type": "stream",
          "name": "stderr",
          "text": [
            "100%|██████████| 10/10 [00:00<00:00, 29.64it/s]\n"
          ]
        },
        {
          "output_type": "stream",
          "name": "stdout",
          "text": [
            "Training loss: 1.2017346739768981\n"
          ]
        },
        {
          "output_type": "stream",
          "name": "stderr",
          "text": [
            "100%|██████████| 6/6 [00:00<00:00, 93.64it/s]\n"
          ]
        },
        {
          "output_type": "stream",
          "name": "stdout",
          "text": [
            "Validation loss: 1.1962031523386638\n",
            "Validation accuracy: 0.473268061876297\n",
            "Epoch 20:\n"
          ]
        },
        {
          "output_type": "stream",
          "name": "stderr",
          "text": [
            "100%|██████████| 10/10 [00:00<00:00, 35.72it/s]\n"
          ]
        },
        {
          "output_type": "stream",
          "name": "stdout",
          "text": [
            "Training loss: 1.1952815532684327\n"
          ]
        },
        {
          "output_type": "stream",
          "name": "stderr",
          "text": [
            "100%|██████████| 6/6 [00:00<00:00, 101.04it/s]\n"
          ]
        },
        {
          "output_type": "stream",
          "name": "stdout",
          "text": [
            "Validation loss: 1.1790241797765095\n",
            "Validation accuracy: 0.45783132314682007\n",
            "Epoch 21:\n"
          ]
        },
        {
          "output_type": "stream",
          "name": "stderr",
          "text": [
            "100%|██████████| 10/10 [00:00<00:00, 23.75it/s]\n"
          ]
        },
        {
          "output_type": "stream",
          "name": "stdout",
          "text": [
            "Training loss: 1.1962046146392822\n"
          ]
        },
        {
          "output_type": "stream",
          "name": "stderr",
          "text": [
            "100%|██████████| 6/6 [00:00<00:00, 201.53it/s]\n"
          ]
        },
        {
          "output_type": "stream",
          "name": "stdout",
          "text": [
            "Validation loss: 1.1700494488080342\n",
            "Validation accuracy: 0.49585840106010437\n",
            "Epoch 22:\n"
          ]
        },
        {
          "output_type": "stream",
          "name": "stderr",
          "text": [
            "100%|██████████| 10/10 [00:00<00:00, 102.38it/s]\n"
          ]
        },
        {
          "output_type": "stream",
          "name": "stdout",
          "text": [
            "Training loss: 1.1826546788215637\n"
          ]
        },
        {
          "output_type": "stream",
          "name": "stderr",
          "text": [
            "100%|██████████| 6/6 [00:00<00:00, 209.03it/s]\n"
          ]
        },
        {
          "output_type": "stream",
          "name": "stdout",
          "text": [
            "Validation loss: 1.1910842855771382\n",
            "Validation accuracy: 0.477786123752594\n",
            "Epoch 23:\n"
          ]
        },
        {
          "output_type": "stream",
          "name": "stderr",
          "text": [
            "100%|██████████| 10/10 [00:00<00:00, 111.14it/s]\n"
          ]
        },
        {
          "output_type": "stream",
          "name": "stdout",
          "text": [
            "Training loss: 1.1988495230674743\n"
          ]
        },
        {
          "output_type": "stream",
          "name": "stderr",
          "text": [
            "100%|██████████| 6/6 [00:00<00:00, 218.25it/s]\n"
          ]
        },
        {
          "output_type": "stream",
          "name": "stdout",
          "text": [
            "Validation loss: 1.1878893772761028\n",
            "Validation accuracy: 0.4815512001514435\n",
            "Epoch 24:\n"
          ]
        },
        {
          "output_type": "stream",
          "name": "stderr",
          "text": [
            "100%|██████████| 10/10 [00:00<00:00, 89.09it/s]\n"
          ]
        },
        {
          "output_type": "stream",
          "name": "stdout",
          "text": [
            "Training loss: 1.1843749403953552\n"
          ]
        },
        {
          "output_type": "stream",
          "name": "stderr",
          "text": [
            "100%|██████████| 6/6 [00:00<00:00, 201.27it/s]\n"
          ]
        },
        {
          "output_type": "stream",
          "name": "stdout",
          "text": [
            "Validation loss: 1.2007018327713013\n",
            "Validation accuracy: 0.47063252329826355\n",
            "Epoch 25:\n"
          ]
        },
        {
          "output_type": "stream",
          "name": "stderr",
          "text": [
            "100%|██████████| 10/10 [00:00<00:00, 99.98it/s]\n"
          ]
        },
        {
          "output_type": "stream",
          "name": "stdout",
          "text": [
            "Training loss: 1.1919521331787108\n"
          ]
        },
        {
          "output_type": "stream",
          "name": "stderr",
          "text": [
            "100%|██████████| 6/6 [00:00<00:00, 191.31it/s]\n"
          ]
        },
        {
          "output_type": "stream",
          "name": "stdout",
          "text": [
            "Validation loss: 1.179048478603363\n",
            "Validation accuracy: 0.4612198770046234\n",
            "Epoch 26:\n"
          ]
        },
        {
          "output_type": "stream",
          "name": "stderr",
          "text": [
            "100%|██████████| 10/10 [00:00<00:00, 101.33it/s]\n"
          ]
        },
        {
          "output_type": "stream",
          "name": "stdout",
          "text": [
            "Training loss: 1.1853206157684326\n"
          ]
        },
        {
          "output_type": "stream",
          "name": "stderr",
          "text": [
            "100%|██████████| 6/6 [00:00<00:00, 209.87it/s]\n"
          ]
        },
        {
          "output_type": "stream",
          "name": "stdout",
          "text": [
            "Validation loss: 1.1873082717259724\n",
            "Validation accuracy: 0.4710090160369873\n",
            "Epoch 27:\n"
          ]
        },
        {
          "output_type": "stream",
          "name": "stderr",
          "text": [
            "100%|██████████| 10/10 [00:00<00:00, 102.03it/s]\n"
          ]
        },
        {
          "output_type": "stream",
          "name": "stdout",
          "text": [
            "Training loss: 1.1848631024360656\n"
          ]
        },
        {
          "output_type": "stream",
          "name": "stderr",
          "text": [
            "100%|██████████| 6/6 [00:00<00:00, 174.77it/s]\n"
          ]
        },
        {
          "output_type": "stream",
          "name": "stdout",
          "text": [
            "Validation loss: 1.1834521492322285\n",
            "Validation accuracy: 0.46159636974334717\n",
            "Epoch 28:\n"
          ]
        },
        {
          "output_type": "stream",
          "name": "stderr",
          "text": [
            "100%|██████████| 10/10 [00:00<00:00, 101.10it/s]\n"
          ]
        },
        {
          "output_type": "stream",
          "name": "stdout",
          "text": [
            "Training loss: 1.190835213661194\n"
          ]
        },
        {
          "output_type": "stream",
          "name": "stderr",
          "text": [
            "100%|██████████| 6/6 [00:00<00:00, 212.66it/s]\n"
          ]
        },
        {
          "output_type": "stream",
          "name": "stdout",
          "text": [
            "Validation loss: 1.1888334155082703\n",
            "Validation accuracy: 0.4687499701976776\n",
            "Epoch 29:\n"
          ]
        },
        {
          "output_type": "stream",
          "name": "stderr",
          "text": [
            "100%|██████████| 10/10 [00:00<00:00, 109.28it/s]\n"
          ]
        },
        {
          "output_type": "stream",
          "name": "stdout",
          "text": [
            "Training loss: 1.1777977347373962\n"
          ]
        },
        {
          "output_type": "stream",
          "name": "stderr",
          "text": [
            "100%|██████████| 6/6 [00:00<00:00, 209.35it/s]\n"
          ]
        },
        {
          "output_type": "stream",
          "name": "stdout",
          "text": [
            "Validation loss: 1.1934052507082622\n",
            "Validation accuracy: 0.4657379388809204\n",
            "Epoch 30:\n"
          ]
        },
        {
          "output_type": "stream",
          "name": "stderr",
          "text": [
            "100%|██████████| 10/10 [00:00<00:00, 110.74it/s]\n"
          ]
        },
        {
          "output_type": "stream",
          "name": "stdout",
          "text": [
            "Training loss: 1.1799341201782227\n"
          ]
        },
        {
          "output_type": "stream",
          "name": "stderr",
          "text": [
            "100%|██████████| 6/6 [00:00<00:00, 211.16it/s]\n"
          ]
        },
        {
          "output_type": "stream",
          "name": "stdout",
          "text": [
            "Validation loss: 1.1932434837023418\n",
            "Validation accuracy: 0.4887048006057739\n",
            "Epoch 31:\n"
          ]
        },
        {
          "output_type": "stream",
          "name": "stderr",
          "text": [
            "100%|██████████| 10/10 [00:00<00:00, 79.35it/s]\n"
          ]
        },
        {
          "output_type": "stream",
          "name": "stdout",
          "text": [
            "Training loss: 1.189297080039978\n"
          ]
        },
        {
          "output_type": "stream",
          "name": "stderr",
          "text": [
            "100%|██████████| 6/6 [00:00<00:00, 205.78it/s]\n"
          ]
        },
        {
          "output_type": "stream",
          "name": "stdout",
          "text": [
            "Validation loss: 1.2037234703699748\n",
            "Validation accuracy: 0.46611443161964417\n",
            "Epoch 32:\n"
          ]
        },
        {
          "output_type": "stream",
          "name": "stderr",
          "text": [
            "100%|██████████| 10/10 [00:00<00:00, 108.39it/s]\n"
          ]
        },
        {
          "output_type": "stream",
          "name": "stdout",
          "text": [
            "Training loss: 1.1853602409362793\n"
          ]
        },
        {
          "output_type": "stream",
          "name": "stderr",
          "text": [
            "100%|██████████| 6/6 [00:00<00:00, 207.99it/s]\n"
          ]
        },
        {
          "output_type": "stream",
          "name": "stdout",
          "text": [
            "Validation loss: 1.1973766883214314\n",
            "Validation accuracy: 0.4582078158855438\n",
            "Epoch 33:\n"
          ]
        },
        {
          "output_type": "stream",
          "name": "stderr",
          "text": [
            "100%|██████████| 10/10 [00:00<00:00, 97.38it/s]\n"
          ]
        },
        {
          "output_type": "stream",
          "name": "stdout",
          "text": [
            "Training loss: 1.1941566824913026\n"
          ]
        },
        {
          "output_type": "stream",
          "name": "stderr",
          "text": [
            "100%|██████████| 6/6 [00:00<00:00, 205.68it/s]\n"
          ]
        },
        {
          "output_type": "stream",
          "name": "stdout",
          "text": [
            "Validation loss: 1.1795265277226765\n",
            "Validation accuracy: 0.4792921543121338\n",
            "Epoch 34:\n"
          ]
        },
        {
          "output_type": "stream",
          "name": "stderr",
          "text": [
            "100%|██████████| 10/10 [00:00<00:00, 93.13it/s]\n"
          ]
        },
        {
          "output_type": "stream",
          "name": "stdout",
          "text": [
            "Training loss: 1.1907668113708496\n"
          ]
        },
        {
          "output_type": "stream",
          "name": "stderr",
          "text": [
            "100%|██████████| 6/6 [00:00<00:00, 241.20it/s]\n"
          ]
        },
        {
          "output_type": "stream",
          "name": "stdout",
          "text": [
            "Validation loss: 1.1793551047643025\n",
            "Validation accuracy: 0.4725150465965271\n",
            "Epoch 35:\n"
          ]
        },
        {
          "output_type": "stream",
          "name": "stderr",
          "text": [
            "100%|██████████| 10/10 [00:00<00:00, 103.58it/s]\n"
          ]
        },
        {
          "output_type": "stream",
          "name": "stdout",
          "text": [
            "Training loss: 1.1793946743011474\n"
          ]
        },
        {
          "output_type": "stream",
          "name": "stderr",
          "text": [
            "100%|██████████| 6/6 [00:00<00:00, 214.71it/s]\n"
          ]
        },
        {
          "output_type": "stream",
          "name": "stdout",
          "text": [
            "Validation loss: 1.1822975476582844\n",
            "Validation accuracy: 0.4792921543121338\n",
            "Epoch 36:\n"
          ]
        },
        {
          "output_type": "stream",
          "name": "stderr",
          "text": [
            "100%|██████████| 10/10 [00:00<00:00, 108.35it/s]\n"
          ]
        },
        {
          "output_type": "stream",
          "name": "stdout",
          "text": [
            "Training loss: 1.1952346920967103\n"
          ]
        },
        {
          "output_type": "stream",
          "name": "stderr",
          "text": [
            "100%|██████████| 6/6 [00:00<00:00, 210.49it/s]\n"
          ]
        },
        {
          "output_type": "stream",
          "name": "stdout",
          "text": [
            "Validation loss: 1.191024164358775\n",
            "Validation accuracy: 0.46460843086242676\n",
            "Epoch 37:\n"
          ]
        },
        {
          "output_type": "stream",
          "name": "stderr",
          "text": [
            "100%|██████████| 10/10 [00:00<00:00, 93.25it/s]\n"
          ]
        },
        {
          "output_type": "stream",
          "name": "stdout",
          "text": [
            "Training loss: 1.1930452704429626\n"
          ]
        },
        {
          "output_type": "stream",
          "name": "stderr",
          "text": [
            "100%|██████████| 6/6 [00:00<00:00, 171.34it/s]\n"
          ]
        },
        {
          "output_type": "stream",
          "name": "stdout",
          "text": [
            "Validation loss: 1.167329768339793\n",
            "Validation accuracy: 0.473268061876297\n",
            "Epoch 38:\n"
          ]
        },
        {
          "output_type": "stream",
          "name": "stderr",
          "text": [
            "100%|██████████| 10/10 [00:00<00:00, 93.08it/s]\n"
          ]
        },
        {
          "output_type": "stream",
          "name": "stdout",
          "text": [
            "Training loss: 1.1874628067016602\n"
          ]
        },
        {
          "output_type": "stream",
          "name": "stderr",
          "text": [
            "100%|██████████| 6/6 [00:00<00:00, 195.32it/s]\n"
          ]
        },
        {
          "output_type": "stream",
          "name": "stdout",
          "text": [
            "Validation loss: 1.1809658606847127\n",
            "Validation accuracy: 0.47740963101387024\n",
            "Epoch 39:\n"
          ]
        },
        {
          "output_type": "stream",
          "name": "stderr",
          "text": [
            "100%|██████████| 10/10 [00:00<00:00, 82.21it/s]\n"
          ]
        },
        {
          "output_type": "stream",
          "name": "stdout",
          "text": [
            "Training loss: 1.1817708492279053\n"
          ]
        },
        {
          "output_type": "stream",
          "name": "stderr",
          "text": [
            "100%|██████████| 6/6 [00:00<00:00, 166.68it/s]\n"
          ]
        },
        {
          "output_type": "stream",
          "name": "stdout",
          "text": [
            "Validation loss: 1.1781312823295593\n",
            "Validation accuracy: 0.4747740924358368\n",
            "Epoch 40:\n"
          ]
        },
        {
          "output_type": "stream",
          "name": "stderr",
          "text": [
            "100%|██████████| 10/10 [00:00<00:00, 93.68it/s]\n"
          ]
        },
        {
          "output_type": "stream",
          "name": "stdout",
          "text": [
            "Training loss: 1.1931634306907655\n"
          ]
        },
        {
          "output_type": "stream",
          "name": "stderr",
          "text": [
            "100%|██████████| 6/6 [00:00<00:00, 190.71it/s]\n"
          ]
        },
        {
          "output_type": "stream",
          "name": "stdout",
          "text": [
            "Validation loss: 1.1767111817995708\n",
            "Validation accuracy: 0.4702560007572174\n",
            "Epoch 41:\n"
          ]
        },
        {
          "output_type": "stream",
          "name": "stderr",
          "text": [
            "100%|██████████| 10/10 [00:00<00:00, 96.88it/s]\n"
          ]
        },
        {
          "output_type": "stream",
          "name": "stdout",
          "text": [
            "Training loss: 1.183134961128235\n"
          ]
        },
        {
          "output_type": "stream",
          "name": "stderr",
          "text": [
            "100%|██████████| 6/6 [00:00<00:00, 234.01it/s]\n"
          ]
        },
        {
          "output_type": "stream",
          "name": "stdout",
          "text": [
            "Validation loss: 1.1961827079455059\n",
            "Validation accuracy: 0.4762800931930542\n",
            "Epoch 42:\n"
          ]
        },
        {
          "output_type": "stream",
          "name": "stderr",
          "text": [
            "100%|██████████| 10/10 [00:00<00:00, 96.62it/s]\n"
          ]
        },
        {
          "output_type": "stream",
          "name": "stdout",
          "text": [
            "Training loss: 1.1918445467948913\n"
          ]
        },
        {
          "output_type": "stream",
          "name": "stderr",
          "text": [
            "100%|██████████| 6/6 [00:00<00:00, 200.66it/s]\n"
          ]
        },
        {
          "output_type": "stream",
          "name": "stdout",
          "text": [
            "Validation loss: 1.183335781097412\n",
            "Validation accuracy: 0.4762800931930542\n",
            "Epoch 43:\n"
          ]
        },
        {
          "output_type": "stream",
          "name": "stderr",
          "text": [
            "100%|██████████| 10/10 [00:00<00:00, 90.31it/s]\n"
          ]
        },
        {
          "output_type": "stream",
          "name": "stdout",
          "text": [
            "Training loss: 1.1841202616691588\n"
          ]
        },
        {
          "output_type": "stream",
          "name": "stderr",
          "text": [
            "100%|██████████| 6/6 [00:00<00:00, 222.28it/s]\n"
          ]
        },
        {
          "output_type": "stream",
          "name": "stdout",
          "text": [
            "Validation loss: 1.177033007144928\n",
            "Validation accuracy: 0.4860692620277405\n",
            "Epoch 44:\n"
          ]
        },
        {
          "output_type": "stream",
          "name": "stderr",
          "text": [
            "100%|██████████| 10/10 [00:00<00:00, 92.43it/s]\n"
          ]
        },
        {
          "output_type": "stream",
          "name": "stdout",
          "text": [
            "Training loss: 1.1876215577125548\n"
          ]
        },
        {
          "output_type": "stream",
          "name": "stderr",
          "text": [
            "100%|██████████| 6/6 [00:00<00:00, 225.12it/s]\n"
          ]
        },
        {
          "output_type": "stream",
          "name": "stdout",
          "text": [
            "Validation loss: 1.1859378814697266\n",
            "Validation accuracy: 0.47138553857803345\n",
            "Epoch 45:\n"
          ]
        },
        {
          "output_type": "stream",
          "name": "stderr",
          "text": [
            "100%|██████████| 10/10 [00:00<00:00, 100.56it/s]\n"
          ]
        },
        {
          "output_type": "stream",
          "name": "stdout",
          "text": [
            "Training loss: 1.1967542052268982\n"
          ]
        },
        {
          "output_type": "stream",
          "name": "stderr",
          "text": [
            "100%|██████████| 6/6 [00:00<00:00, 170.76it/s]\n"
          ]
        },
        {
          "output_type": "stream",
          "name": "stdout",
          "text": [
            "Validation loss: 1.1945904890696208\n",
            "Validation accuracy: 0.4710090160369873\n",
            "Epoch 46:\n"
          ]
        },
        {
          "output_type": "stream",
          "name": "stderr",
          "text": [
            "100%|██████████| 10/10 [00:00<00:00, 97.32it/s]\n"
          ]
        },
        {
          "output_type": "stream",
          "name": "stdout",
          "text": [
            "Training loss: 1.1916549444198608\n"
          ]
        },
        {
          "output_type": "stream",
          "name": "stderr",
          "text": [
            "100%|██████████| 6/6 [00:00<00:00, 226.30it/s]\n"
          ]
        },
        {
          "output_type": "stream",
          "name": "stdout",
          "text": [
            "Validation loss: 1.19082905848821\n",
            "Validation accuracy: 0.46686744689941406\n",
            "Epoch 47:\n"
          ]
        },
        {
          "output_type": "stream",
          "name": "stderr",
          "text": [
            "100%|██████████| 10/10 [00:00<00:00, 104.50it/s]\n"
          ]
        },
        {
          "output_type": "stream",
          "name": "stdout",
          "text": [
            "Training loss: 1.203568172454834\n"
          ]
        },
        {
          "output_type": "stream",
          "name": "stderr",
          "text": [
            "100%|██████████| 6/6 [00:00<00:00, 211.92it/s]\n"
          ]
        },
        {
          "output_type": "stream",
          "name": "stdout",
          "text": [
            "Validation loss: 1.1892716487248738\n",
            "Validation accuracy: 0.45444273948669434\n",
            "Epoch 48:\n"
          ]
        },
        {
          "output_type": "stream",
          "name": "stderr",
          "text": [
            "100%|██████████| 10/10 [00:00<00:00, 94.69it/s]\n"
          ]
        },
        {
          "output_type": "stream",
          "name": "stdout",
          "text": [
            "Training loss: 1.2010501146316528\n"
          ]
        },
        {
          "output_type": "stream",
          "name": "stderr",
          "text": [
            "100%|██████████| 6/6 [00:00<00:00, 108.80it/s]\n"
          ]
        },
        {
          "output_type": "stream",
          "name": "stdout",
          "text": [
            "Validation loss: 1.1748006343841553\n",
            "Validation accuracy: 0.48268070816993713\n",
            "Epoch 49:\n"
          ]
        },
        {
          "output_type": "stream",
          "name": "stderr",
          "text": [
            "100%|██████████| 10/10 [00:00<00:00, 67.76it/s]\n"
          ]
        },
        {
          "output_type": "stream",
          "name": "stdout",
          "text": [
            "Training loss: 1.200291883945465\n"
          ]
        },
        {
          "output_type": "stream",
          "name": "stderr",
          "text": [
            "100%|██████████| 6/6 [00:00<00:00, 132.06it/s]\n"
          ]
        },
        {
          "output_type": "stream",
          "name": "stdout",
          "text": [
            "Validation loss: 1.1880824367205303\n",
            "Validation accuracy: 0.47740963101387024\n",
            "Epoch 50:\n"
          ]
        },
        {
          "output_type": "stream",
          "name": "stderr",
          "text": [
            "100%|██████████| 10/10 [00:00<00:00, 63.79it/s]\n"
          ]
        },
        {
          "output_type": "stream",
          "name": "stdout",
          "text": [
            "Training loss: 1.1973875045776368\n"
          ]
        },
        {
          "output_type": "stream",
          "name": "stderr",
          "text": [
            "100%|██████████| 6/6 [00:00<00:00, 120.72it/s]\n"
          ]
        },
        {
          "output_type": "stream",
          "name": "stdout",
          "text": [
            "Validation loss: 1.179828902085622\n",
            "Validation accuracy: 0.47439756989479065\n",
            "Epoch 51:\n"
          ]
        },
        {
          "output_type": "stream",
          "name": "stderr",
          "text": [
            "100%|██████████| 10/10 [00:00<00:00, 73.23it/s]\n"
          ]
        },
        {
          "output_type": "stream",
          "name": "stdout",
          "text": [
            "Training loss: 1.1916155457496642\n"
          ]
        },
        {
          "output_type": "stream",
          "name": "stderr",
          "text": [
            "100%|██████████| 6/6 [00:00<00:00, 117.39it/s]\n"
          ]
        },
        {
          "output_type": "stream",
          "name": "stdout",
          "text": [
            "Validation loss: 1.183108627796173\n",
            "Validation accuracy: 0.4687499701976776\n",
            "Epoch 52:\n"
          ]
        },
        {
          "output_type": "stream",
          "name": "stderr",
          "text": [
            "100%|██████████| 10/10 [00:00<00:00, 67.91it/s]\n"
          ]
        },
        {
          "output_type": "stream",
          "name": "stdout",
          "text": [
            "Training loss: 1.1938547372817994\n"
          ]
        },
        {
          "output_type": "stream",
          "name": "stderr",
          "text": [
            "100%|██████████| 6/6 [00:00<00:00, 144.06it/s]\n"
          ]
        },
        {
          "output_type": "stream",
          "name": "stdout",
          "text": [
            "Validation loss: 1.1832540035247803\n",
            "Validation accuracy: 0.4627258777618408\n",
            "Epoch 53:\n"
          ]
        },
        {
          "output_type": "stream",
          "name": "stderr",
          "text": [
            "100%|██████████| 10/10 [00:00<00:00, 74.25it/s]"
          ]
        },
        {
          "output_type": "stream",
          "name": "stdout",
          "text": [
            "Training loss: 1.1865936398506165"
          ]
        },
        {
          "output_type": "stream",
          "name": "stderr",
          "text": [
            "\n"
          ]
        },
        {
          "output_type": "stream",
          "name": "stdout",
          "text": [
            "\n"
          ]
        },
        {
          "output_type": "stream",
          "name": "stderr",
          "text": [
            "100%|██████████| 6/6 [00:00<00:00, 128.50it/s]\n"
          ]
        },
        {
          "output_type": "stream",
          "name": "stdout",
          "text": [
            "Validation loss: 1.1849401990572612\n",
            "Validation accuracy: 0.47966864705085754\n",
            "Epoch 54:\n"
          ]
        },
        {
          "output_type": "stream",
          "name": "stderr",
          "text": [
            "100%|██████████| 10/10 [00:00<00:00, 76.65it/s]\n"
          ]
        },
        {
          "output_type": "stream",
          "name": "stdout",
          "text": [
            "Training loss: 1.191223418712616\n"
          ]
        },
        {
          "output_type": "stream",
          "name": "stderr",
          "text": [
            "100%|██████████| 6/6 [00:00<00:00, 126.54it/s]\n"
          ]
        },
        {
          "output_type": "stream",
          "name": "stdout",
          "text": [
            "Validation loss: 1.2070743838946025\n",
            "Validation accuracy: 0.4600903391838074\n",
            "Epoch 55:\n"
          ]
        },
        {
          "output_type": "stream",
          "name": "stderr",
          "text": [
            "100%|██████████| 10/10 [00:00<00:00, 59.70it/s]\n"
          ]
        },
        {
          "output_type": "stream",
          "name": "stdout",
          "text": [
            "Training loss: 1.1815054297447205\n"
          ]
        },
        {
          "output_type": "stream",
          "name": "stderr",
          "text": [
            "100%|██████████| 6/6 [00:00<00:00, 136.93it/s]\n"
          ]
        },
        {
          "output_type": "stream",
          "name": "stdout",
          "text": [
            "Validation loss: 1.1902141372362773\n",
            "Validation accuracy: 0.47740963101387024\n",
            "Epoch 56:\n"
          ]
        },
        {
          "output_type": "stream",
          "name": "stderr",
          "text": [
            "100%|██████████| 10/10 [00:00<00:00, 62.40it/s]\n"
          ]
        },
        {
          "output_type": "stream",
          "name": "stdout",
          "text": [
            "Training loss: 1.1837884187698364\n"
          ]
        },
        {
          "output_type": "stream",
          "name": "stderr",
          "text": [
            "100%|██████████| 6/6 [00:00<00:00, 128.17it/s]\n"
          ]
        },
        {
          "output_type": "stream",
          "name": "stdout",
          "text": [
            "Validation loss: 1.192455490430196\n",
            "Validation accuracy: 0.4755270779132843\n",
            "Epoch 57:\n"
          ]
        },
        {
          "output_type": "stream",
          "name": "stderr",
          "text": [
            "100%|██████████| 10/10 [00:00<00:00, 60.46it/s]\n"
          ]
        },
        {
          "output_type": "stream",
          "name": "stdout",
          "text": [
            "Training loss: 1.181766641139984\n"
          ]
        },
        {
          "output_type": "stream",
          "name": "stderr",
          "text": [
            "100%|██████████| 6/6 [00:00<00:00, 132.53it/s]\n"
          ]
        },
        {
          "output_type": "stream",
          "name": "stdout",
          "text": [
            "Validation loss: 1.1978847583134968\n",
            "Validation accuracy: 0.4657379388809204\n",
            "Epoch 58:\n"
          ]
        },
        {
          "output_type": "stream",
          "name": "stderr",
          "text": [
            "100%|██████████| 10/10 [00:00<00:00, 61.54it/s]\n"
          ]
        },
        {
          "output_type": "stream",
          "name": "stdout",
          "text": [
            "Training loss: 1.2008345603942872\n"
          ]
        },
        {
          "output_type": "stream",
          "name": "stderr",
          "text": [
            "100%|██████████| 6/6 [00:00<00:00, 119.98it/s]\n"
          ]
        },
        {
          "output_type": "stream",
          "name": "stdout",
          "text": [
            "Validation loss: 1.184090296427409\n",
            "Validation accuracy: 0.47138553857803345\n",
            "Epoch 59:\n"
          ]
        },
        {
          "output_type": "stream",
          "name": "stderr",
          "text": [
            "100%|██████████| 10/10 [00:00<00:00, 72.37it/s]\n"
          ]
        },
        {
          "output_type": "stream",
          "name": "stdout",
          "text": [
            "Training loss: 1.1791462898254395\n"
          ]
        },
        {
          "output_type": "stream",
          "name": "stderr",
          "text": [
            "100%|██████████| 6/6 [00:00<00:00, 152.63it/s]\n"
          ]
        },
        {
          "output_type": "stream",
          "name": "stdout",
          "text": [
            "Validation loss: 1.1816532810529072\n",
            "Validation accuracy: 0.4717620313167572\n",
            "Epoch 60:\n"
          ]
        },
        {
          "output_type": "stream",
          "name": "stderr",
          "text": [
            "100%|██████████| 10/10 [00:00<00:00, 105.64it/s]\n"
          ]
        },
        {
          "output_type": "stream",
          "name": "stdout",
          "text": [
            "Training loss: 1.1743603825569153\n"
          ]
        },
        {
          "output_type": "stream",
          "name": "stderr",
          "text": [
            "100%|██████████| 6/6 [00:00<00:00, 196.15it/s]\n"
          ]
        },
        {
          "output_type": "stream",
          "name": "stdout",
          "text": [
            "Validation loss: 1.1820237239201863\n",
            "Validation accuracy: 0.4687499701976776\n",
            "Epoch 61:\n"
          ]
        },
        {
          "output_type": "stream",
          "name": "stderr",
          "text": [
            "100%|██████████| 10/10 [00:00<00:00, 96.25it/s]\n"
          ]
        },
        {
          "output_type": "stream",
          "name": "stdout",
          "text": [
            "Training loss: 1.1926899671554565\n"
          ]
        },
        {
          "output_type": "stream",
          "name": "stderr",
          "text": [
            "100%|██████████| 6/6 [00:00<00:00, 199.54it/s]\n"
          ]
        },
        {
          "output_type": "stream",
          "name": "stdout",
          "text": [
            "Validation loss: 1.1859338283538818\n",
            "Validation accuracy: 0.4604668617248535\n",
            "Epoch 62:\n"
          ]
        },
        {
          "output_type": "stream",
          "name": "stderr",
          "text": [
            "100%|██████████| 10/10 [00:00<00:00, 95.61it/s]\n"
          ]
        },
        {
          "output_type": "stream",
          "name": "stdout",
          "text": [
            "Training loss: 1.18263783454895\n"
          ]
        },
        {
          "output_type": "stream",
          "name": "stderr",
          "text": [
            "100%|██████████| 6/6 [00:00<00:00, 247.88it/s]\n"
          ]
        },
        {
          "output_type": "stream",
          "name": "stdout",
          "text": [
            "Validation loss: 1.1871237953503926\n",
            "Validation accuracy: 0.4657379388809204\n",
            "Epoch 63:\n"
          ]
        },
        {
          "output_type": "stream",
          "name": "stderr",
          "text": [
            "100%|██████████| 10/10 [00:00<00:00, 96.76it/s]\n"
          ]
        },
        {
          "output_type": "stream",
          "name": "stdout",
          "text": [
            "Training loss: 1.193775725364685\n"
          ]
        },
        {
          "output_type": "stream",
          "name": "stderr",
          "text": [
            "100%|██████████| 6/6 [00:00<00:00, 231.49it/s]\n"
          ]
        },
        {
          "output_type": "stream",
          "name": "stdout",
          "text": [
            "Validation loss: 1.1906731724739075\n",
            "Validation accuracy: 0.4710090160369873\n",
            "Epoch 64:\n"
          ]
        },
        {
          "output_type": "stream",
          "name": "stderr",
          "text": [
            "100%|██████████| 10/10 [00:00<00:00, 100.84it/s]\n"
          ]
        },
        {
          "output_type": "stream",
          "name": "stdout",
          "text": [
            "Training loss: 1.1809309601783753\n"
          ]
        },
        {
          "output_type": "stream",
          "name": "stderr",
          "text": [
            "100%|██████████| 6/6 [00:00<00:00, 205.19it/s]\n"
          ]
        },
        {
          "output_type": "stream",
          "name": "stdout",
          "text": [
            "Validation loss: 1.1832382082939148\n",
            "Validation accuracy: 0.47816264629364014\n",
            "Epoch 65:\n"
          ]
        },
        {
          "output_type": "stream",
          "name": "stderr",
          "text": [
            "100%|██████████| 10/10 [00:00<00:00, 90.00it/s]\n"
          ]
        },
        {
          "output_type": "stream",
          "name": "stdout",
          "text": [
            "Training loss: 1.1892919659614563\n"
          ]
        },
        {
          "output_type": "stream",
          "name": "stderr",
          "text": [
            "100%|██████████| 6/6 [00:00<00:00, 228.57it/s]\n"
          ]
        },
        {
          "output_type": "stream",
          "name": "stdout",
          "text": [
            "Validation loss: 1.1948107481002808\n",
            "Validation accuracy: 0.46536141633987427\n",
            "Epoch 66:\n"
          ]
        },
        {
          "output_type": "stream",
          "name": "stderr",
          "text": [
            "100%|██████████| 10/10 [00:00<00:00, 89.46it/s]\n"
          ]
        },
        {
          "output_type": "stream",
          "name": "stdout",
          "text": [
            "Training loss: 1.1889383673667908\n"
          ]
        },
        {
          "output_type": "stream",
          "name": "stderr",
          "text": [
            "100%|██████████| 6/6 [00:00<00:00, 199.10it/s]\n"
          ]
        },
        {
          "output_type": "stream",
          "name": "stdout",
          "text": [
            "Validation loss: 1.1975154479344685\n",
            "Validation accuracy: 0.4755270779132843\n",
            "Epoch 67:\n"
          ]
        },
        {
          "output_type": "stream",
          "name": "stderr",
          "text": [
            "100%|██████████| 10/10 [00:00<00:00, 89.59it/s]\n"
          ]
        },
        {
          "output_type": "stream",
          "name": "stdout",
          "text": [
            "Training loss: 1.1806156635284424\n"
          ]
        },
        {
          "output_type": "stream",
          "name": "stderr",
          "text": [
            "100%|██████████| 6/6 [00:00<00:00, 177.82it/s]\n"
          ]
        },
        {
          "output_type": "stream",
          "name": "stdout",
          "text": [
            "Validation loss: 1.1675702134768169\n",
            "Validation accuracy: 0.47364455461502075\n",
            "Epoch 68:\n"
          ]
        },
        {
          "output_type": "stream",
          "name": "stderr",
          "text": [
            "100%|██████████| 10/10 [00:00<00:00, 81.98it/s]\n"
          ]
        },
        {
          "output_type": "stream",
          "name": "stdout",
          "text": [
            "Training loss: 1.1927640676498412\n"
          ]
        },
        {
          "output_type": "stream",
          "name": "stderr",
          "text": [
            "100%|██████████| 6/6 [00:00<00:00, 201.47it/s]\n"
          ]
        },
        {
          "output_type": "stream",
          "name": "stdout",
          "text": [
            "Validation loss: 1.196710209051768\n",
            "Validation accuracy: 0.47740963101387024\n",
            "Epoch 69:\n"
          ]
        },
        {
          "output_type": "stream",
          "name": "stderr",
          "text": [
            "100%|██████████| 10/10 [00:00<00:00, 82.64it/s]\n"
          ]
        },
        {
          "output_type": "stream",
          "name": "stdout",
          "text": [
            "Training loss: 1.1852797269821167\n"
          ]
        },
        {
          "output_type": "stream",
          "name": "stderr",
          "text": [
            "100%|██████████| 6/6 [00:00<00:00, 196.78it/s]\n"
          ]
        },
        {
          "output_type": "stream",
          "name": "stdout",
          "text": [
            "Validation loss: 1.1802596648534138\n",
            "Validation accuracy: 0.4664909541606903\n",
            "Epoch 70:\n"
          ]
        },
        {
          "output_type": "stream",
          "name": "stderr",
          "text": [
            "100%|██████████| 10/10 [00:00<00:00, 104.70it/s]\n"
          ]
        },
        {
          "output_type": "stream",
          "name": "stdout",
          "text": [
            "Training loss: 1.1995228052139282\n"
          ]
        },
        {
          "output_type": "stream",
          "name": "stderr",
          "text": [
            "100%|██████████| 6/6 [00:00<00:00, 158.69it/s]\n"
          ]
        },
        {
          "output_type": "stream",
          "name": "stdout",
          "text": [
            "Validation loss: 1.2113249103228252\n",
            "Validation accuracy: 0.44766563177108765\n",
            "Epoch 71:\n"
          ]
        },
        {
          "output_type": "stream",
          "name": "stderr",
          "text": [
            "100%|██████████| 10/10 [00:00<00:00, 89.54it/s]\n"
          ]
        },
        {
          "output_type": "stream",
          "name": "stdout",
          "text": [
            "Training loss: 1.1866736173629762\n"
          ]
        },
        {
          "output_type": "stream",
          "name": "stderr",
          "text": [
            "100%|██████████| 6/6 [00:00<00:00, 217.25it/s]\n"
          ]
        },
        {
          "output_type": "stream",
          "name": "stdout",
          "text": [
            "Validation loss: 1.1852421760559082\n",
            "Validation accuracy: 0.49209335446357727\n",
            "Epoch 72:\n"
          ]
        },
        {
          "output_type": "stream",
          "name": "stderr",
          "text": [
            "100%|██████████| 10/10 [00:00<00:00, 98.41it/s]\n"
          ]
        },
        {
          "output_type": "stream",
          "name": "stdout",
          "text": [
            "Training loss: 1.1803998112678529\n"
          ]
        },
        {
          "output_type": "stream",
          "name": "stderr",
          "text": [
            "100%|██████████| 6/6 [00:00<00:00, 145.92it/s]\n"
          ]
        },
        {
          "output_type": "stream",
          "name": "stdout",
          "text": [
            "Validation loss: 1.1759798129399617\n",
            "Validation accuracy: 0.48795178532600403\n",
            "Epoch 73:\n"
          ]
        },
        {
          "output_type": "stream",
          "name": "stderr",
          "text": [
            "100%|██████████| 10/10 [00:00<00:00, 74.89it/s]\n"
          ]
        },
        {
          "output_type": "stream",
          "name": "stdout",
          "text": [
            "Training loss: 1.1811150074005128\n"
          ]
        },
        {
          "output_type": "stream",
          "name": "stderr",
          "text": [
            "100%|██████████| 6/6 [00:00<00:00, 184.79it/s]\n"
          ]
        },
        {
          "output_type": "stream",
          "name": "stdout",
          "text": [
            "Validation loss: 1.194897711277008\n",
            "Validation accuracy: 0.4604668617248535\n",
            "Epoch 74:\n"
          ]
        },
        {
          "output_type": "stream",
          "name": "stderr",
          "text": [
            "100%|██████████| 10/10 [00:00<00:00, 95.50it/s]\n"
          ]
        },
        {
          "output_type": "stream",
          "name": "stdout",
          "text": [
            "Training loss: 1.1834964990615844\n"
          ]
        },
        {
          "output_type": "stream",
          "name": "stderr",
          "text": [
            "100%|██████████| 6/6 [00:00<00:00, 206.64it/s]\n"
          ]
        },
        {
          "output_type": "stream",
          "name": "stdout",
          "text": [
            "Validation loss: 1.1822221279144287\n",
            "Validation accuracy: 0.47063252329826355\n",
            "Epoch 75:\n"
          ]
        },
        {
          "output_type": "stream",
          "name": "stderr",
          "text": [
            "100%|██████████| 10/10 [00:00<00:00, 96.19it/s]\n"
          ]
        },
        {
          "output_type": "stream",
          "name": "stdout",
          "text": [
            "Training loss: 1.1889384508132934\n"
          ]
        },
        {
          "output_type": "stream",
          "name": "stderr",
          "text": [
            "100%|██████████| 6/6 [00:00<00:00, 213.89it/s]\n"
          ]
        },
        {
          "output_type": "stream",
          "name": "stdout",
          "text": [
            "Validation loss: 1.184227208296458\n",
            "Validation accuracy: 0.4747740924358368\n",
            "Epoch 76:\n"
          ]
        },
        {
          "output_type": "stream",
          "name": "stderr",
          "text": [
            "100%|██████████| 10/10 [00:00<00:00, 85.04it/s]\n"
          ]
        },
        {
          "output_type": "stream",
          "name": "stdout",
          "text": [
            "Training loss: 1.1963270425796508\n"
          ]
        },
        {
          "output_type": "stream",
          "name": "stderr",
          "text": [
            "100%|██████████| 6/6 [00:00<00:00, 197.63it/s]\n"
          ]
        },
        {
          "output_type": "stream",
          "name": "stdout",
          "text": [
            "Validation loss: 1.1745927929878235\n",
            "Validation accuracy: 0.4695029854774475\n",
            "Epoch 77:\n"
          ]
        },
        {
          "output_type": "stream",
          "name": "stderr",
          "text": [
            "100%|██████████| 10/10 [00:00<00:00, 97.88it/s]\n"
          ]
        },
        {
          "output_type": "stream",
          "name": "stdout",
          "text": [
            "Training loss: 1.1835829138755798\n"
          ]
        },
        {
          "output_type": "stream",
          "name": "stderr",
          "text": [
            "100%|██████████| 6/6 [00:00<00:00, 215.86it/s]\n"
          ]
        },
        {
          "output_type": "stream",
          "name": "stdout",
          "text": [
            "Validation loss: 1.1722174485524495\n",
            "Validation accuracy: 0.4657379388809204\n",
            "Epoch 78:\n"
          ]
        },
        {
          "output_type": "stream",
          "name": "stderr",
          "text": [
            "100%|██████████| 10/10 [00:00<00:00, 102.72it/s]\n"
          ]
        },
        {
          "output_type": "stream",
          "name": "stdout",
          "text": [
            "Training loss: 1.188521945476532\n"
          ]
        },
        {
          "output_type": "stream",
          "name": "stderr",
          "text": [
            "100%|██████████| 6/6 [00:00<00:00, 175.82it/s]\n"
          ]
        },
        {
          "output_type": "stream",
          "name": "stdout",
          "text": [
            "Validation loss: 1.201603611310323\n",
            "Validation accuracy: 0.4695029854774475\n",
            "Epoch 79:\n"
          ]
        },
        {
          "output_type": "stream",
          "name": "stderr",
          "text": [
            "100%|██████████| 10/10 [00:00<00:00, 74.04it/s]\n"
          ]
        },
        {
          "output_type": "stream",
          "name": "stdout",
          "text": [
            "Training loss: 1.1890421867370606\n"
          ]
        },
        {
          "output_type": "stream",
          "name": "stderr",
          "text": [
            "100%|██████████| 6/6 [00:00<00:00, 173.27it/s]\n"
          ]
        },
        {
          "output_type": "stream",
          "name": "stdout",
          "text": [
            "Validation loss: 1.1839240590731304\n",
            "Validation accuracy: 0.4702560007572174\n",
            "Epoch 80:\n"
          ]
        },
        {
          "output_type": "stream",
          "name": "stderr",
          "text": [
            "100%|██████████| 10/10 [00:00<00:00, 95.06it/s]\n"
          ]
        },
        {
          "output_type": "stream",
          "name": "stdout",
          "text": [
            "Training loss: 1.1940270066261292\n"
          ]
        },
        {
          "output_type": "stream",
          "name": "stderr",
          "text": [
            "100%|██████████| 6/6 [00:00<00:00, 224.24it/s]\n"
          ]
        },
        {
          "output_type": "stream",
          "name": "stdout",
          "text": [
            "Validation loss: 1.1928773522377014\n",
            "Validation accuracy: 0.4687499701976776\n",
            "Epoch 81:\n"
          ]
        },
        {
          "output_type": "stream",
          "name": "stderr",
          "text": [
            "100%|██████████| 10/10 [00:00<00:00, 96.85it/s]\n"
          ]
        },
        {
          "output_type": "stream",
          "name": "stdout",
          "text": [
            "Training loss: 1.186010730266571\n"
          ]
        },
        {
          "output_type": "stream",
          "name": "stderr",
          "text": [
            "100%|██████████| 6/6 [00:00<00:00, 18.27it/s]\n"
          ]
        },
        {
          "output_type": "stream",
          "name": "stdout",
          "text": [
            "Validation loss: 1.1673174500465393\n",
            "Validation accuracy: 0.46460843086242676\n",
            "Epoch 82:\n"
          ]
        },
        {
          "output_type": "stream",
          "name": "stderr",
          "text": [
            "100%|██████████| 10/10 [00:00<00:00, 101.59it/s]\n"
          ]
        },
        {
          "output_type": "stream",
          "name": "stdout",
          "text": [
            "Training loss: 1.1878785014152526\n"
          ]
        },
        {
          "output_type": "stream",
          "name": "stderr",
          "text": [
            "100%|██████████| 6/6 [00:00<00:00, 177.17it/s]\n"
          ]
        },
        {
          "output_type": "stream",
          "name": "stdout",
          "text": [
            "Validation loss: 1.1859722932179768\n",
            "Validation accuracy: 0.4642319083213806\n",
            "Epoch 83:\n"
          ]
        },
        {
          "output_type": "stream",
          "name": "stderr",
          "text": [
            "100%|██████████| 10/10 [00:00<00:00, 81.18it/s]\n"
          ]
        },
        {
          "output_type": "stream",
          "name": "stdout",
          "text": [
            "Training loss: 1.19494731426239\n"
          ]
        },
        {
          "output_type": "stream",
          "name": "stderr",
          "text": [
            "100%|██████████| 6/6 [00:00<00:00, 168.79it/s]\n"
          ]
        },
        {
          "output_type": "stream",
          "name": "stdout",
          "text": [
            "Validation loss: 1.1876921852429707\n",
            "Validation accuracy: 0.47364455461502075\n",
            "Epoch 84:\n"
          ]
        },
        {
          "output_type": "stream",
          "name": "stderr",
          "text": [
            "100%|██████████| 10/10 [00:00<00:00, 103.51it/s]\n"
          ]
        },
        {
          "output_type": "stream",
          "name": "stdout",
          "text": [
            "Training loss: 1.187138307094574\n"
          ]
        },
        {
          "output_type": "stream",
          "name": "stderr",
          "text": [
            "100%|██████████| 6/6 [00:00<00:00, 183.10it/s]\n"
          ]
        },
        {
          "output_type": "stream",
          "name": "stdout",
          "text": [
            "Validation loss: 1.173957844575246\n",
            "Validation accuracy: 0.49510541558265686\n",
            "Epoch 85:\n"
          ]
        },
        {
          "output_type": "stream",
          "name": "stderr",
          "text": [
            "100%|██████████| 10/10 [00:00<00:00, 104.01it/s]\n"
          ]
        },
        {
          "output_type": "stream",
          "name": "stdout",
          "text": [
            "Training loss: 1.1924990892410279\n"
          ]
        },
        {
          "output_type": "stream",
          "name": "stderr",
          "text": [
            "100%|██████████| 6/6 [00:00<00:00, 150.58it/s]\n"
          ]
        },
        {
          "output_type": "stream",
          "name": "stdout",
          "text": [
            "Validation loss: 1.1756406625111897\n",
            "Validation accuracy: 0.48719877004623413\n",
            "Epoch 86:\n"
          ]
        },
        {
          "output_type": "stream",
          "name": "stderr",
          "text": [
            "100%|██████████| 10/10 [00:00<00:00, 103.78it/s]\n"
          ]
        },
        {
          "output_type": "stream",
          "name": "stdout",
          "text": [
            "Training loss: 1.19295893907547\n"
          ]
        },
        {
          "output_type": "stream",
          "name": "stderr",
          "text": [
            "100%|██████████| 6/6 [00:00<00:00, 190.84it/s]\n"
          ]
        },
        {
          "output_type": "stream",
          "name": "stdout",
          "text": [
            "Validation loss: 1.1914947032928467\n",
            "Validation accuracy: 0.477786123752594\n",
            "Epoch 87:\n"
          ]
        },
        {
          "output_type": "stream",
          "name": "stderr",
          "text": [
            "100%|██████████| 10/10 [00:00<00:00, 100.28it/s]\n"
          ]
        },
        {
          "output_type": "stream",
          "name": "stdout",
          "text": [
            "Training loss: 1.1871533632278441\n"
          ]
        },
        {
          "output_type": "stream",
          "name": "stderr",
          "text": [
            "100%|██████████| 6/6 [00:00<00:00, 180.32it/s]\n"
          ]
        },
        {
          "output_type": "stream",
          "name": "stdout",
          "text": [
            "Validation loss: 1.1948538621266682\n",
            "Validation accuracy: 0.473268061876297\n",
            "Epoch 88:\n"
          ]
        },
        {
          "output_type": "stream",
          "name": "stderr",
          "text": [
            "100%|██████████| 10/10 [00:00<00:00, 100.25it/s]\n"
          ]
        },
        {
          "output_type": "stream",
          "name": "stdout",
          "text": [
            "Training loss: 1.179465389251709\n"
          ]
        },
        {
          "output_type": "stream",
          "name": "stderr",
          "text": [
            "100%|██████████| 6/6 [00:00<00:00, 172.17it/s]\n"
          ]
        },
        {
          "output_type": "stream",
          "name": "stdout",
          "text": [
            "Validation loss: 1.1896149118741353\n",
            "Validation accuracy: 0.4770331084728241\n",
            "Epoch 89:\n"
          ]
        },
        {
          "output_type": "stream",
          "name": "stderr",
          "text": [
            "100%|██████████| 10/10 [00:00<00:00, 90.43it/s]\n"
          ]
        },
        {
          "output_type": "stream",
          "name": "stdout",
          "text": [
            "Training loss: 1.2133427262306213\n"
          ]
        },
        {
          "output_type": "stream",
          "name": "stderr",
          "text": [
            "100%|██████████| 6/6 [00:00<00:00, 194.88it/s]\n"
          ]
        },
        {
          "output_type": "stream",
          "name": "stdout",
          "text": [
            "Validation loss: 1.206511874993642\n",
            "Validation accuracy: 0.4619728624820709\n",
            "Epoch 90:\n"
          ]
        },
        {
          "output_type": "stream",
          "name": "stderr",
          "text": [
            "100%|██████████| 10/10 [00:00<00:00, 85.26it/s]\n"
          ]
        },
        {
          "output_type": "stream",
          "name": "stdout",
          "text": [
            "Training loss: 1.191054928302765\n"
          ]
        },
        {
          "output_type": "stream",
          "name": "stderr",
          "text": [
            "100%|██████████| 6/6 [00:00<00:00, 170.57it/s]\n"
          ]
        },
        {
          "output_type": "stream",
          "name": "stdout",
          "text": [
            "Validation loss: 1.177550474802653\n",
            "Validation accuracy: 0.4785391390323639\n",
            "Epoch 91:\n"
          ]
        },
        {
          "output_type": "stream",
          "name": "stderr",
          "text": [
            "100%|██████████| 10/10 [00:00<00:00, 103.72it/s]\n"
          ]
        },
        {
          "output_type": "stream",
          "name": "stdout",
          "text": [
            "Training loss: 1.1956060767173766\n"
          ]
        },
        {
          "output_type": "stream",
          "name": "stderr",
          "text": [
            "100%|██████████| 6/6 [00:00<00:00, 156.99it/s]\n"
          ]
        },
        {
          "output_type": "stream",
          "name": "stdout",
          "text": [
            "Validation loss: 1.1950562397638957\n",
            "Validation accuracy: 0.47590360045433044\n",
            "Epoch 92:\n"
          ]
        },
        {
          "output_type": "stream",
          "name": "stderr",
          "text": [
            "100%|██████████| 10/10 [00:00<00:00, 103.75it/s]\n"
          ]
        },
        {
          "output_type": "stream",
          "name": "stdout",
          "text": [
            "Training loss: 1.1890437245368957\n"
          ]
        },
        {
          "output_type": "stream",
          "name": "stderr",
          "text": [
            "100%|██████████| 6/6 [00:00<00:00, 198.99it/s]\n"
          ]
        },
        {
          "output_type": "stream",
          "name": "stdout",
          "text": [
            "Validation loss: 1.1873133778572083\n",
            "Validation accuracy: 0.4725150465965271\n",
            "Epoch 93:\n"
          ]
        },
        {
          "output_type": "stream",
          "name": "stderr",
          "text": [
            "100%|██████████| 10/10 [00:00<00:00, 108.64it/s]\n"
          ]
        },
        {
          "output_type": "stream",
          "name": "stdout",
          "text": [
            "Training loss: 1.1961962938308717\n"
          ]
        },
        {
          "output_type": "stream",
          "name": "stderr",
          "text": [
            "100%|██████████| 6/6 [00:00<00:00, 193.69it/s]\n"
          ]
        },
        {
          "output_type": "stream",
          "name": "stdout",
          "text": [
            "Validation loss: 1.1717101732889812\n",
            "Validation accuracy: 0.4875752925872803\n",
            "Epoch 94:\n"
          ]
        },
        {
          "output_type": "stream",
          "name": "stderr",
          "text": [
            "100%|██████████| 10/10 [00:00<00:00, 114.01it/s]\n"
          ]
        },
        {
          "output_type": "stream",
          "name": "stdout",
          "text": [
            "Training loss: 1.196592378616333\n"
          ]
        },
        {
          "output_type": "stream",
          "name": "stderr",
          "text": [
            "100%|██████████| 6/6 [00:00<00:00, 188.11it/s]\n"
          ]
        },
        {
          "output_type": "stream",
          "name": "stdout",
          "text": [
            "Validation loss: 1.1971163749694824\n",
            "Validation accuracy: 0.4600903391838074\n",
            "Epoch 95:\n"
          ]
        },
        {
          "output_type": "stream",
          "name": "stderr",
          "text": [
            "100%|██████████| 10/10 [00:00<00:00, 86.72it/s]\n"
          ]
        },
        {
          "output_type": "stream",
          "name": "stdout",
          "text": [
            "Training loss: 1.183198368549347\n"
          ]
        },
        {
          "output_type": "stream",
          "name": "stderr",
          "text": [
            "100%|██████████| 6/6 [00:00<00:00, 220.11it/s]\n"
          ]
        },
        {
          "output_type": "stream",
          "name": "stdout",
          "text": [
            "Validation loss: 1.182928462823232\n",
            "Validation accuracy: 0.4792921543121338\n",
            "Epoch 96:\n"
          ]
        },
        {
          "output_type": "stream",
          "name": "stderr",
          "text": [
            "100%|██████████| 10/10 [00:00<00:00, 109.14it/s]\n"
          ]
        },
        {
          "output_type": "stream",
          "name": "stdout",
          "text": [
            "Training loss: 1.1818696975708007\n"
          ]
        },
        {
          "output_type": "stream",
          "name": "stderr",
          "text": [
            "100%|██████████| 6/6 [00:00<00:00, 198.64it/s]\n"
          ]
        },
        {
          "output_type": "stream",
          "name": "stdout",
          "text": [
            "Validation loss: 1.1838688254356384\n",
            "Validation accuracy: 0.4679969847202301\n",
            "Epoch 97:\n"
          ]
        },
        {
          "output_type": "stream",
          "name": "stderr",
          "text": [
            "100%|██████████| 10/10 [00:00<00:00, 86.73it/s]\n"
          ]
        },
        {
          "output_type": "stream",
          "name": "stdout",
          "text": [
            "Training loss: 1.1920048594474792\n"
          ]
        },
        {
          "output_type": "stream",
          "name": "stderr",
          "text": [
            "100%|██████████| 6/6 [00:00<00:00, 201.67it/s]\n"
          ]
        },
        {
          "output_type": "stream",
          "name": "stdout",
          "text": [
            "Validation loss: 1.1751714150110881\n",
            "Validation accuracy: 0.47590360045433044\n",
            "Epoch 98:\n"
          ]
        },
        {
          "output_type": "stream",
          "name": "stderr",
          "text": [
            "100%|██████████| 10/10 [00:00<00:00, 92.25it/s]\n"
          ]
        },
        {
          "output_type": "stream",
          "name": "stdout",
          "text": [
            "Training loss: 1.1807263851165772\n"
          ]
        },
        {
          "output_type": "stream",
          "name": "stderr",
          "text": [
            "100%|██████████| 6/6 [00:00<00:00, 213.48it/s]\n"
          ]
        },
        {
          "output_type": "stream",
          "name": "stdout",
          "text": [
            "Validation loss: 1.1872925162315369\n",
            "Validation accuracy: 0.4747740924358368\n",
            "Epoch 99:\n"
          ]
        },
        {
          "output_type": "stream",
          "name": "stderr",
          "text": [
            "100%|██████████| 10/10 [00:00<00:00, 99.83it/s]\n"
          ]
        },
        {
          "output_type": "stream",
          "name": "stdout",
          "text": [
            "Training loss: 1.1910837054252625\n"
          ]
        },
        {
          "output_type": "stream",
          "name": "stderr",
          "text": [
            "100%|██████████| 6/6 [00:00<00:00, 187.75it/s]\n"
          ]
        },
        {
          "output_type": "stream",
          "name": "stdout",
          "text": [
            "Validation loss: 1.1839820742607117\n",
            "Validation accuracy: 0.47213852405548096\n",
            "Epoch 100:\n"
          ]
        },
        {
          "output_type": "stream",
          "name": "stderr",
          "text": [
            "100%|██████████| 10/10 [00:00<00:00, 109.61it/s]\n"
          ]
        },
        {
          "output_type": "stream",
          "name": "stdout",
          "text": [
            "Training loss: 1.1871750593185424\n"
          ]
        },
        {
          "output_type": "stream",
          "name": "stderr",
          "text": [
            "100%|██████████| 6/6 [00:00<00:00, 189.47it/s]\n"
          ]
        },
        {
          "output_type": "stream",
          "name": "stdout",
          "text": [
            "Validation loss: 1.1819608807563782\n",
            "Validation accuracy: 0.48343372344970703\n",
            "Epoch 101:\n"
          ]
        },
        {
          "output_type": "stream",
          "name": "stderr",
          "text": [
            "100%|██████████| 10/10 [00:00<00:00, 83.83it/s]\n"
          ]
        },
        {
          "output_type": "stream",
          "name": "stdout",
          "text": [
            "Training loss: 1.179259431362152\n"
          ]
        },
        {
          "output_type": "stream",
          "name": "stderr",
          "text": [
            "100%|██████████| 6/6 [00:00<00:00, 166.84it/s]\n"
          ]
        },
        {
          "output_type": "stream",
          "name": "stdout",
          "text": [
            "Validation loss: 1.1898447076479595\n",
            "Validation accuracy: 0.47740963101387024\n",
            "Epoch 102:\n"
          ]
        },
        {
          "output_type": "stream",
          "name": "stderr",
          "text": [
            "100%|██████████| 10/10 [00:00<00:00, 101.17it/s]\n"
          ]
        },
        {
          "output_type": "stream",
          "name": "stdout",
          "text": [
            "Training loss: 1.1979160070419312\n"
          ]
        },
        {
          "output_type": "stream",
          "name": "stderr",
          "text": [
            "100%|██████████| 6/6 [00:00<00:00, 224.95it/s]\n"
          ]
        },
        {
          "output_type": "stream",
          "name": "stdout",
          "text": [
            "Validation loss: 1.1879446307818096\n",
            "Validation accuracy: 0.47364455461502075\n",
            "Epoch 103:\n"
          ]
        },
        {
          "output_type": "stream",
          "name": "stderr",
          "text": [
            "100%|██████████| 10/10 [00:00<00:00, 91.04it/s]\n"
          ]
        },
        {
          "output_type": "stream",
          "name": "stdout",
          "text": [
            "Training loss: 1.1854546904563903\n"
          ]
        },
        {
          "output_type": "stream",
          "name": "stderr",
          "text": [
            "100%|██████████| 6/6 [00:00<00:00, 163.45it/s]\n"
          ]
        },
        {
          "output_type": "stream",
          "name": "stdout",
          "text": [
            "Validation loss: 1.173466444015503\n",
            "Validation accuracy: 0.48042166233062744\n",
            "Epoch 104:\n"
          ]
        },
        {
          "output_type": "stream",
          "name": "stderr",
          "text": [
            "100%|██████████| 10/10 [00:00<00:00, 87.94it/s]\n"
          ]
        },
        {
          "output_type": "stream",
          "name": "stdout",
          "text": [
            "Training loss: 1.187969982624054\n"
          ]
        },
        {
          "output_type": "stream",
          "name": "stderr",
          "text": [
            "100%|██████████| 6/6 [00:00<00:00, 216.55it/s]\n"
          ]
        },
        {
          "output_type": "stream",
          "name": "stdout",
          "text": [
            "Validation loss: 1.1857486565907795\n",
            "Validation accuracy: 0.4695029854774475\n",
            "Epoch 105:\n"
          ]
        },
        {
          "output_type": "stream",
          "name": "stderr",
          "text": [
            "100%|██████████| 10/10 [00:00<00:00, 105.98it/s]\n"
          ]
        },
        {
          "output_type": "stream",
          "name": "stdout",
          "text": [
            "Training loss: 1.18347510099411\n"
          ]
        },
        {
          "output_type": "stream",
          "name": "stderr",
          "text": [
            "100%|██████████| 6/6 [00:00<00:00, 172.38it/s]\n"
          ]
        },
        {
          "output_type": "stream",
          "name": "stdout",
          "text": [
            "Validation loss: 1.1938071052233379\n",
            "Validation accuracy: 0.46611443161964417\n",
            "Epoch 106:\n"
          ]
        },
        {
          "output_type": "stream",
          "name": "stderr",
          "text": [
            "100%|██████████| 10/10 [00:00<00:00, 102.19it/s]\n"
          ]
        },
        {
          "output_type": "stream",
          "name": "stdout",
          "text": [
            "Training loss: 1.1830023884773255\n"
          ]
        },
        {
          "output_type": "stream",
          "name": "stderr",
          "text": [
            "100%|██████████| 6/6 [00:00<00:00, 185.50it/s]\n"
          ]
        },
        {
          "output_type": "stream",
          "name": "stdout",
          "text": [
            "Validation loss: 1.1864478190739949\n",
            "Validation accuracy: 0.46385541558265686\n",
            "Epoch 107:\n"
          ]
        },
        {
          "output_type": "stream",
          "name": "stderr",
          "text": [
            "100%|██████████| 10/10 [00:00<00:00, 93.77it/s]\n"
          ]
        },
        {
          "output_type": "stream",
          "name": "stdout",
          "text": [
            "Training loss: 1.209821093082428\n"
          ]
        },
        {
          "output_type": "stream",
          "name": "stderr",
          "text": [
            "100%|██████████| 6/6 [00:00<00:00, 202.66it/s]"
          ]
        },
        {
          "output_type": "stream",
          "name": "stdout",
          "text": [
            "Validation loss: 1.2047244906425476"
          ]
        },
        {
          "output_type": "stream",
          "name": "stderr",
          "text": [
            "\n"
          ]
        },
        {
          "output_type": "stream",
          "name": "stdout",
          "text": [
            "\n",
            "Validation accuracy: 0.4593373239040375\n",
            "Epoch 108:\n"
          ]
        },
        {
          "output_type": "stream",
          "name": "stderr",
          "text": [
            "100%|██████████| 10/10 [00:00<00:00, 86.82it/s]\n"
          ]
        },
        {
          "output_type": "stream",
          "name": "stdout",
          "text": [
            "Training loss: 1.1893054366111755\n"
          ]
        },
        {
          "output_type": "stream",
          "name": "stderr",
          "text": [
            "100%|██████████| 6/6 [00:00<00:00, 188.52it/s]\n"
          ]
        },
        {
          "output_type": "stream",
          "name": "stdout",
          "text": [
            "Validation loss: 1.2076589663823445\n",
            "Validation accuracy: 0.4687499701976776\n",
            "Epoch 109:\n"
          ]
        },
        {
          "output_type": "stream",
          "name": "stderr",
          "text": [
            "100%|██████████| 10/10 [00:00<00:00, 103.44it/s]\n"
          ]
        },
        {
          "output_type": "stream",
          "name": "stdout",
          "text": [
            "Training loss: 1.181193435192108\n"
          ]
        },
        {
          "output_type": "stream",
          "name": "stderr",
          "text": [
            "100%|██████████| 6/6 [00:00<00:00, 149.94it/s]\n"
          ]
        },
        {
          "output_type": "stream",
          "name": "stdout",
          "text": [
            "Validation loss: 1.1832990845044453\n",
            "Validation accuracy: 0.4717620313167572\n",
            "Epoch 110:\n"
          ]
        },
        {
          "output_type": "stream",
          "name": "stderr",
          "text": [
            "100%|██████████| 10/10 [00:00<00:00, 81.52it/s]\n"
          ]
        },
        {
          "output_type": "stream",
          "name": "stdout",
          "text": [
            "Training loss: 1.194323754310608\n"
          ]
        },
        {
          "output_type": "stream",
          "name": "stderr",
          "text": [
            "100%|██████████| 6/6 [00:00<00:00, 170.26it/s]\n"
          ]
        },
        {
          "output_type": "stream",
          "name": "stdout",
          "text": [
            "Validation loss: 1.1718342900276184\n",
            "Validation accuracy: 0.47364455461502075\n",
            "Epoch 111:\n"
          ]
        },
        {
          "output_type": "stream",
          "name": "stderr",
          "text": [
            "100%|██████████| 10/10 [00:00<00:00, 107.53it/s]\n"
          ]
        },
        {
          "output_type": "stream",
          "name": "stdout",
          "text": [
            "Training loss: 1.1854175567626952\n"
          ]
        },
        {
          "output_type": "stream",
          "name": "stderr",
          "text": [
            "100%|██████████| 6/6 [00:00<00:00, 204.26it/s]\n"
          ]
        },
        {
          "output_type": "stream",
          "name": "stdout",
          "text": [
            "Validation loss: 1.1737743020057678\n",
            "Validation accuracy: 0.473268061876297\n",
            "Epoch 112:\n"
          ]
        },
        {
          "output_type": "stream",
          "name": "stderr",
          "text": [
            "100%|██████████| 10/10 [00:00<00:00, 105.56it/s]\n"
          ]
        },
        {
          "output_type": "stream",
          "name": "stdout",
          "text": [
            "Training loss: 1.1800106287002563\n"
          ]
        },
        {
          "output_type": "stream",
          "name": "stderr",
          "text": [
            "100%|██████████| 6/6 [00:00<00:00, 210.01it/s]\n"
          ]
        },
        {
          "output_type": "stream",
          "name": "stdout",
          "text": [
            "Validation loss: 1.1828471024831135\n",
            "Validation accuracy: 0.4717620313167572\n",
            "Epoch 113:\n"
          ]
        },
        {
          "output_type": "stream",
          "name": "stderr",
          "text": [
            "100%|██████████| 10/10 [00:00<00:00, 95.73it/s]\n"
          ]
        },
        {
          "output_type": "stream",
          "name": "stdout",
          "text": [
            "Training loss: 1.184938097000122\n"
          ]
        },
        {
          "output_type": "stream",
          "name": "stderr",
          "text": [
            "100%|██████████| 6/6 [00:00<00:00, 197.38it/s]\n"
          ]
        },
        {
          "output_type": "stream",
          "name": "stdout",
          "text": [
            "Validation loss: 1.1935948729515076\n",
            "Validation accuracy: 0.46536141633987427\n",
            "Epoch 114:\n"
          ]
        },
        {
          "output_type": "stream",
          "name": "stderr",
          "text": [
            "100%|██████████| 10/10 [00:00<00:00, 95.76it/s]\n"
          ]
        },
        {
          "output_type": "stream",
          "name": "stdout",
          "text": [
            "Training loss: 1.1718891859054565\n"
          ]
        },
        {
          "output_type": "stream",
          "name": "stderr",
          "text": [
            "100%|██████████| 6/6 [00:00<00:00, 225.80it/s]\n"
          ]
        },
        {
          "output_type": "stream",
          "name": "stdout",
          "text": [
            "Validation loss: 1.1928123037020366\n",
            "Validation accuracy: 0.4619728624820709\n",
            "Epoch 115:\n"
          ]
        },
        {
          "output_type": "stream",
          "name": "stderr",
          "text": [
            "100%|██████████| 10/10 [00:00<00:00, 93.24it/s]\n"
          ]
        },
        {
          "output_type": "stream",
          "name": "stdout",
          "text": [
            "Training loss: 1.182294499874115\n"
          ]
        },
        {
          "output_type": "stream",
          "name": "stderr",
          "text": [
            "100%|██████████| 6/6 [00:00<00:00, 202.53it/s]\n"
          ]
        },
        {
          "output_type": "stream",
          "name": "stdout",
          "text": [
            "Validation loss: 1.1948228875796\n",
            "Validation accuracy: 0.4687499701976776\n",
            "Epoch 116:\n"
          ]
        },
        {
          "output_type": "stream",
          "name": "stderr",
          "text": [
            "100%|██████████| 10/10 [00:00<00:00, 85.77it/s]\n"
          ]
        },
        {
          "output_type": "stream",
          "name": "stdout",
          "text": [
            "Training loss: 1.1820468783378602\n"
          ]
        },
        {
          "output_type": "stream",
          "name": "stderr",
          "text": [
            "100%|██████████| 6/6 [00:00<00:00, 136.99it/s]\n"
          ]
        },
        {
          "output_type": "stream",
          "name": "stdout",
          "text": [
            "Validation loss: 1.189551055431366\n",
            "Validation accuracy: 0.4627258777618408\n",
            "Epoch 117:\n"
          ]
        },
        {
          "output_type": "stream",
          "name": "stderr",
          "text": [
            "100%|██████████| 10/10 [00:00<00:00, 94.63it/s]\n"
          ]
        },
        {
          "output_type": "stream",
          "name": "stdout",
          "text": [
            "Training loss: 1.190036702156067\n"
          ]
        },
        {
          "output_type": "stream",
          "name": "stderr",
          "text": [
            "100%|██████████| 6/6 [00:00<00:00, 218.57it/s]\n"
          ]
        },
        {
          "output_type": "stream",
          "name": "stdout",
          "text": [
            "Validation loss: 1.202168345451355\n",
            "Validation accuracy: 0.46385541558265686\n",
            "Epoch 118:\n"
          ]
        },
        {
          "output_type": "stream",
          "name": "stderr",
          "text": [
            "100%|██████████| 10/10 [00:00<00:00, 101.45it/s]\n"
          ]
        },
        {
          "output_type": "stream",
          "name": "stdout",
          "text": [
            "Training loss: 1.191469180583954\n"
          ]
        },
        {
          "output_type": "stream",
          "name": "stderr",
          "text": [
            "100%|██████████| 6/6 [00:00<00:00, 163.16it/s]\n"
          ]
        },
        {
          "output_type": "stream",
          "name": "stdout",
          "text": [
            "Validation loss: 1.1677818298339844\n",
            "Validation accuracy: 0.4717620313167572\n",
            "Epoch 119:\n"
          ]
        },
        {
          "output_type": "stream",
          "name": "stderr",
          "text": [
            "100%|██████████| 10/10 [00:00<00:00, 90.52it/s]\n"
          ]
        },
        {
          "output_type": "stream",
          "name": "stdout",
          "text": [
            "Training loss: 1.1847574353218078\n"
          ]
        },
        {
          "output_type": "stream",
          "name": "stderr",
          "text": [
            "100%|██████████| 6/6 [00:00<00:00, 180.03it/s]\n"
          ]
        },
        {
          "output_type": "stream",
          "name": "stdout",
          "text": [
            "Validation loss: 1.1889625390370686\n",
            "Validation accuracy: 0.4679969847202301\n",
            "Epoch 120:\n"
          ]
        },
        {
          "output_type": "stream",
          "name": "stderr",
          "text": [
            "100%|██████████| 10/10 [00:00<00:00, 76.00it/s]\n"
          ]
        },
        {
          "output_type": "stream",
          "name": "stdout",
          "text": [
            "Training loss: 1.1910830378532409\n"
          ]
        },
        {
          "output_type": "stream",
          "name": "stderr",
          "text": [
            "100%|██████████| 6/6 [00:00<00:00, 116.93it/s]\n"
          ]
        },
        {
          "output_type": "stream",
          "name": "stdout",
          "text": [
            "Validation loss: 1.1692404349644978\n",
            "Validation accuracy: 0.47063252329826355\n",
            "Epoch 121:\n"
          ]
        },
        {
          "output_type": "stream",
          "name": "stderr",
          "text": [
            "100%|██████████| 10/10 [00:00<00:00, 61.21it/s]\n"
          ]
        },
        {
          "output_type": "stream",
          "name": "stdout",
          "text": [
            "Training loss: 1.1810898184776306\n"
          ]
        },
        {
          "output_type": "stream",
          "name": "stderr",
          "text": [
            "100%|██████████| 6/6 [00:00<00:00, 118.96it/s]\n"
          ]
        },
        {
          "output_type": "stream",
          "name": "stdout",
          "text": [
            "Validation loss: 1.164983054002126\n",
            "Validation accuracy: 0.48343372344970703\n",
            "Epoch 122:\n"
          ]
        },
        {
          "output_type": "stream",
          "name": "stderr",
          "text": [
            "100%|██████████| 10/10 [00:00<00:00, 62.71it/s]\n"
          ]
        },
        {
          "output_type": "stream",
          "name": "stdout",
          "text": [
            "Training loss: 1.1817835807800292\n"
          ]
        },
        {
          "output_type": "stream",
          "name": "stderr",
          "text": [
            "100%|██████████| 6/6 [00:00<00:00, 131.20it/s]\n"
          ]
        },
        {
          "output_type": "stream",
          "name": "stdout",
          "text": [
            "Validation loss: 1.1981654167175293\n",
            "Validation accuracy: 0.46987950801849365\n",
            "Epoch 123:\n"
          ]
        },
        {
          "output_type": "stream",
          "name": "stderr",
          "text": [
            "100%|██████████| 10/10 [00:00<00:00, 66.79it/s]\n"
          ]
        },
        {
          "output_type": "stream",
          "name": "stdout",
          "text": [
            "Training loss: 1.1921168684959411\n"
          ]
        },
        {
          "output_type": "stream",
          "name": "stderr",
          "text": [
            "100%|██████████| 6/6 [00:00<00:00, 157.55it/s]\n"
          ]
        },
        {
          "output_type": "stream",
          "name": "stdout",
          "text": [
            "Validation loss: 1.1743713021278381\n",
            "Validation accuracy: 0.4890812933444977\n",
            "Epoch 124:\n"
          ]
        },
        {
          "output_type": "stream",
          "name": "stderr",
          "text": [
            "100%|██████████| 10/10 [00:00<00:00, 64.85it/s]\n"
          ]
        },
        {
          "output_type": "stream",
          "name": "stdout",
          "text": [
            "Training loss: 1.1752480030059815\n"
          ]
        },
        {
          "output_type": "stream",
          "name": "stderr",
          "text": [
            "100%|██████████| 6/6 [00:00<00:00, 158.98it/s]\n"
          ]
        },
        {
          "output_type": "stream",
          "name": "stdout",
          "text": [
            "Validation loss: 1.2031558156013489\n",
            "Validation accuracy: 0.4604668617248535\n",
            "Epoch 125:\n"
          ]
        },
        {
          "output_type": "stream",
          "name": "stderr",
          "text": [
            "100%|██████████| 10/10 [00:00<00:00, 65.33it/s]\n"
          ]
        },
        {
          "output_type": "stream",
          "name": "stdout",
          "text": [
            "Training loss: 1.1798982977867127\n"
          ]
        },
        {
          "output_type": "stream",
          "name": "stderr",
          "text": [
            "100%|██████████| 6/6 [00:00<00:00, 143.95it/s]\n"
          ]
        },
        {
          "output_type": "stream",
          "name": "stdout",
          "text": [
            "Validation loss: 1.1689945260683696\n",
            "Validation accuracy: 0.4785391390323639\n",
            "Epoch 126:\n"
          ]
        },
        {
          "output_type": "stream",
          "name": "stderr",
          "text": [
            "100%|██████████| 10/10 [00:00<00:00, 69.61it/s]\n"
          ]
        },
        {
          "output_type": "stream",
          "name": "stdout",
          "text": [
            "Training loss: 1.1914866089820861\n"
          ]
        },
        {
          "output_type": "stream",
          "name": "stderr",
          "text": [
            "100%|██████████| 6/6 [00:00<00:00, 147.33it/s]\n"
          ]
        },
        {
          "output_type": "stream",
          "name": "stdout",
          "text": [
            "Validation loss: 1.1740864713986714\n",
            "Validation accuracy: 0.4695029854774475\n",
            "Epoch 127:\n"
          ]
        },
        {
          "output_type": "stream",
          "name": "stderr",
          "text": [
            "100%|██████████| 10/10 [00:00<00:00, 59.25it/s]\n"
          ]
        },
        {
          "output_type": "stream",
          "name": "stdout",
          "text": [
            "Training loss: 1.1798552513122558\n"
          ]
        },
        {
          "output_type": "stream",
          "name": "stderr",
          "text": [
            "100%|██████████| 6/6 [00:00<00:00, 113.48it/s]\n"
          ]
        },
        {
          "output_type": "stream",
          "name": "stdout",
          "text": [
            "Validation loss: 1.2102598547935486\n",
            "Validation accuracy: 0.4725150465965271\n",
            "Epoch 128:\n"
          ]
        },
        {
          "output_type": "stream",
          "name": "stderr",
          "text": [
            "100%|██████████| 10/10 [00:00<00:00, 59.15it/s]\n"
          ]
        },
        {
          "output_type": "stream",
          "name": "stdout",
          "text": [
            "Training loss: 1.1834665775299071\n"
          ]
        },
        {
          "output_type": "stream",
          "name": "stderr",
          "text": [
            "100%|██████████| 6/6 [00:00<00:00, 155.40it/s]\n"
          ]
        },
        {
          "output_type": "stream",
          "name": "stdout",
          "text": [
            "Validation loss: 1.1955283085505168\n",
            "Validation accuracy: 0.4838102161884308\n",
            "Epoch 129:\n"
          ]
        },
        {
          "output_type": "stream",
          "name": "stderr",
          "text": [
            "100%|██████████| 10/10 [00:00<00:00, 65.05it/s]\n"
          ]
        },
        {
          "output_type": "stream",
          "name": "stdout",
          "text": [
            "Training loss: 1.1852623701095581\n"
          ]
        },
        {
          "output_type": "stream",
          "name": "stderr",
          "text": [
            "100%|██████████| 6/6 [00:00<00:00, 93.06it/s]\n"
          ]
        },
        {
          "output_type": "stream",
          "name": "stdout",
          "text": [
            "Validation loss: 1.191060443719228\n",
            "Validation accuracy: 0.46310240030288696\n",
            "Epoch 130:\n"
          ]
        },
        {
          "output_type": "stream",
          "name": "stderr",
          "text": [
            "100%|██████████| 10/10 [00:00<00:00, 62.63it/s]\n"
          ]
        },
        {
          "output_type": "stream",
          "name": "stdout",
          "text": [
            "Training loss: 1.1828543663024902\n"
          ]
        },
        {
          "output_type": "stream",
          "name": "stderr",
          "text": [
            "100%|██████████| 6/6 [00:00<00:00, 143.76it/s]\n"
          ]
        },
        {
          "output_type": "stream",
          "name": "stdout",
          "text": [
            "Validation loss: 1.1877562602361043\n",
            "Validation accuracy: 0.48418673872947693\n",
            "Epoch 131:\n"
          ]
        },
        {
          "output_type": "stream",
          "name": "stderr",
          "text": [
            "100%|██████████| 10/10 [00:00<00:00, 58.26it/s]\n"
          ]
        },
        {
          "output_type": "stream",
          "name": "stdout",
          "text": [
            "Training loss: 1.1829201459884644\n"
          ]
        },
        {
          "output_type": "stream",
          "name": "stderr",
          "text": [
            "100%|██████████| 6/6 [00:00<00:00, 122.17it/s]\n"
          ]
        },
        {
          "output_type": "stream",
          "name": "stdout",
          "text": [
            "Validation loss: 1.1966302792231243\n",
            "Validation accuracy: 0.4612198770046234\n",
            "Epoch 132:\n"
          ]
        },
        {
          "output_type": "stream",
          "name": "stderr",
          "text": [
            "100%|██████████| 10/10 [00:00<00:00, 67.06it/s]\n"
          ]
        },
        {
          "output_type": "stream",
          "name": "stdout",
          "text": [
            "Training loss: 1.1806533455848693\n"
          ]
        },
        {
          "output_type": "stream",
          "name": "stderr",
          "text": [
            "100%|██████████| 6/6 [00:00<00:00, 184.46it/s]\n"
          ]
        },
        {
          "output_type": "stream",
          "name": "stdout",
          "text": [
            "Validation loss: 1.1972379485766094\n",
            "Validation accuracy: 0.46686744689941406\n",
            "Epoch 133:\n"
          ]
        },
        {
          "output_type": "stream",
          "name": "stderr",
          "text": [
            "100%|██████████| 10/10 [00:00<00:00, 104.51it/s]\n"
          ]
        },
        {
          "output_type": "stream",
          "name": "stdout",
          "text": [
            "Training loss: 1.1891434907913208\n"
          ]
        },
        {
          "output_type": "stream",
          "name": "stderr",
          "text": [
            "100%|██████████| 6/6 [00:00<00:00, 160.14it/s]\n"
          ]
        },
        {
          "output_type": "stream",
          "name": "stdout",
          "text": [
            "Validation loss: 1.1872080564498901\n",
            "Validation accuracy: 0.47364455461502075\n",
            "Epoch 134:\n"
          ]
        },
        {
          "output_type": "stream",
          "name": "stderr",
          "text": [
            "100%|██████████| 10/10 [00:00<00:00, 84.96it/s]\n"
          ]
        },
        {
          "output_type": "stream",
          "name": "stdout",
          "text": [
            "Training loss: 1.1847785711288452\n"
          ]
        },
        {
          "output_type": "stream",
          "name": "stderr",
          "text": [
            "100%|██████████| 6/6 [00:00<00:00, 174.01it/s]\n"
          ]
        },
        {
          "output_type": "stream",
          "name": "stdout",
          "text": [
            "Validation loss: 1.1933452884356182\n",
            "Validation accuracy: 0.47740963101387024\n",
            "Epoch 135:\n"
          ]
        },
        {
          "output_type": "stream",
          "name": "stderr",
          "text": [
            "100%|██████████| 10/10 [00:00<00:00, 102.48it/s]\n"
          ]
        },
        {
          "output_type": "stream",
          "name": "stdout",
          "text": [
            "Training loss: 1.1879321932792664\n"
          ]
        },
        {
          "output_type": "stream",
          "name": "stderr",
          "text": [
            "100%|██████████| 6/6 [00:00<00:00, 183.55it/s]\n"
          ]
        },
        {
          "output_type": "stream",
          "name": "stdout",
          "text": [
            "Validation loss: 1.1878486076990764\n",
            "Validation accuracy: 0.4725150465965271\n",
            "Epoch 136:\n"
          ]
        },
        {
          "output_type": "stream",
          "name": "stderr",
          "text": [
            "100%|██████████| 10/10 [00:00<00:00, 95.63it/s]\n"
          ]
        },
        {
          "output_type": "stream",
          "name": "stdout",
          "text": [
            "Training loss: 1.1916762828826903\n"
          ]
        },
        {
          "output_type": "stream",
          "name": "stderr",
          "text": [
            "100%|██████████| 6/6 [00:00<00:00, 155.49it/s]\n"
          ]
        },
        {
          "output_type": "stream",
          "name": "stdout",
          "text": [
            "Validation loss: 1.1953348914782207\n",
            "Validation accuracy: 0.4747740924358368\n",
            "Epoch 137:\n"
          ]
        },
        {
          "output_type": "stream",
          "name": "stderr",
          "text": [
            "100%|██████████| 10/10 [00:00<00:00, 92.88it/s]\n"
          ]
        },
        {
          "output_type": "stream",
          "name": "stdout",
          "text": [
            "Training loss: 1.198971724510193\n"
          ]
        },
        {
          "output_type": "stream",
          "name": "stderr",
          "text": [
            "100%|██████████| 6/6 [00:00<00:00, 155.31it/s]\n"
          ]
        },
        {
          "output_type": "stream",
          "name": "stdout",
          "text": [
            "Validation loss: 1.171439250310262\n",
            "Validation accuracy: 0.48569273948669434\n",
            "Epoch 138:\n"
          ]
        },
        {
          "output_type": "stream",
          "name": "stderr",
          "text": [
            "100%|██████████| 10/10 [00:00<00:00, 94.67it/s]\n"
          ]
        },
        {
          "output_type": "stream",
          "name": "stdout",
          "text": [
            "Training loss: 1.1798752427101136\n"
          ]
        },
        {
          "output_type": "stream",
          "name": "stderr",
          "text": [
            "100%|██████████| 6/6 [00:00<00:00, 207.34it/s]\n"
          ]
        },
        {
          "output_type": "stream",
          "name": "stdout",
          "text": [
            "Validation loss: 1.2104128003120422\n",
            "Validation accuracy: 0.46159636974334717\n",
            "Epoch 139:\n"
          ]
        },
        {
          "output_type": "stream",
          "name": "stderr",
          "text": [
            "100%|██████████| 10/10 [00:00<00:00, 90.65it/s]\n"
          ]
        },
        {
          "output_type": "stream",
          "name": "stdout",
          "text": [
            "Training loss: 1.1959285020828248\n"
          ]
        },
        {
          "output_type": "stream",
          "name": "stderr",
          "text": [
            "100%|██████████| 6/6 [00:00<00:00, 170.72it/s]"
          ]
        },
        {
          "output_type": "stream",
          "name": "stdout",
          "text": [
            "Validation loss: 1.180834432442983"
          ]
        },
        {
          "output_type": "stream",
          "name": "stderr",
          "text": [
            "\n"
          ]
        },
        {
          "output_type": "stream",
          "name": "stdout",
          "text": [
            "\n",
            "Validation accuracy: 0.48192769289016724\n",
            "Epoch 140:\n"
          ]
        },
        {
          "output_type": "stream",
          "name": "stderr",
          "text": [
            "100%|██████████| 10/10 [00:00<00:00, 92.66it/s]\n"
          ]
        },
        {
          "output_type": "stream",
          "name": "stdout",
          "text": [
            "Training loss: 1.1832038760185242\n"
          ]
        },
        {
          "output_type": "stream",
          "name": "stderr",
          "text": [
            "100%|██████████| 6/6 [00:00<00:00, 217.88it/s]\n"
          ]
        },
        {
          "output_type": "stream",
          "name": "stdout",
          "text": [
            "Validation loss: 1.1847776174545288\n",
            "Validation accuracy: 0.46762046217918396\n",
            "Epoch 141:\n"
          ]
        },
        {
          "output_type": "stream",
          "name": "stderr",
          "text": [
            "100%|██████████| 10/10 [00:00<00:00, 24.57it/s]\n"
          ]
        },
        {
          "output_type": "stream",
          "name": "stdout",
          "text": [
            "Training loss: 1.190479838848114\n"
          ]
        },
        {
          "output_type": "stream",
          "name": "stderr",
          "text": [
            "100%|██████████| 6/6 [00:00<00:00, 168.13it/s]\n"
          ]
        },
        {
          "output_type": "stream",
          "name": "stdout",
          "text": [
            "Validation loss: 1.184728781382243\n",
            "Validation accuracy: 0.4849397540092468\n",
            "Epoch 142:\n"
          ]
        },
        {
          "output_type": "stream",
          "name": "stderr",
          "text": [
            "100%|██████████| 10/10 [00:00<00:00, 94.07it/s]\n"
          ]
        },
        {
          "output_type": "stream",
          "name": "stdout",
          "text": [
            "Training loss: 1.1815868854522704\n"
          ]
        },
        {
          "output_type": "stream",
          "name": "stderr",
          "text": [
            "100%|██████████| 6/6 [00:00<00:00, 209.82it/s]\n"
          ]
        },
        {
          "output_type": "stream",
          "name": "stdout",
          "text": [
            "Validation loss: 1.1826021075248718\n",
            "Validation accuracy: 0.4755270779132843\n",
            "Epoch 143:\n"
          ]
        },
        {
          "output_type": "stream",
          "name": "stderr",
          "text": [
            "100%|██████████| 10/10 [00:00<00:00, 79.64it/s]\n"
          ]
        },
        {
          "output_type": "stream",
          "name": "stdout",
          "text": [
            "Training loss: 1.1917381405830383\n"
          ]
        },
        {
          "output_type": "stream",
          "name": "stderr",
          "text": [
            "100%|██████████| 6/6 [00:00<00:00, 183.29it/s]\n"
          ]
        },
        {
          "output_type": "stream",
          "name": "stdout",
          "text": [
            "Validation loss: 1.1709164381027222\n",
            "Validation accuracy: 0.47966864705085754\n",
            "Epoch 144:\n"
          ]
        },
        {
          "output_type": "stream",
          "name": "stderr",
          "text": [
            "100%|██████████| 10/10 [00:00<00:00, 95.32it/s]\n"
          ]
        },
        {
          "output_type": "stream",
          "name": "stdout",
          "text": [
            "Training loss: 1.1779309511184692\n"
          ]
        },
        {
          "output_type": "stream",
          "name": "stderr",
          "text": [
            "100%|██████████| 6/6 [00:00<00:00, 204.66it/s]\n"
          ]
        },
        {
          "output_type": "stream",
          "name": "stdout",
          "text": [
            "Validation loss: 1.2191675702730815\n",
            "Validation accuracy: 0.4664909541606903\n",
            "Epoch 145:\n"
          ]
        },
        {
          "output_type": "stream",
          "name": "stderr",
          "text": [
            "100%|██████████| 10/10 [00:00<00:00, 85.01it/s]\n"
          ]
        },
        {
          "output_type": "stream",
          "name": "stdout",
          "text": [
            "Training loss: 1.1876735806465148\n"
          ]
        },
        {
          "output_type": "stream",
          "name": "stderr",
          "text": [
            "100%|██████████| 6/6 [00:00<00:00, 177.71it/s]\n"
          ]
        },
        {
          "output_type": "stream",
          "name": "stdout",
          "text": [
            "Validation loss: 1.1764652927716572\n",
            "Validation accuracy: 0.48418673872947693\n",
            "Epoch 146:\n"
          ]
        },
        {
          "output_type": "stream",
          "name": "stderr",
          "text": [
            "100%|██████████| 10/10 [00:00<00:00, 86.00it/s]\n"
          ]
        },
        {
          "output_type": "stream",
          "name": "stdout",
          "text": [
            "Training loss: 1.174432647228241\n"
          ]
        },
        {
          "output_type": "stream",
          "name": "stderr",
          "text": [
            "100%|██████████| 6/6 [00:00<00:00, 176.69it/s]\n"
          ]
        },
        {
          "output_type": "stream",
          "name": "stdout",
          "text": [
            "Validation loss: 1.1717540621757507\n",
            "Validation accuracy: 0.4740210771560669\n",
            "Epoch 147:\n"
          ]
        },
        {
          "output_type": "stream",
          "name": "stderr",
          "text": [
            "100%|██████████| 10/10 [00:00<00:00, 92.31it/s]\n"
          ]
        },
        {
          "output_type": "stream",
          "name": "stdout",
          "text": [
            "Training loss: 1.201607847213745\n"
          ]
        },
        {
          "output_type": "stream",
          "name": "stderr",
          "text": [
            "100%|██████████| 6/6 [00:00<00:00, 203.53it/s]\n"
          ]
        },
        {
          "output_type": "stream",
          "name": "stdout",
          "text": [
            "Validation loss: 1.1818832953770955\n",
            "Validation accuracy: 0.477786123752594\n",
            "Epoch 148:\n"
          ]
        },
        {
          "output_type": "stream",
          "name": "stderr",
          "text": [
            "100%|██████████| 10/10 [00:00<00:00, 83.84it/s]\n"
          ]
        },
        {
          "output_type": "stream",
          "name": "stdout",
          "text": [
            "Training loss: 1.1954271793365479\n"
          ]
        },
        {
          "output_type": "stream",
          "name": "stderr",
          "text": [
            "100%|██████████| 6/6 [00:00<00:00, 172.11it/s]\n"
          ]
        },
        {
          "output_type": "stream",
          "name": "stdout",
          "text": [
            "Validation loss: 1.1901915073394775\n",
            "Validation accuracy: 0.48418673872947693\n",
            "Epoch 149:\n"
          ]
        },
        {
          "output_type": "stream",
          "name": "stderr",
          "text": [
            "100%|██████████| 10/10 [00:00<00:00, 87.50it/s]\n"
          ]
        },
        {
          "output_type": "stream",
          "name": "stdout",
          "text": [
            "Training loss: 1.1816557765007019\n"
          ]
        },
        {
          "output_type": "stream",
          "name": "stderr",
          "text": [
            "100%|██████████| 6/6 [00:00<00:00, 179.32it/s]\n"
          ]
        },
        {
          "output_type": "stream",
          "name": "stdout",
          "text": [
            "Validation loss: 1.198370099067688\n",
            "Validation accuracy: 0.47816264629364014\n",
            "Epoch 150:\n"
          ]
        },
        {
          "output_type": "stream",
          "name": "stderr",
          "text": [
            "100%|██████████| 10/10 [00:00<00:00, 102.48it/s]\n"
          ]
        },
        {
          "output_type": "stream",
          "name": "stdout",
          "text": [
            "Training loss: 1.1806723594665527\n"
          ]
        },
        {
          "output_type": "stream",
          "name": "stderr",
          "text": [
            "100%|██████████| 6/6 [00:00<00:00, 163.98it/s]\n"
          ]
        },
        {
          "output_type": "stream",
          "name": "stdout",
          "text": [
            "Validation loss: 1.1937403678894043\n",
            "Validation accuracy: 0.4634788930416107\n",
            "Epoch 151:\n"
          ]
        },
        {
          "output_type": "stream",
          "name": "stderr",
          "text": [
            "100%|██████████| 10/10 [00:00<00:00, 106.09it/s]\n"
          ]
        },
        {
          "output_type": "stream",
          "name": "stdout",
          "text": [
            "Training loss: 1.184405791759491\n"
          ]
        },
        {
          "output_type": "stream",
          "name": "stderr",
          "text": [
            "100%|██████████| 6/6 [00:00<00:00, 186.09it/s]\n"
          ]
        },
        {
          "output_type": "stream",
          "name": "stdout",
          "text": [
            "Validation loss: 1.18319167693456\n",
            "Validation accuracy: 0.4710090160369873\n",
            "Epoch 152:\n"
          ]
        },
        {
          "output_type": "stream",
          "name": "stderr",
          "text": [
            "100%|██████████| 10/10 [00:00<00:00, 85.75it/s]\n"
          ]
        },
        {
          "output_type": "stream",
          "name": "stdout",
          "text": [
            "Training loss: 1.1979342699050903\n"
          ]
        },
        {
          "output_type": "stream",
          "name": "stderr",
          "text": [
            "100%|██████████| 6/6 [00:00<00:00, 151.66it/s]\n"
          ]
        },
        {
          "output_type": "stream",
          "name": "stdout",
          "text": [
            "Validation loss: 1.1946751872698467\n",
            "Validation accuracy: 0.4853162467479706\n",
            "Epoch 153:\n"
          ]
        },
        {
          "output_type": "stream",
          "name": "stderr",
          "text": [
            "100%|██████████| 10/10 [00:00<00:00, 97.52it/s]\n"
          ]
        },
        {
          "output_type": "stream",
          "name": "stdout",
          "text": [
            "Training loss: 1.18451669216156\n"
          ]
        },
        {
          "output_type": "stream",
          "name": "stderr",
          "text": [
            "100%|██████████| 6/6 [00:00<00:00, 200.27it/s]\n"
          ]
        },
        {
          "output_type": "stream",
          "name": "stdout",
          "text": [
            "Validation loss: 1.1917383869489033\n",
            "Validation accuracy: 0.4845632314682007\n",
            "Epoch 154:\n"
          ]
        },
        {
          "output_type": "stream",
          "name": "stderr",
          "text": [
            "100%|██████████| 10/10 [00:00<00:00, 97.13it/s]\n"
          ]
        },
        {
          "output_type": "stream",
          "name": "stdout",
          "text": [
            "Training loss: 1.181436574459076\n"
          ]
        },
        {
          "output_type": "stream",
          "name": "stderr",
          "text": [
            "100%|██████████| 6/6 [00:00<00:00, 220.44it/s]\n"
          ]
        },
        {
          "output_type": "stream",
          "name": "stdout",
          "text": [
            "Validation loss: 1.1818391879399617\n",
            "Validation accuracy: 0.4725150465965271\n",
            "Epoch 155:\n"
          ]
        },
        {
          "output_type": "stream",
          "name": "stderr",
          "text": [
            "100%|██████████| 10/10 [00:00<00:00, 73.66it/s]\n"
          ]
        },
        {
          "output_type": "stream",
          "name": "stdout",
          "text": [
            "Training loss: 1.187499225139618\n"
          ]
        },
        {
          "output_type": "stream",
          "name": "stderr",
          "text": [
            "100%|██████████| 6/6 [00:00<00:00, 187.05it/s]\n"
          ]
        },
        {
          "output_type": "stream",
          "name": "stdout",
          "text": [
            "Validation loss: 1.1713019212086995\n",
            "Validation accuracy: 0.4807981848716736\n",
            "Epoch 156:\n"
          ]
        },
        {
          "output_type": "stream",
          "name": "stderr",
          "text": [
            "100%|██████████| 10/10 [00:00<00:00, 101.97it/s]\n"
          ]
        },
        {
          "output_type": "stream",
          "name": "stdout",
          "text": [
            "Training loss: 1.184000301361084\n"
          ]
        },
        {
          "output_type": "stream",
          "name": "stderr",
          "text": [
            "100%|██████████| 6/6 [00:00<00:00, 163.12it/s]\n"
          ]
        },
        {
          "output_type": "stream",
          "name": "stdout",
          "text": [
            "Validation loss: 1.2008834679921467\n",
            "Validation accuracy: 0.46536141633987427\n",
            "Epoch 157:\n"
          ]
        },
        {
          "output_type": "stream",
          "name": "stderr",
          "text": [
            "100%|██████████| 10/10 [00:00<00:00, 105.10it/s]\n"
          ]
        },
        {
          "output_type": "stream",
          "name": "stdout",
          "text": [
            "Training loss: 1.2030798316001892\n"
          ]
        },
        {
          "output_type": "stream",
          "name": "stderr",
          "text": [
            "100%|██████████| 6/6 [00:00<00:00, 212.26it/s]\n"
          ]
        },
        {
          "output_type": "stream",
          "name": "stdout",
          "text": [
            "Validation loss: 1.175675670305888\n",
            "Validation accuracy: 0.46762046217918396\n",
            "Epoch 158:\n"
          ]
        },
        {
          "output_type": "stream",
          "name": "stderr",
          "text": [
            "100%|██████████| 10/10 [00:00<00:00, 83.66it/s]\n"
          ]
        },
        {
          "output_type": "stream",
          "name": "stdout",
          "text": [
            "Training loss: 1.1948451757431031\n"
          ]
        },
        {
          "output_type": "stream",
          "name": "stderr",
          "text": [
            "100%|██████████| 6/6 [00:00<00:00, 170.99it/s]\n"
          ]
        },
        {
          "output_type": "stream",
          "name": "stdout",
          "text": [
            "Validation loss: 1.1777140299479167\n",
            "Validation accuracy: 0.48719877004623413\n",
            "Epoch 159:\n"
          ]
        },
        {
          "output_type": "stream",
          "name": "stderr",
          "text": [
            "100%|██████████| 10/10 [00:00<00:00, 103.29it/s]\n"
          ]
        },
        {
          "output_type": "stream",
          "name": "stdout",
          "text": [
            "Training loss: 1.1773441433906555\n"
          ]
        },
        {
          "output_type": "stream",
          "name": "stderr",
          "text": [
            "100%|██████████| 6/6 [00:00<00:00, 157.47it/s]\n"
          ]
        },
        {
          "output_type": "stream",
          "name": "stdout",
          "text": [
            "Validation loss: 1.1832935611406963\n",
            "Validation accuracy: 0.4755270779132843\n",
            "Epoch 160:\n"
          ]
        },
        {
          "output_type": "stream",
          "name": "stderr",
          "text": [
            "100%|██████████| 10/10 [00:00<00:00, 99.88it/s]\n"
          ]
        },
        {
          "output_type": "stream",
          "name": "stdout",
          "text": [
            "Training loss: 1.1807128071784974\n"
          ]
        },
        {
          "output_type": "stream",
          "name": "stderr",
          "text": [
            "100%|██████████| 6/6 [00:00<00:00, 166.98it/s]\n"
          ]
        },
        {
          "output_type": "stream",
          "name": "stdout",
          "text": [
            "Validation loss: 1.1809727748235066\n",
            "Validation accuracy: 0.4585843086242676\n",
            "Epoch 161:\n"
          ]
        },
        {
          "output_type": "stream",
          "name": "stderr",
          "text": [
            "100%|██████████| 10/10 [00:00<00:00, 84.07it/s]\n"
          ]
        },
        {
          "output_type": "stream",
          "name": "stdout",
          "text": [
            "Training loss: 1.1853479266166687\n"
          ]
        },
        {
          "output_type": "stream",
          "name": "stderr",
          "text": [
            "100%|██████████| 6/6 [00:00<00:00, 170.74it/s]\n"
          ]
        },
        {
          "output_type": "stream",
          "name": "stdout",
          "text": [
            "Validation loss: 1.1993846694628398\n",
            "Validation accuracy: 0.4657379388809204\n",
            "Epoch 162:\n"
          ]
        },
        {
          "output_type": "stream",
          "name": "stderr",
          "text": [
            "100%|██████████| 10/10 [00:00<00:00, 101.65it/s]\n"
          ]
        },
        {
          "output_type": "stream",
          "name": "stdout",
          "text": [
            "Training loss: 1.1756645679473876\n"
          ]
        },
        {
          "output_type": "stream",
          "name": "stderr",
          "text": [
            "100%|██████████| 6/6 [00:00<00:00, 159.20it/s]\n"
          ]
        },
        {
          "output_type": "stream",
          "name": "stdout",
          "text": [
            "Validation loss: 1.1985293825467427\n",
            "Validation accuracy: 0.46912649273872375\n",
            "Epoch 163:\n"
          ]
        },
        {
          "output_type": "stream",
          "name": "stderr",
          "text": [
            "100%|██████████| 10/10 [00:00<00:00, 90.32it/s]\n"
          ]
        },
        {
          "output_type": "stream",
          "name": "stdout",
          "text": [
            "Training loss: 1.1835427403450012\n"
          ]
        },
        {
          "output_type": "stream",
          "name": "stderr",
          "text": [
            "100%|██████████| 6/6 [00:00<00:00, 133.12it/s]\n"
          ]
        },
        {
          "output_type": "stream",
          "name": "stdout",
          "text": [
            "Validation loss: 1.193234622478485\n",
            "Validation accuracy: 0.46460843086242676\n",
            "Epoch 164:\n"
          ]
        },
        {
          "output_type": "stream",
          "name": "stderr",
          "text": [
            "100%|██████████| 10/10 [00:00<00:00, 89.85it/s]\n"
          ]
        },
        {
          "output_type": "stream",
          "name": "stdout",
          "text": [
            "Training loss: 1.196579933166504\n"
          ]
        },
        {
          "output_type": "stream",
          "name": "stderr",
          "text": [
            "100%|██████████| 6/6 [00:00<00:00, 153.43it/s]\n"
          ]
        },
        {
          "output_type": "stream",
          "name": "stdout",
          "text": [
            "Validation loss: 1.1699605981508892\n",
            "Validation accuracy: 0.4815512001514435\n",
            "Epoch 165:\n"
          ]
        },
        {
          "output_type": "stream",
          "name": "stderr",
          "text": [
            "100%|██████████| 10/10 [00:00<00:00, 82.04it/s]\n"
          ]
        },
        {
          "output_type": "stream",
          "name": "stdout",
          "text": [
            "Training loss: 1.1899470567703248\n"
          ]
        },
        {
          "output_type": "stream",
          "name": "stderr",
          "text": [
            "100%|██████████| 6/6 [00:00<00:00, 159.45it/s]\n"
          ]
        },
        {
          "output_type": "stream",
          "name": "stdout",
          "text": [
            "Validation loss: 1.1684281627337139\n",
            "Validation accuracy: 0.48117467761039734\n",
            "Epoch 166:\n"
          ]
        },
        {
          "output_type": "stream",
          "name": "stderr",
          "text": [
            "100%|██████████| 10/10 [00:00<00:00, 84.74it/s]\n"
          ]
        },
        {
          "output_type": "stream",
          "name": "stdout",
          "text": [
            "Training loss: 1.1952662467956543\n"
          ]
        },
        {
          "output_type": "stream",
          "name": "stderr",
          "text": [
            "100%|██████████| 6/6 [00:00<00:00, 178.54it/s]\n"
          ]
        },
        {
          "output_type": "stream",
          "name": "stdout",
          "text": [
            "Validation loss: 1.1711113452911377\n",
            "Validation accuracy: 0.47515058517456055\n",
            "Epoch 167:\n"
          ]
        },
        {
          "output_type": "stream",
          "name": "stderr",
          "text": [
            "100%|██████████| 10/10 [00:00<00:00, 92.90it/s]\n"
          ]
        },
        {
          "output_type": "stream",
          "name": "stdout",
          "text": [
            "Training loss: 1.1918481826782226\n"
          ]
        },
        {
          "output_type": "stream",
          "name": "stderr",
          "text": [
            "100%|██████████| 6/6 [00:00<00:00, 205.51it/s]\n"
          ]
        },
        {
          "output_type": "stream",
          "name": "stdout",
          "text": [
            "Validation loss: 1.1941708326339722\n",
            "Validation accuracy: 0.4664909541606903\n",
            "Epoch 168:\n"
          ]
        },
        {
          "output_type": "stream",
          "name": "stderr",
          "text": [
            "100%|██████████| 10/10 [00:00<00:00, 95.66it/s]\n"
          ]
        },
        {
          "output_type": "stream",
          "name": "stdout",
          "text": [
            "Training loss: 1.1832516551017762\n"
          ]
        },
        {
          "output_type": "stream",
          "name": "stderr",
          "text": [
            "100%|██████████| 6/6 [00:00<00:00, 156.61it/s]\n"
          ]
        },
        {
          "output_type": "stream",
          "name": "stdout",
          "text": [
            "Validation loss: 1.2003509004910786\n",
            "Validation accuracy: 0.473268061876297\n",
            "Epoch 169:\n"
          ]
        },
        {
          "output_type": "stream",
          "name": "stderr",
          "text": [
            "100%|██████████| 10/10 [00:00<00:00, 83.45it/s]\n"
          ]
        },
        {
          "output_type": "stream",
          "name": "stdout",
          "text": [
            "Training loss: 1.1855894684791566\n"
          ]
        },
        {
          "output_type": "stream",
          "name": "stderr",
          "text": [
            "100%|██████████| 6/6 [00:00<00:00, 157.08it/s]\n"
          ]
        },
        {
          "output_type": "stream",
          "name": "stdout",
          "text": [
            "Validation loss: 1.186813513437907\n",
            "Validation accuracy: 0.47590360045433044\n",
            "Epoch 170:\n"
          ]
        },
        {
          "output_type": "stream",
          "name": "stderr",
          "text": [
            "100%|██████████| 10/10 [00:00<00:00, 103.55it/s]\n"
          ]
        },
        {
          "output_type": "stream",
          "name": "stdout",
          "text": [
            "Training loss: 1.2055656671524049\n"
          ]
        },
        {
          "output_type": "stream",
          "name": "stderr",
          "text": [
            "100%|██████████| 6/6 [00:00<00:00, 160.86it/s]\n"
          ]
        },
        {
          "output_type": "stream",
          "name": "stdout",
          "text": [
            "Validation loss: 1.187481661637624\n",
            "Validation accuracy: 0.45218372344970703\n",
            "Epoch 171:\n"
          ]
        },
        {
          "output_type": "stream",
          "name": "stderr",
          "text": [
            "100%|██████████| 10/10 [00:00<00:00, 101.24it/s]\n"
          ]
        },
        {
          "output_type": "stream",
          "name": "stdout",
          "text": [
            "Training loss: 1.1893344283103944\n"
          ]
        },
        {
          "output_type": "stream",
          "name": "stderr",
          "text": [
            "100%|██████████| 6/6 [00:00<00:00, 169.69it/s]\n"
          ]
        },
        {
          "output_type": "stream",
          "name": "stdout",
          "text": [
            "Validation loss: 1.177690823872884\n",
            "Validation accuracy: 0.4657379388809204\n",
            "Epoch 172:\n"
          ]
        },
        {
          "output_type": "stream",
          "name": "stderr",
          "text": [
            "100%|██████████| 10/10 [00:00<00:00, 77.53it/s]\n"
          ]
        },
        {
          "output_type": "stream",
          "name": "stdout",
          "text": [
            "Training loss: 1.1890048384666443\n"
          ]
        },
        {
          "output_type": "stream",
          "name": "stderr",
          "text": [
            "100%|██████████| 6/6 [00:00<00:00, 178.36it/s]\n"
          ]
        },
        {
          "output_type": "stream",
          "name": "stdout",
          "text": [
            "Validation loss: 1.1952593525250752\n",
            "Validation accuracy: 0.47816264629364014\n",
            "Epoch 173:\n"
          ]
        },
        {
          "output_type": "stream",
          "name": "stderr",
          "text": [
            "100%|██████████| 10/10 [00:00<00:00, 101.56it/s]\n"
          ]
        },
        {
          "output_type": "stream",
          "name": "stdout",
          "text": [
            "Training loss: 1.1915817975997924\n"
          ]
        },
        {
          "output_type": "stream",
          "name": "stderr",
          "text": [
            "100%|██████████| 6/6 [00:00<00:00, 154.75it/s]\n"
          ]
        },
        {
          "output_type": "stream",
          "name": "stdout",
          "text": [
            "Validation loss: 1.1800958514213562\n",
            "Validation accuracy: 0.4853162467479706\n",
            "Epoch 174:\n"
          ]
        },
        {
          "output_type": "stream",
          "name": "stderr",
          "text": [
            "100%|██████████| 10/10 [00:00<00:00, 101.48it/s]\n"
          ]
        },
        {
          "output_type": "stream",
          "name": "stdout",
          "text": [
            "Training loss: 1.1770536780357361\n"
          ]
        },
        {
          "output_type": "stream",
          "name": "stderr",
          "text": [
            "100%|██████████| 6/6 [00:00<00:00, 131.70it/s]\n"
          ]
        },
        {
          "output_type": "stream",
          "name": "stdout",
          "text": [
            "Validation loss: 1.1895379026730855\n",
            "Validation accuracy: 0.46987950801849365\n",
            "Epoch 175:\n"
          ]
        },
        {
          "output_type": "stream",
          "name": "stderr",
          "text": [
            "100%|██████████| 10/10 [00:00<00:00, 92.89it/s]\n"
          ]
        },
        {
          "output_type": "stream",
          "name": "stdout",
          "text": [
            "Training loss: 1.181054425239563\n"
          ]
        },
        {
          "output_type": "stream",
          "name": "stderr",
          "text": [
            "100%|██████████| 6/6 [00:00<00:00, 190.95it/s]\n"
          ]
        },
        {
          "output_type": "stream",
          "name": "stdout",
          "text": [
            "Validation loss: 1.1885841687520344\n",
            "Validation accuracy: 0.4800451695919037\n",
            "Epoch 176:\n"
          ]
        },
        {
          "output_type": "stream",
          "name": "stderr",
          "text": [
            "100%|██████████| 10/10 [00:00<00:00, 93.22it/s]\n"
          ]
        },
        {
          "output_type": "stream",
          "name": "stdout",
          "text": [
            "Training loss: 1.1762957215309142\n"
          ]
        },
        {
          "output_type": "stream",
          "name": "stderr",
          "text": [
            "100%|██████████| 6/6 [00:00<00:00, 201.94it/s]\n"
          ]
        },
        {
          "output_type": "stream",
          "name": "stdout",
          "text": [
            "Validation loss: 1.187934974829356\n",
            "Validation accuracy: 0.47740963101387024\n",
            "Epoch 177:\n"
          ]
        },
        {
          "output_type": "stream",
          "name": "stderr",
          "text": [
            "100%|██████████| 10/10 [00:00<00:00, 89.61it/s]\n"
          ]
        },
        {
          "output_type": "stream",
          "name": "stdout",
          "text": [
            "Training loss: 1.1817885875701903\n"
          ]
        },
        {
          "output_type": "stream",
          "name": "stderr",
          "text": [
            "100%|██████████| 6/6 [00:00<00:00, 189.56it/s]\n"
          ]
        },
        {
          "output_type": "stream",
          "name": "stdout",
          "text": [
            "Validation loss: 1.200551946957906\n",
            "Validation accuracy: 0.4725150465965271\n",
            "Epoch 178:\n"
          ]
        },
        {
          "output_type": "stream",
          "name": "stderr",
          "text": [
            "100%|██████████| 10/10 [00:00<00:00, 85.07it/s]\n"
          ]
        },
        {
          "output_type": "stream",
          "name": "stdout",
          "text": [
            "Training loss: 1.1963796138763427\n"
          ]
        },
        {
          "output_type": "stream",
          "name": "stderr",
          "text": [
            "100%|██████████| 6/6 [00:00<00:00, 171.23it/s]\n"
          ]
        },
        {
          "output_type": "stream",
          "name": "stdout",
          "text": [
            "Validation loss: 1.1918459335962932\n",
            "Validation accuracy: 0.4627258777618408\n",
            "Epoch 179:\n"
          ]
        },
        {
          "output_type": "stream",
          "name": "stderr",
          "text": [
            "100%|██████████| 10/10 [00:00<00:00, 94.30it/s]\n"
          ]
        },
        {
          "output_type": "stream",
          "name": "stdout",
          "text": [
            "Training loss: 1.2025973558425904\n"
          ]
        },
        {
          "output_type": "stream",
          "name": "stderr",
          "text": [
            "100%|██████████| 6/6 [00:00<00:00, 154.04it/s]\n"
          ]
        },
        {
          "output_type": "stream",
          "name": "stdout",
          "text": [
            "Validation loss: 1.1884489059448242\n",
            "Validation accuracy: 0.46912649273872375\n",
            "Epoch 180:\n"
          ]
        },
        {
          "output_type": "stream",
          "name": "stderr",
          "text": [
            "100%|██████████| 10/10 [00:00<00:00, 79.15it/s]\n"
          ]
        },
        {
          "output_type": "stream",
          "name": "stdout",
          "text": [
            "Training loss: 1.1772744536399842\n"
          ]
        },
        {
          "output_type": "stream",
          "name": "stderr",
          "text": [
            "100%|██████████| 6/6 [00:00<00:00, 170.56it/s]\n"
          ]
        },
        {
          "output_type": "stream",
          "name": "stdout",
          "text": [
            "Validation loss: 1.1794426441192627\n",
            "Validation accuracy: 0.47891563177108765\n",
            "Epoch 181:\n"
          ]
        },
        {
          "output_type": "stream",
          "name": "stderr",
          "text": [
            "100%|██████████| 10/10 [00:00<00:00, 101.09it/s]\n"
          ]
        },
        {
          "output_type": "stream",
          "name": "stdout",
          "text": [
            "Training loss: 1.1945852994918824\n"
          ]
        },
        {
          "output_type": "stream",
          "name": "stderr",
          "text": [
            "100%|██████████| 6/6 [00:00<00:00, 172.67it/s]\n"
          ]
        },
        {
          "output_type": "stream",
          "name": "stdout",
          "text": [
            "Validation loss: 1.1908307870229085\n",
            "Validation accuracy: 0.4725150465965271\n",
            "Epoch 182:\n"
          ]
        },
        {
          "output_type": "stream",
          "name": "stderr",
          "text": [
            "100%|██████████| 10/10 [00:00<00:00, 101.26it/s]\n"
          ]
        },
        {
          "output_type": "stream",
          "name": "stdout",
          "text": [
            "Training loss: 1.1921913266181945\n"
          ]
        },
        {
          "output_type": "stream",
          "name": "stderr",
          "text": [
            "100%|██████████| 6/6 [00:00<00:00, 160.33it/s]\n"
          ]
        },
        {
          "output_type": "stream",
          "name": "stdout",
          "text": [
            "Validation loss: 1.1886269648869832\n",
            "Validation accuracy: 0.46987950801849365\n",
            "Epoch 183:\n"
          ]
        },
        {
          "output_type": "stream",
          "name": "stderr",
          "text": [
            "100%|██████████| 10/10 [00:00<00:00, 77.59it/s]\n"
          ]
        },
        {
          "output_type": "stream",
          "name": "stdout",
          "text": [
            "Training loss: 1.1943712115287781\n"
          ]
        },
        {
          "output_type": "stream",
          "name": "stderr",
          "text": [
            "100%|██████████| 6/6 [00:00<00:00, 140.45it/s]\n"
          ]
        },
        {
          "output_type": "stream",
          "name": "stdout",
          "text": [
            "Validation loss: 1.1940571467081706\n",
            "Validation accuracy: 0.4695029854774475\n",
            "Epoch 184:\n"
          ]
        },
        {
          "output_type": "stream",
          "name": "stderr",
          "text": [
            "100%|██████████| 10/10 [00:00<00:00, 84.82it/s]\n"
          ]
        },
        {
          "output_type": "stream",
          "name": "stdout",
          "text": [
            "Training loss: 1.1876891493797301\n"
          ]
        },
        {
          "output_type": "stream",
          "name": "stderr",
          "text": [
            "100%|██████████| 6/6 [00:00<00:00, 180.20it/s]\n"
          ]
        },
        {
          "output_type": "stream",
          "name": "stdout",
          "text": [
            "Validation loss: 1.1920357743899028\n",
            "Validation accuracy: 0.473268061876297\n",
            "Epoch 185:\n"
          ]
        },
        {
          "output_type": "stream",
          "name": "stderr",
          "text": [
            "100%|██████████| 10/10 [00:00<00:00, 102.67it/s]\n"
          ]
        },
        {
          "output_type": "stream",
          "name": "stdout",
          "text": [
            "Training loss: 1.178840160369873\n"
          ]
        },
        {
          "output_type": "stream",
          "name": "stderr",
          "text": [
            "100%|██████████| 6/6 [00:00<00:00, 170.49it/s]\n"
          ]
        },
        {
          "output_type": "stream",
          "name": "stdout",
          "text": [
            "Validation loss: 1.1731804013252258\n",
            "Validation accuracy: 0.48418673872947693\n",
            "Epoch 186:\n"
          ]
        },
        {
          "output_type": "stream",
          "name": "stderr",
          "text": [
            "100%|██████████| 10/10 [00:00<00:00, 81.01it/s]\n"
          ]
        },
        {
          "output_type": "stream",
          "name": "stdout",
          "text": [
            "Training loss: 1.1747408628463745\n"
          ]
        },
        {
          "output_type": "stream",
          "name": "stderr",
          "text": [
            "100%|██████████| 6/6 [00:00<00:00, 162.77it/s]\n"
          ]
        },
        {
          "output_type": "stream",
          "name": "stdout",
          "text": [
            "Validation loss: 1.205598493417104\n",
            "Validation accuracy: 0.4747740924358368\n",
            "Epoch 187:\n"
          ]
        },
        {
          "output_type": "stream",
          "name": "stderr",
          "text": [
            "100%|██████████| 10/10 [00:00<00:00, 100.95it/s]\n"
          ]
        },
        {
          "output_type": "stream",
          "name": "stdout",
          "text": [
            "Training loss: 1.1918797373771668\n"
          ]
        },
        {
          "output_type": "stream",
          "name": "stderr",
          "text": [
            "100%|██████████| 6/6 [00:00<00:00, 176.85it/s]\n"
          ]
        },
        {
          "output_type": "stream",
          "name": "stdout",
          "text": [
            "Validation loss: 1.1829771995544434\n",
            "Validation accuracy: 0.48343372344970703\n",
            "Epoch 188:\n"
          ]
        },
        {
          "output_type": "stream",
          "name": "stderr",
          "text": [
            "100%|██████████| 10/10 [00:00<00:00, 101.34it/s]\n"
          ]
        },
        {
          "output_type": "stream",
          "name": "stdout",
          "text": [
            "Training loss: 1.1970767736434937\n"
          ]
        },
        {
          "output_type": "stream",
          "name": "stderr",
          "text": [
            "100%|██████████| 6/6 [00:00<00:00, 149.72it/s]\n"
          ]
        },
        {
          "output_type": "stream",
          "name": "stdout",
          "text": [
            "Validation loss: 1.195088009039561\n",
            "Validation accuracy: 0.4687499701976776\n",
            "Epoch 189:\n"
          ]
        },
        {
          "output_type": "stream",
          "name": "stderr",
          "text": [
            "100%|██████████| 10/10 [00:00<00:00, 84.24it/s]\n"
          ]
        },
        {
          "output_type": "stream",
          "name": "stdout",
          "text": [
            "Training loss: 1.1957676529884338\n"
          ]
        },
        {
          "output_type": "stream",
          "name": "stderr",
          "text": [
            "100%|██████████| 6/6 [00:00<00:00, 189.41it/s]\n"
          ]
        },
        {
          "output_type": "stream",
          "name": "stdout",
          "text": [
            "Validation loss: 1.191875735918681\n",
            "Validation accuracy: 0.4770331084728241\n",
            "Epoch 190:\n"
          ]
        },
        {
          "output_type": "stream",
          "name": "stderr",
          "text": [
            "100%|██████████| 10/10 [00:00<00:00, 101.02it/s]\n"
          ]
        },
        {
          "output_type": "stream",
          "name": "stdout",
          "text": [
            "Training loss: 1.1754052996635438\n"
          ]
        },
        {
          "output_type": "stream",
          "name": "stderr",
          "text": [
            "100%|██████████| 6/6 [00:00<00:00, 176.70it/s]\n"
          ]
        },
        {
          "output_type": "stream",
          "name": "stdout",
          "text": [
            "Validation loss: 1.183210055033366\n",
            "Validation accuracy: 0.4770331084728241\n",
            "Epoch 191:\n"
          ]
        },
        {
          "output_type": "stream",
          "name": "stderr",
          "text": [
            "100%|██████████| 10/10 [00:00<00:00, 103.27it/s]\n"
          ]
        },
        {
          "output_type": "stream",
          "name": "stdout",
          "text": [
            "Training loss: 1.1979097247123718\n"
          ]
        },
        {
          "output_type": "stream",
          "name": "stderr",
          "text": [
            "100%|██████████| 6/6 [00:00<00:00, 103.34it/s]\n"
          ]
        },
        {
          "output_type": "stream",
          "name": "stdout",
          "text": [
            "Validation loss: 1.1819986899693806\n",
            "Validation accuracy: 0.4762800931930542\n",
            "Epoch 192:\n"
          ]
        },
        {
          "output_type": "stream",
          "name": "stderr",
          "text": [
            "100%|██████████| 10/10 [00:00<00:00, 56.17it/s]\n"
          ]
        },
        {
          "output_type": "stream",
          "name": "stdout",
          "text": [
            "Training loss: 1.1904362082481383\n"
          ]
        },
        {
          "output_type": "stream",
          "name": "stderr",
          "text": [
            "100%|██████████| 6/6 [00:00<00:00, 114.86it/s]\n"
          ]
        },
        {
          "output_type": "stream",
          "name": "stdout",
          "text": [
            "Validation loss: 1.1678516268730164\n",
            "Validation accuracy: 0.4755270779132843\n",
            "Epoch 193:\n"
          ]
        },
        {
          "output_type": "stream",
          "name": "stderr",
          "text": [
            "100%|██████████| 10/10 [00:00<00:00, 67.24it/s]\n"
          ]
        },
        {
          "output_type": "stream",
          "name": "stdout",
          "text": [
            "Training loss: 1.1775506019592286\n"
          ]
        },
        {
          "output_type": "stream",
          "name": "stderr",
          "text": [
            "100%|██████████| 6/6 [00:00<00:00, 109.71it/s]\n"
          ]
        },
        {
          "output_type": "stream",
          "name": "stdout",
          "text": [
            "Validation loss: 1.178408682346344\n",
            "Validation accuracy: 0.46912649273872375\n",
            "Epoch 194:\n"
          ]
        },
        {
          "output_type": "stream",
          "name": "stderr",
          "text": [
            "100%|██████████| 10/10 [00:00<00:00, 59.76it/s]\n"
          ]
        },
        {
          "output_type": "stream",
          "name": "stdout",
          "text": [
            "Training loss: 1.1884875297546387\n"
          ]
        },
        {
          "output_type": "stream",
          "name": "stderr",
          "text": [
            "100%|██████████| 6/6 [00:00<00:00, 157.02it/s]\n"
          ]
        },
        {
          "output_type": "stream",
          "name": "stdout",
          "text": [
            "Validation loss: 1.1808257102966309\n",
            "Validation accuracy: 0.4807981848716736\n",
            "Epoch 195:\n"
          ]
        },
        {
          "output_type": "stream",
          "name": "stderr",
          "text": [
            "100%|██████████| 10/10 [00:00<00:00, 75.69it/s]\n"
          ]
        },
        {
          "output_type": "stream",
          "name": "stdout",
          "text": [
            "Training loss: 1.172890031337738\n"
          ]
        },
        {
          "output_type": "stream",
          "name": "stderr",
          "text": [
            "100%|██████████| 6/6 [00:00<00:00, 151.35it/s]\n"
          ]
        },
        {
          "output_type": "stream",
          "name": "stdout",
          "text": [
            "Validation loss: 1.1801446477572124\n",
            "Validation accuracy: 0.4800451695919037\n",
            "Epoch 196:\n"
          ]
        },
        {
          "output_type": "stream",
          "name": "stderr",
          "text": [
            "100%|██████████| 10/10 [00:00<00:00, 70.19it/s]"
          ]
        },
        {
          "output_type": "stream",
          "name": "stdout",
          "text": [
            "Training loss: 1.190757167339325"
          ]
        },
        {
          "output_type": "stream",
          "name": "stderr",
          "text": [
            "\n"
          ]
        },
        {
          "output_type": "stream",
          "name": "stdout",
          "text": [
            "\n"
          ]
        },
        {
          "output_type": "stream",
          "name": "stderr",
          "text": [
            "100%|██████████| 6/6 [00:00<00:00, 131.41it/s]\n"
          ]
        },
        {
          "output_type": "stream",
          "name": "stdout",
          "text": [
            "Validation loss: 1.1877209146817524\n",
            "Validation accuracy: 0.4593373239040375\n",
            "Epoch 197:\n"
          ]
        },
        {
          "output_type": "stream",
          "name": "stderr",
          "text": [
            "100%|██████████| 10/10 [00:00<00:00, 62.61it/s]\n"
          ]
        },
        {
          "output_type": "stream",
          "name": "stdout",
          "text": [
            "Training loss: 1.183668327331543\n"
          ]
        },
        {
          "output_type": "stream",
          "name": "stderr",
          "text": [
            "100%|██████████| 6/6 [00:00<00:00, 121.58it/s]\n"
          ]
        },
        {
          "output_type": "stream",
          "name": "stdout",
          "text": [
            "Validation loss: 1.2004801233609517\n",
            "Validation accuracy: 0.47590360045433044\n",
            "Epoch 198:\n"
          ]
        },
        {
          "output_type": "stream",
          "name": "stderr",
          "text": [
            "100%|██████████| 10/10 [00:00<00:00, 69.71it/s]\n"
          ]
        },
        {
          "output_type": "stream",
          "name": "stdout",
          "text": [
            "Training loss: 1.195446503162384\n"
          ]
        },
        {
          "output_type": "stream",
          "name": "stderr",
          "text": [
            "100%|██████████| 6/6 [00:00<00:00, 148.42it/s]\n"
          ]
        },
        {
          "output_type": "stream",
          "name": "stdout",
          "text": [
            "Validation loss: 1.173614541689555\n",
            "Validation accuracy: 0.48268070816993713\n",
            "Epoch 199:\n"
          ]
        },
        {
          "output_type": "stream",
          "name": "stderr",
          "text": [
            "100%|██████████| 10/10 [00:00<00:00, 69.22it/s]\n"
          ]
        },
        {
          "output_type": "stream",
          "name": "stdout",
          "text": [
            "Training loss: 1.1866127014160157\n"
          ]
        },
        {
          "output_type": "stream",
          "name": "stderr",
          "text": [
            "100%|██████████| 6/6 [00:00<00:00, 116.76it/s]\n"
          ]
        },
        {
          "output_type": "stream",
          "name": "stdout",
          "text": [
            "Validation loss: 1.182652473449707\n",
            "Validation accuracy: 0.473268061876297\n",
            "Epoch 200:\n"
          ]
        },
        {
          "output_type": "stream",
          "name": "stderr",
          "text": [
            "100%|██████████| 10/10 [00:00<00:00, 18.55it/s]\n"
          ]
        },
        {
          "output_type": "stream",
          "name": "stdout",
          "text": [
            "Training loss: 1.1837120532989502\n"
          ]
        },
        {
          "output_type": "stream",
          "name": "stderr",
          "text": [
            "100%|██████████| 6/6 [00:00<00:00, 127.28it/s]\n"
          ]
        },
        {
          "output_type": "stream",
          "name": "stdout",
          "text": [
            "Validation loss: 1.1811708013216655\n",
            "Validation accuracy: 0.46837347745895386\n",
            "Epoch 201:\n"
          ]
        },
        {
          "output_type": "stream",
          "name": "stderr",
          "text": [
            "100%|██████████| 10/10 [00:00<00:00, 56.29it/s]\n"
          ]
        },
        {
          "output_type": "stream",
          "name": "stdout",
          "text": [
            "Training loss: 1.2035040736198426\n"
          ]
        },
        {
          "output_type": "stream",
          "name": "stderr",
          "text": [
            "100%|██████████| 6/6 [00:00<00:00, 99.98it/s]\n"
          ]
        },
        {
          "output_type": "stream",
          "name": "stdout",
          "text": [
            "Validation loss: 1.176300863424937\n",
            "Validation accuracy: 0.47138553857803345\n",
            "Epoch 202:\n"
          ]
        },
        {
          "output_type": "stream",
          "name": "stderr",
          "text": [
            "100%|██████████| 10/10 [00:00<00:00, 65.72it/s]\n"
          ]
        },
        {
          "output_type": "stream",
          "name": "stdout",
          "text": [
            "Training loss: 1.1915187001228333\n"
          ]
        },
        {
          "output_type": "stream",
          "name": "stderr",
          "text": [
            "100%|██████████| 6/6 [00:00<00:00, 154.04it/s]\n"
          ]
        },
        {
          "output_type": "stream",
          "name": "stdout",
          "text": [
            "Validation loss: 1.1851259867350261\n",
            "Validation accuracy: 0.48192769289016724\n",
            "Epoch 203:\n"
          ]
        },
        {
          "output_type": "stream",
          "name": "stderr",
          "text": [
            "100%|██████████| 10/10 [00:00<00:00, 104.50it/s]\n"
          ]
        },
        {
          "output_type": "stream",
          "name": "stdout",
          "text": [
            "Training loss: 1.1834639668464662\n"
          ]
        },
        {
          "output_type": "stream",
          "name": "stderr",
          "text": [
            "100%|██████████| 6/6 [00:00<00:00, 171.62it/s]\n"
          ]
        },
        {
          "output_type": "stream",
          "name": "stdout",
          "text": [
            "Validation loss: 1.1820926070213318\n",
            "Validation accuracy: 0.47289153933525085\n",
            "Epoch 204:\n"
          ]
        },
        {
          "output_type": "stream",
          "name": "stderr",
          "text": [
            "100%|██████████| 10/10 [00:00<00:00, 102.86it/s]\n"
          ]
        },
        {
          "output_type": "stream",
          "name": "stdout",
          "text": [
            "Training loss: 1.1834976553916932\n"
          ]
        },
        {
          "output_type": "stream",
          "name": "stderr",
          "text": [
            "100%|██████████| 6/6 [00:00<00:00, 157.62it/s]\n"
          ]
        },
        {
          "output_type": "stream",
          "name": "stdout",
          "text": [
            "Validation loss: 1.2020026246706645\n",
            "Validation accuracy: 0.46310240030288696\n",
            "Epoch 205:\n"
          ]
        },
        {
          "output_type": "stream",
          "name": "stderr",
          "text": [
            "100%|██████████| 10/10 [00:00<00:00, 76.24it/s]\n"
          ]
        },
        {
          "output_type": "stream",
          "name": "stdout",
          "text": [
            "Training loss: 1.201967144012451\n"
          ]
        },
        {
          "output_type": "stream",
          "name": "stderr",
          "text": [
            "100%|██████████| 6/6 [00:00<00:00, 165.78it/s]\n"
          ]
        },
        {
          "output_type": "stream",
          "name": "stdout",
          "text": [
            "Validation loss: 1.1819622317949932\n",
            "Validation accuracy: 0.4725150465965271\n",
            "Epoch 206:\n"
          ]
        },
        {
          "output_type": "stream",
          "name": "stderr",
          "text": [
            "100%|██████████| 10/10 [00:00<00:00, 101.89it/s]\n"
          ]
        },
        {
          "output_type": "stream",
          "name": "stdout",
          "text": [
            "Training loss: 1.2023563623428344\n"
          ]
        },
        {
          "output_type": "stream",
          "name": "stderr",
          "text": [
            "100%|██████████| 6/6 [00:00<00:00, 138.41it/s]\n"
          ]
        },
        {
          "output_type": "stream",
          "name": "stdout",
          "text": [
            "Validation loss: 1.181629240512848\n",
            "Validation accuracy: 0.47590360045433044\n",
            "Epoch 207:\n"
          ]
        },
        {
          "output_type": "stream",
          "name": "stderr",
          "text": [
            "100%|██████████| 10/10 [00:00<00:00, 89.55it/s]\n"
          ]
        },
        {
          "output_type": "stream",
          "name": "stdout",
          "text": [
            "Training loss: 1.1836136102676391\n"
          ]
        },
        {
          "output_type": "stream",
          "name": "stderr",
          "text": [
            "100%|██████████| 6/6 [00:00<00:00, 145.86it/s]\n"
          ]
        },
        {
          "output_type": "stream",
          "name": "stdout",
          "text": [
            "Validation loss: 1.1606547435124714\n",
            "Validation accuracy: 0.48192769289016724\n",
            "Epoch 208:\n"
          ]
        },
        {
          "output_type": "stream",
          "name": "stderr",
          "text": [
            "100%|██████████| 10/10 [00:00<00:00, 82.04it/s]\n"
          ]
        },
        {
          "output_type": "stream",
          "name": "stdout",
          "text": [
            "Training loss: 1.1892469644546508\n"
          ]
        },
        {
          "output_type": "stream",
          "name": "stderr",
          "text": [
            "100%|██████████| 6/6 [00:00<00:00, 160.21it/s]\n"
          ]
        },
        {
          "output_type": "stream",
          "name": "stdout",
          "text": [
            "Validation loss: 1.1794220209121704\n",
            "Validation accuracy: 0.477786123752594\n",
            "Epoch 209:\n"
          ]
        },
        {
          "output_type": "stream",
          "name": "stderr",
          "text": [
            "100%|██████████| 10/10 [00:00<00:00, 95.75it/s]\n"
          ]
        },
        {
          "output_type": "stream",
          "name": "stdout",
          "text": [
            "Training loss: 1.1844889163970946\n"
          ]
        },
        {
          "output_type": "stream",
          "name": "stderr",
          "text": [
            "100%|██████████| 6/6 [00:00<00:00, 200.69it/s]\n"
          ]
        },
        {
          "output_type": "stream",
          "name": "stdout",
          "text": [
            "Validation loss: 1.179116944471995\n",
            "Validation accuracy: 0.477786123752594\n",
            "Epoch 210:\n"
          ]
        },
        {
          "output_type": "stream",
          "name": "stderr",
          "text": [
            "100%|██████████| 10/10 [00:00<00:00, 73.18it/s]\n"
          ]
        },
        {
          "output_type": "stream",
          "name": "stdout",
          "text": [
            "Training loss: 1.1838666081428528\n"
          ]
        },
        {
          "output_type": "stream",
          "name": "stderr",
          "text": [
            "100%|██████████| 6/6 [00:00<00:00, 160.21it/s]\n"
          ]
        },
        {
          "output_type": "stream",
          "name": "stdout",
          "text": [
            "Validation loss: 1.1672935287157695\n",
            "Validation accuracy: 0.473268061876297\n",
            "Epoch 211:\n"
          ]
        },
        {
          "output_type": "stream",
          "name": "stderr",
          "text": [
            "100%|██████████| 10/10 [00:00<00:00, 85.85it/s]\n"
          ]
        },
        {
          "output_type": "stream",
          "name": "stdout",
          "text": [
            "Training loss: 1.1803322553634643\n"
          ]
        },
        {
          "output_type": "stream",
          "name": "stderr",
          "text": [
            "100%|██████████| 6/6 [00:00<00:00, 155.70it/s]\n"
          ]
        },
        {
          "output_type": "stream",
          "name": "stdout",
          "text": [
            "Validation loss: 1.1775112946828206\n",
            "Validation accuracy: 0.47665661573410034\n",
            "Epoch 212:\n"
          ]
        },
        {
          "output_type": "stream",
          "name": "stderr",
          "text": [
            "100%|██████████| 10/10 [00:00<00:00, 95.66it/s]\n"
          ]
        },
        {
          "output_type": "stream",
          "name": "stdout",
          "text": [
            "Training loss: 1.1880947470664978\n"
          ]
        },
        {
          "output_type": "stream",
          "name": "stderr",
          "text": [
            "100%|██████████| 6/6 [00:00<00:00, 199.86it/s]\n"
          ]
        },
        {
          "output_type": "stream",
          "name": "stdout",
          "text": [
            "Validation loss: 1.1930930217107136\n",
            "Validation accuracy: 0.4710090160369873\n",
            "Epoch 213:\n"
          ]
        },
        {
          "output_type": "stream",
          "name": "stderr",
          "text": [
            "100%|██████████| 10/10 [00:00<00:00, 80.10it/s]\n"
          ]
        },
        {
          "output_type": "stream",
          "name": "stdout",
          "text": [
            "Training loss: 1.1824074268341065\n"
          ]
        },
        {
          "output_type": "stream",
          "name": "stderr",
          "text": [
            "100%|██████████| 6/6 [00:00<00:00, 172.63it/s]\n"
          ]
        },
        {
          "output_type": "stream",
          "name": "stdout",
          "text": [
            "Validation loss: 1.1704983115196228\n",
            "Validation accuracy: 0.46837347745895386\n",
            "Epoch 214:\n"
          ]
        },
        {
          "output_type": "stream",
          "name": "stderr",
          "text": [
            "100%|██████████| 10/10 [00:00<00:00, 100.12it/s]\n"
          ]
        },
        {
          "output_type": "stream",
          "name": "stdout",
          "text": [
            "Training loss: 1.1875033378601074\n"
          ]
        },
        {
          "output_type": "stream",
          "name": "stderr",
          "text": [
            "100%|██████████| 6/6 [00:00<00:00, 163.36it/s]\n"
          ]
        },
        {
          "output_type": "stream",
          "name": "stdout",
          "text": [
            "Validation loss: 1.178560694058736\n",
            "Validation accuracy: 0.47289153933525085\n",
            "Epoch 215:\n"
          ]
        },
        {
          "output_type": "stream",
          "name": "stderr",
          "text": [
            "100%|██████████| 10/10 [00:00<00:00, 84.62it/s]\n"
          ]
        },
        {
          "output_type": "stream",
          "name": "stdout",
          "text": [
            "Training loss: 1.1735369443893433\n"
          ]
        },
        {
          "output_type": "stream",
          "name": "stderr",
          "text": [
            "100%|██████████| 6/6 [00:00<00:00, 151.83it/s]\n"
          ]
        },
        {
          "output_type": "stream",
          "name": "stdout",
          "text": [
            "Validation loss: 1.1935281952222188\n",
            "Validation accuracy: 0.48042166233062744\n",
            "Epoch 216:\n"
          ]
        },
        {
          "output_type": "stream",
          "name": "stderr",
          "text": [
            "100%|██████████| 10/10 [00:00<00:00, 96.05it/s]\n"
          ]
        },
        {
          "output_type": "stream",
          "name": "stdout",
          "text": [
            "Training loss: 1.1843478083610535\n"
          ]
        },
        {
          "output_type": "stream",
          "name": "stderr",
          "text": [
            "100%|██████████| 6/6 [00:00<00:00, 178.12it/s]\n"
          ]
        },
        {
          "output_type": "stream",
          "name": "stdout",
          "text": [
            "Validation loss: 1.1682281295458476\n",
            "Validation accuracy: 0.4725150465965271\n",
            "Epoch 217:\n"
          ]
        },
        {
          "output_type": "stream",
          "name": "stderr",
          "text": [
            "100%|██████████| 10/10 [00:00<00:00, 71.90it/s]\n"
          ]
        },
        {
          "output_type": "stream",
          "name": "stdout",
          "text": [
            "Training loss: 1.1877973079681396\n"
          ]
        },
        {
          "output_type": "stream",
          "name": "stderr",
          "text": [
            "100%|██████████| 6/6 [00:00<00:00, 164.39it/s]\n"
          ]
        },
        {
          "output_type": "stream",
          "name": "stdout",
          "text": [
            "Validation loss: 1.1879095037778218\n",
            "Validation accuracy: 0.47063252329826355\n",
            "Epoch 218:\n"
          ]
        },
        {
          "output_type": "stream",
          "name": "stderr",
          "text": [
            "100%|██████████| 10/10 [00:00<00:00, 83.51it/s]\n"
          ]
        },
        {
          "output_type": "stream",
          "name": "stdout",
          "text": [
            "Training loss: 1.1865206122398377\n"
          ]
        },
        {
          "output_type": "stream",
          "name": "stderr",
          "text": [
            "100%|██████████| 6/6 [00:00<00:00, 140.77it/s]\n"
          ]
        },
        {
          "output_type": "stream",
          "name": "stdout",
          "text": [
            "Validation loss: 1.1829244097073872\n",
            "Validation accuracy: 0.4717620313167572\n",
            "Epoch 219:\n"
          ]
        },
        {
          "output_type": "stream",
          "name": "stderr",
          "text": [
            "100%|██████████| 10/10 [00:00<00:00, 100.49it/s]\n"
          ]
        },
        {
          "output_type": "stream",
          "name": "stdout",
          "text": [
            "Training loss: 1.1893126964569092\n"
          ]
        },
        {
          "output_type": "stream",
          "name": "stderr",
          "text": [
            "100%|██████████| 6/6 [00:00<00:00, 156.91it/s]\n"
          ]
        },
        {
          "output_type": "stream",
          "name": "stdout",
          "text": [
            "Validation loss: 1.190186599890391\n",
            "Validation accuracy: 0.4702560007572174\n",
            "Epoch 220:\n"
          ]
        },
        {
          "output_type": "stream",
          "name": "stderr",
          "text": [
            "100%|██████████| 10/10 [00:00<00:00, 104.00it/s]\n"
          ]
        },
        {
          "output_type": "stream",
          "name": "stdout",
          "text": [
            "Training loss: 1.1704116582870483\n"
          ]
        },
        {
          "output_type": "stream",
          "name": "stderr",
          "text": [
            "100%|██████████| 6/6 [00:00<00:00, 167.12it/s]\n"
          ]
        },
        {
          "output_type": "stream",
          "name": "stdout",
          "text": [
            "Validation loss: 1.1643644173940022\n",
            "Validation accuracy: 0.4890812933444977\n",
            "Epoch 221:\n"
          ]
        },
        {
          "output_type": "stream",
          "name": "stderr",
          "text": [
            "100%|██████████| 10/10 [00:00<00:00, 79.16it/s]\n"
          ]
        },
        {
          "output_type": "stream",
          "name": "stdout",
          "text": [
            "Training loss: 1.175767982006073\n"
          ]
        },
        {
          "output_type": "stream",
          "name": "stderr",
          "text": [
            "100%|██████████| 6/6 [00:00<00:00, 189.83it/s]\n"
          ]
        },
        {
          "output_type": "stream",
          "name": "stdout",
          "text": [
            "Validation loss: 1.1826305786768596\n",
            "Validation accuracy: 0.4902108311653137\n",
            "Epoch 222:\n"
          ]
        },
        {
          "output_type": "stream",
          "name": "stderr",
          "text": [
            "100%|██████████| 10/10 [00:00<00:00, 96.52it/s]\n"
          ]
        },
        {
          "output_type": "stream",
          "name": "stdout",
          "text": [
            "Training loss: 1.1917887330055237\n"
          ]
        },
        {
          "output_type": "stream",
          "name": "stderr",
          "text": [
            "100%|██████████| 6/6 [00:00<00:00, 232.52it/s]\n"
          ]
        },
        {
          "output_type": "stream",
          "name": "stdout",
          "text": [
            "Validation loss: 1.181537648042043\n",
            "Validation accuracy: 0.4755270779132843\n",
            "Epoch 223:\n"
          ]
        },
        {
          "output_type": "stream",
          "name": "stderr",
          "text": [
            "100%|██████████| 10/10 [00:00<00:00, 78.00it/s]\n"
          ]
        },
        {
          "output_type": "stream",
          "name": "stdout",
          "text": [
            "Training loss: 1.179613709449768\n"
          ]
        },
        {
          "output_type": "stream",
          "name": "stderr",
          "text": [
            "100%|██████████| 6/6 [00:00<00:00, 142.09it/s]\n"
          ]
        },
        {
          "output_type": "stream",
          "name": "stdout",
          "text": [
            "Validation loss: 1.189593772093455\n",
            "Validation accuracy: 0.4762800931930542\n",
            "Epoch 224:\n"
          ]
        },
        {
          "output_type": "stream",
          "name": "stderr",
          "text": [
            "100%|██████████| 10/10 [00:00<00:00, 81.52it/s]\n"
          ]
        },
        {
          "output_type": "stream",
          "name": "stdout",
          "text": [
            "Training loss: 1.1725894689559937\n"
          ]
        },
        {
          "output_type": "stream",
          "name": "stderr",
          "text": [
            "100%|██████████| 6/6 [00:00<00:00, 146.54it/s]\n"
          ]
        },
        {
          "output_type": "stream",
          "name": "stdout",
          "text": [
            "Validation loss: 1.1632315119107564\n",
            "Validation accuracy: 0.4860692620277405\n",
            "Epoch 225:\n"
          ]
        },
        {
          "output_type": "stream",
          "name": "stderr",
          "text": [
            "100%|██████████| 10/10 [00:00<00:00, 101.19it/s]\n"
          ]
        },
        {
          "output_type": "stream",
          "name": "stdout",
          "text": [
            "Training loss: 1.1906220197677613\n"
          ]
        },
        {
          "output_type": "stream",
          "name": "stderr",
          "text": [
            "100%|██████████| 6/6 [00:00<00:00, 160.62it/s]\n"
          ]
        },
        {
          "output_type": "stream",
          "name": "stdout",
          "text": [
            "Validation loss: 1.188232143719991\n",
            "Validation accuracy: 0.4747740924358368\n",
            "Epoch 226:\n"
          ]
        },
        {
          "output_type": "stream",
          "name": "stderr",
          "text": [
            "100%|██████████| 10/10 [00:00<00:00, 82.11it/s]\n"
          ]
        },
        {
          "output_type": "stream",
          "name": "stdout",
          "text": [
            "Training loss: 1.186449909210205\n"
          ]
        },
        {
          "output_type": "stream",
          "name": "stderr",
          "text": [
            "100%|██████████| 6/6 [00:00<00:00, 157.30it/s]\n"
          ]
        },
        {
          "output_type": "stream",
          "name": "stdout",
          "text": [
            "Validation loss: 1.1892519195874531\n",
            "Validation accuracy: 0.4642319083213806\n",
            "Epoch 227:\n"
          ]
        },
        {
          "output_type": "stream",
          "name": "stderr",
          "text": [
            "100%|██████████| 10/10 [00:00<00:00, 93.60it/s]\n"
          ]
        },
        {
          "output_type": "stream",
          "name": "stdout",
          "text": [
            "Training loss: 1.1725770354270935\n"
          ]
        },
        {
          "output_type": "stream",
          "name": "stderr",
          "text": [
            "100%|██████████| 6/6 [00:00<00:00, 180.93it/s]\n"
          ]
        },
        {
          "output_type": "stream",
          "name": "stdout",
          "text": [
            "Validation loss: 1.1646325786908467\n",
            "Validation accuracy: 0.48268070816993713\n",
            "Epoch 228:\n"
          ]
        },
        {
          "output_type": "stream",
          "name": "stderr",
          "text": [
            "100%|██████████| 10/10 [00:00<00:00, 83.58it/s]\n"
          ]
        },
        {
          "output_type": "stream",
          "name": "stdout",
          "text": [
            "Training loss: 1.1945405840873717\n"
          ]
        },
        {
          "output_type": "stream",
          "name": "stderr",
          "text": [
            "100%|██████████| 6/6 [00:00<00:00, 174.33it/s]\n"
          ]
        },
        {
          "output_type": "stream",
          "name": "stdout",
          "text": [
            "Validation loss: 1.19560706615448\n",
            "Validation accuracy: 0.44992467761039734\n",
            "Epoch 229:\n"
          ]
        },
        {
          "output_type": "stream",
          "name": "stderr",
          "text": [
            "100%|██████████| 10/10 [00:00<00:00, 77.31it/s]\n"
          ]
        },
        {
          "output_type": "stream",
          "name": "stdout",
          "text": [
            "Training loss: 1.1841073632240295\n"
          ]
        },
        {
          "output_type": "stream",
          "name": "stderr",
          "text": [
            "100%|██████████| 6/6 [00:00<00:00, 156.34it/s]\n"
          ]
        },
        {
          "output_type": "stream",
          "name": "stdout",
          "text": [
            "Validation loss: 1.1860712965329487\n",
            "Validation accuracy: 0.4755270779132843\n",
            "Epoch 230:\n"
          ]
        },
        {
          "output_type": "stream",
          "name": "stderr",
          "text": [
            "100%|██████████| 10/10 [00:00<00:00, 93.44it/s]\n"
          ]
        },
        {
          "output_type": "stream",
          "name": "stdout",
          "text": [
            "Training loss: 1.1974679708480835\n"
          ]
        },
        {
          "output_type": "stream",
          "name": "stderr",
          "text": [
            "100%|██████████| 6/6 [00:00<00:00, 181.86it/s]\n"
          ]
        },
        {
          "output_type": "stream",
          "name": "stdout",
          "text": [
            "Validation loss: 1.1922744711240132\n",
            "Validation accuracy: 0.4582078158855438\n",
            "Epoch 231:\n"
          ]
        },
        {
          "output_type": "stream",
          "name": "stderr",
          "text": [
            "100%|██████████| 10/10 [00:00<00:00, 92.35it/s]\n"
          ]
        },
        {
          "output_type": "stream",
          "name": "stdout",
          "text": [
            "Training loss: 1.195366632938385\n"
          ]
        },
        {
          "output_type": "stream",
          "name": "stderr",
          "text": [
            "100%|██████████| 6/6 [00:00<00:00, 198.60it/s]"
          ]
        },
        {
          "output_type": "stream",
          "name": "stdout",
          "text": [
            "Validation loss: 1.1696883638699849"
          ]
        },
        {
          "output_type": "stream",
          "name": "stderr",
          "text": [
            "\n"
          ]
        },
        {
          "output_type": "stream",
          "name": "stdout",
          "text": [
            "\n",
            "Validation accuracy: 0.47063252329826355\n",
            "Epoch 232:\n"
          ]
        },
        {
          "output_type": "stream",
          "name": "stderr",
          "text": [
            "100%|██████████| 10/10 [00:00<00:00, 77.49it/s]\n"
          ]
        },
        {
          "output_type": "stream",
          "name": "stdout",
          "text": [
            "Training loss: 1.1799514412879943\n"
          ]
        },
        {
          "output_type": "stream",
          "name": "stderr",
          "text": [
            "100%|██████████| 6/6 [00:00<00:00, 165.50it/s]\n"
          ]
        },
        {
          "output_type": "stream",
          "name": "stdout",
          "text": [
            "Validation loss: 1.1898383100827534\n",
            "Validation accuracy: 0.4890812933444977\n",
            "Epoch 233:\n"
          ]
        },
        {
          "output_type": "stream",
          "name": "stderr",
          "text": [
            "100%|██████████| 10/10 [00:00<00:00, 99.83it/s]\n"
          ]
        },
        {
          "output_type": "stream",
          "name": "stdout",
          "text": [
            "Training loss: 1.1798089146614075\n"
          ]
        },
        {
          "output_type": "stream",
          "name": "stderr",
          "text": [
            "100%|██████████| 6/6 [00:00<00:00, 165.96it/s]\n"
          ]
        },
        {
          "output_type": "stream",
          "name": "stdout",
          "text": [
            "Validation loss: 1.182535449663798\n",
            "Validation accuracy: 0.48117467761039734\n",
            "Epoch 234:\n"
          ]
        },
        {
          "output_type": "stream",
          "name": "stderr",
          "text": [
            "100%|██████████| 10/10 [00:00<00:00, 92.03it/s]\n"
          ]
        },
        {
          "output_type": "stream",
          "name": "stdout",
          "text": [
            "Training loss: 1.1858511567115784\n"
          ]
        },
        {
          "output_type": "stream",
          "name": "stderr",
          "text": [
            "100%|██████████| 6/6 [00:00<00:00, 193.42it/s]\n"
          ]
        },
        {
          "output_type": "stream",
          "name": "stdout",
          "text": [
            "Validation loss: 1.1899618903795879\n",
            "Validation accuracy: 0.46762046217918396\n",
            "Epoch 235:\n"
          ]
        },
        {
          "output_type": "stream",
          "name": "stderr",
          "text": [
            "100%|██████████| 10/10 [00:00<00:00, 80.67it/s]\n"
          ]
        },
        {
          "output_type": "stream",
          "name": "stdout",
          "text": [
            "Training loss: 1.1753233194351196\n"
          ]
        },
        {
          "output_type": "stream",
          "name": "stderr",
          "text": [
            "100%|██████████| 6/6 [00:00<00:00, 171.24it/s]\n"
          ]
        },
        {
          "output_type": "stream",
          "name": "stdout",
          "text": [
            "Validation loss: 1.1799132029215496\n",
            "Validation accuracy: 0.4849397540092468\n",
            "Epoch 236:\n"
          ]
        },
        {
          "output_type": "stream",
          "name": "stderr",
          "text": [
            "100%|██████████| 10/10 [00:00<00:00, 100.96it/s]\n"
          ]
        },
        {
          "output_type": "stream",
          "name": "stdout",
          "text": [
            "Training loss: 1.1851404190063477\n"
          ]
        },
        {
          "output_type": "stream",
          "name": "stderr",
          "text": [
            "100%|██████████| 6/6 [00:00<00:00, 134.73it/s]\n"
          ]
        },
        {
          "output_type": "stream",
          "name": "stdout",
          "text": [
            "Validation loss: 1.1804060737291973\n",
            "Validation accuracy: 0.4725150465965271\n",
            "Epoch 237:\n"
          ]
        },
        {
          "output_type": "stream",
          "name": "stderr",
          "text": [
            "100%|██████████| 10/10 [00:00<00:00, 84.71it/s]\n"
          ]
        },
        {
          "output_type": "stream",
          "name": "stdout",
          "text": [
            "Training loss: 1.1921204209327698\n"
          ]
        },
        {
          "output_type": "stream",
          "name": "stderr",
          "text": [
            "100%|██████████| 6/6 [00:00<00:00, 173.74it/s]\n"
          ]
        },
        {
          "output_type": "stream",
          "name": "stdout",
          "text": [
            "Validation loss: 1.186698814233144\n",
            "Validation accuracy: 0.4679969847202301\n",
            "Epoch 238:\n"
          ]
        },
        {
          "output_type": "stream",
          "name": "stderr",
          "text": [
            "100%|██████████| 10/10 [00:00<00:00, 100.46it/s]\n"
          ]
        },
        {
          "output_type": "stream",
          "name": "stdout",
          "text": [
            "Training loss: 1.1929388046264648\n"
          ]
        },
        {
          "output_type": "stream",
          "name": "stderr",
          "text": [
            "100%|██████████| 6/6 [00:00<00:00, 153.07it/s]\n"
          ]
        },
        {
          "output_type": "stream",
          "name": "stdout",
          "text": [
            "Validation loss: 1.160426656405131\n",
            "Validation accuracy: 0.46912649273872375\n",
            "Epoch 239:\n"
          ]
        },
        {
          "output_type": "stream",
          "name": "stderr",
          "text": [
            "100%|██████████| 10/10 [00:00<00:00, 104.67it/s]\n"
          ]
        },
        {
          "output_type": "stream",
          "name": "stdout",
          "text": [
            "Training loss: 1.1782862901687623\n"
          ]
        },
        {
          "output_type": "stream",
          "name": "stderr",
          "text": [
            "100%|██████████| 6/6 [00:00<00:00, 153.13it/s]\n"
          ]
        },
        {
          "output_type": "stream",
          "name": "stdout",
          "text": [
            "Validation loss: 1.186031977335612\n",
            "Validation accuracy: 0.47439756989479065\n",
            "Epoch 240:\n"
          ]
        },
        {
          "output_type": "stream",
          "name": "stderr",
          "text": [
            "100%|██████████| 10/10 [00:00<00:00, 92.00it/s]\n"
          ]
        },
        {
          "output_type": "stream",
          "name": "stdout",
          "text": [
            "Training loss: 1.1816526293754577\n"
          ]
        },
        {
          "output_type": "stream",
          "name": "stderr",
          "text": [
            "100%|██████████| 6/6 [00:00<00:00, 179.80it/s]\n"
          ]
        },
        {
          "output_type": "stream",
          "name": "stdout",
          "text": [
            "Validation loss: 1.1758474310239155\n",
            "Validation accuracy: 0.46987950801849365\n",
            "Epoch 241:\n"
          ]
        },
        {
          "output_type": "stream",
          "name": "stderr",
          "text": [
            "100%|██████████| 10/10 [00:00<00:00, 82.76it/s]\n"
          ]
        },
        {
          "output_type": "stream",
          "name": "stdout",
          "text": [
            "Training loss: 1.1804190516471862\n"
          ]
        },
        {
          "output_type": "stream",
          "name": "stderr",
          "text": [
            "100%|██████████| 6/6 [00:00<00:00, 161.60it/s]\n"
          ]
        },
        {
          "output_type": "stream",
          "name": "stdout",
          "text": [
            "Validation loss: 1.18819663921992\n",
            "Validation accuracy: 0.47439756989479065\n",
            "Epoch 242:\n"
          ]
        },
        {
          "output_type": "stream",
          "name": "stderr",
          "text": [
            "100%|██████████| 10/10 [00:00<00:00, 95.41it/s]\n"
          ]
        },
        {
          "output_type": "stream",
          "name": "stdout",
          "text": [
            "Training loss: 1.1922010421752929\n"
          ]
        },
        {
          "output_type": "stream",
          "name": "stderr",
          "text": [
            "100%|██████████| 6/6 [00:00<00:00, 167.03it/s]\n"
          ]
        },
        {
          "output_type": "stream",
          "name": "stdout",
          "text": [
            "Validation loss: 1.2074184616406758\n",
            "Validation accuracy: 0.48117467761039734\n",
            "Epoch 243:\n"
          ]
        },
        {
          "output_type": "stream",
          "name": "stderr",
          "text": [
            "100%|██████████| 10/10 [00:00<00:00, 84.80it/s]\n"
          ]
        },
        {
          "output_type": "stream",
          "name": "stdout",
          "text": [
            "Training loss: 1.186840784549713\n"
          ]
        },
        {
          "output_type": "stream",
          "name": "stderr",
          "text": [
            "100%|██████████| 6/6 [00:00<00:00, 124.64it/s]\n"
          ]
        },
        {
          "output_type": "stream",
          "name": "stdout",
          "text": [
            "Validation loss: 1.1949000755945842\n",
            "Validation accuracy: 0.47816264629364014\n",
            "Epoch 244:\n"
          ]
        },
        {
          "output_type": "stream",
          "name": "stderr",
          "text": [
            "100%|██████████| 10/10 [00:00<00:00, 82.61it/s]\n"
          ]
        },
        {
          "output_type": "stream",
          "name": "stdout",
          "text": [
            "Training loss: 1.1796813011169434\n"
          ]
        },
        {
          "output_type": "stream",
          "name": "stderr",
          "text": [
            "100%|██████████| 6/6 [00:00<00:00, 176.76it/s]\n"
          ]
        },
        {
          "output_type": "stream",
          "name": "stdout",
          "text": [
            "Validation loss: 1.1714295347531636\n",
            "Validation accuracy: 0.4838102161884308\n",
            "Epoch 245:\n"
          ]
        },
        {
          "output_type": "stream",
          "name": "stderr",
          "text": [
            "100%|██████████| 10/10 [00:00<00:00, 88.26it/s]\n"
          ]
        },
        {
          "output_type": "stream",
          "name": "stdout",
          "text": [
            "Training loss: 1.183779203891754\n"
          ]
        },
        {
          "output_type": "stream",
          "name": "stderr",
          "text": [
            "100%|██████████| 6/6 [00:00<00:00, 167.32it/s]\n"
          ]
        },
        {
          "output_type": "stream",
          "name": "stdout",
          "text": [
            "Validation loss: 1.1756265958150227\n",
            "Validation accuracy: 0.4642319083213806\n",
            "Epoch 246:\n"
          ]
        },
        {
          "output_type": "stream",
          "name": "stderr",
          "text": [
            "100%|██████████| 10/10 [00:00<00:00, 69.79it/s]\n"
          ]
        },
        {
          "output_type": "stream",
          "name": "stdout",
          "text": [
            "Training loss: 1.1850764989852904\n"
          ]
        },
        {
          "output_type": "stream",
          "name": "stderr",
          "text": [
            "100%|██████████| 6/6 [00:00<00:00, 185.20it/s]\n"
          ]
        },
        {
          "output_type": "stream",
          "name": "stdout",
          "text": [
            "Validation loss: 1.1851264635721843\n",
            "Validation accuracy: 0.4664909541606903\n",
            "Epoch 247:\n"
          ]
        },
        {
          "output_type": "stream",
          "name": "stderr",
          "text": [
            "100%|██████████| 10/10 [00:00<00:00, 85.34it/s]\n"
          ]
        },
        {
          "output_type": "stream",
          "name": "stdout",
          "text": [
            "Training loss: 1.1852850079536439\n"
          ]
        },
        {
          "output_type": "stream",
          "name": "stderr",
          "text": [
            "100%|██████████| 6/6 [00:00<00:00, 161.27it/s]\n"
          ]
        },
        {
          "output_type": "stream",
          "name": "stdout",
          "text": [
            "Validation loss: 1.19130543867747\n",
            "Validation accuracy: 0.47740963101387024\n",
            "Epoch 248:\n"
          ]
        },
        {
          "output_type": "stream",
          "name": "stderr",
          "text": [
            "100%|██████████| 10/10 [00:00<00:00, 83.22it/s]\n"
          ]
        },
        {
          "output_type": "stream",
          "name": "stdout",
          "text": [
            "Training loss: 1.1886103391647338\n"
          ]
        },
        {
          "output_type": "stream",
          "name": "stderr",
          "text": [
            "100%|██████████| 6/6 [00:00<00:00, 154.99it/s]\n"
          ]
        },
        {
          "output_type": "stream",
          "name": "stdout",
          "text": [
            "Validation loss: 1.1773311694463093\n",
            "Validation accuracy: 0.48644575476646423\n",
            "Epoch 249:\n"
          ]
        },
        {
          "output_type": "stream",
          "name": "stderr",
          "text": [
            "100%|██████████| 10/10 [00:00<00:00, 94.37it/s]\n"
          ]
        },
        {
          "output_type": "stream",
          "name": "stdout",
          "text": [
            "Training loss: 1.1870500922203064\n"
          ]
        },
        {
          "output_type": "stream",
          "name": "stderr",
          "text": [
            "100%|██████████| 6/6 [00:00<00:00, 171.46it/s]\n"
          ]
        },
        {
          "output_type": "stream",
          "name": "stdout",
          "text": [
            "Validation loss: 1.1762864192326863\n",
            "Validation accuracy: 0.4747740924358368\n",
            "Epoch 250:\n"
          ]
        },
        {
          "output_type": "stream",
          "name": "stderr",
          "text": [
            "100%|██████████| 10/10 [00:00<00:00, 84.36it/s]\n"
          ]
        },
        {
          "output_type": "stream",
          "name": "stdout",
          "text": [
            "Training loss: 1.1900445103645325\n"
          ]
        },
        {
          "output_type": "stream",
          "name": "stderr",
          "text": [
            "100%|██████████| 6/6 [00:00<00:00, 150.62it/s]\n"
          ]
        },
        {
          "output_type": "stream",
          "name": "stdout",
          "text": [
            "Validation loss: 1.1720269521077473\n",
            "Validation accuracy: 0.48192769289016724\n",
            "Epoch 251:\n"
          ]
        },
        {
          "output_type": "stream",
          "name": "stderr",
          "text": [
            "100%|██████████| 10/10 [00:00<00:00, 95.15it/s]\n"
          ]
        },
        {
          "output_type": "stream",
          "name": "stdout",
          "text": [
            "Training loss: 1.1848402857780456\n"
          ]
        },
        {
          "output_type": "stream",
          "name": "stderr",
          "text": [
            "100%|██████████| 6/6 [00:00<00:00, 176.16it/s]\n"
          ]
        },
        {
          "output_type": "stream",
          "name": "stdout",
          "text": [
            "Validation loss: 1.1839632193247478\n",
            "Validation accuracy: 0.4853162467479706\n",
            "Epoch 252:\n"
          ]
        },
        {
          "output_type": "stream",
          "name": "stderr",
          "text": [
            "100%|██████████| 10/10 [00:00<00:00, 81.42it/s]\n"
          ]
        },
        {
          "output_type": "stream",
          "name": "stdout",
          "text": [
            "Training loss: 1.1811042308807373\n"
          ]
        },
        {
          "output_type": "stream",
          "name": "stderr",
          "text": [
            "100%|██████████| 6/6 [00:00<00:00, 142.17it/s]\n"
          ]
        },
        {
          "output_type": "stream",
          "name": "stdout",
          "text": [
            "Validation loss: 1.1839940547943115\n",
            "Validation accuracy: 0.4845632314682007\n",
            "Epoch 253:\n"
          ]
        },
        {
          "output_type": "stream",
          "name": "stderr",
          "text": [
            "100%|██████████| 10/10 [00:00<00:00, 73.60it/s]\n"
          ]
        },
        {
          "output_type": "stream",
          "name": "stdout",
          "text": [
            "Training loss: 1.1751134157180787\n"
          ]
        },
        {
          "output_type": "stream",
          "name": "stderr",
          "text": [
            "100%|██████████| 6/6 [00:00<00:00, 151.35it/s]\n"
          ]
        },
        {
          "output_type": "stream",
          "name": "stdout",
          "text": [
            "Validation loss: 1.1839838027954102\n",
            "Validation accuracy: 0.4740210771560669\n",
            "Epoch 254:\n"
          ]
        },
        {
          "output_type": "stream",
          "name": "stderr",
          "text": [
            "100%|██████████| 10/10 [00:00<00:00, 97.73it/s]\n"
          ]
        },
        {
          "output_type": "stream",
          "name": "stdout",
          "text": [
            "Training loss: 1.1840206146240235\n"
          ]
        },
        {
          "output_type": "stream",
          "name": "stderr",
          "text": [
            "100%|██████████| 6/6 [00:00<00:00, 163.28it/s]\n"
          ]
        },
        {
          "output_type": "stream",
          "name": "stdout",
          "text": [
            "Validation loss: 1.1824011007944744\n",
            "Validation accuracy: 0.46310240030288696\n",
            "Epoch 255:\n"
          ]
        },
        {
          "output_type": "stream",
          "name": "stderr",
          "text": [
            "100%|██████████| 10/10 [00:00<00:00, 85.59it/s]\n"
          ]
        },
        {
          "output_type": "stream",
          "name": "stdout",
          "text": [
            "Training loss: 1.1775113582611083\n"
          ]
        },
        {
          "output_type": "stream",
          "name": "stderr",
          "text": [
            "100%|██████████| 6/6 [00:00<00:00, 153.92it/s]\n"
          ]
        },
        {
          "output_type": "stream",
          "name": "stdout",
          "text": [
            "Validation loss: 1.1927988131841023\n",
            "Validation accuracy: 0.46084335446357727\n",
            "Epoch 256:\n"
          ]
        },
        {
          "output_type": "stream",
          "name": "stderr",
          "text": [
            "100%|██████████| 10/10 [00:00<00:00, 84.29it/s]\n"
          ]
        },
        {
          "output_type": "stream",
          "name": "stdout",
          "text": [
            "Training loss: 1.2057661294937134\n"
          ]
        },
        {
          "output_type": "stream",
          "name": "stderr",
          "text": [
            "100%|██████████| 6/6 [00:00<00:00, 151.36it/s]\n"
          ]
        },
        {
          "output_type": "stream",
          "name": "stdout",
          "text": [
            "Validation loss: 1.1870638728141785\n",
            "Validation accuracy: 0.4740210771560669\n",
            "Epoch 257:\n"
          ]
        },
        {
          "output_type": "stream",
          "name": "stderr",
          "text": [
            "100%|██████████| 10/10 [00:00<00:00, 24.80it/s]\n"
          ]
        },
        {
          "output_type": "stream",
          "name": "stdout",
          "text": [
            "Training loss: 1.1772836923599244\n"
          ]
        },
        {
          "output_type": "stream",
          "name": "stderr",
          "text": [
            "100%|██████████| 6/6 [00:00<00:00, 145.43it/s]\n"
          ]
        },
        {
          "output_type": "stream",
          "name": "stdout",
          "text": [
            "Validation loss: 1.1749466458956401\n",
            "Validation accuracy: 0.4755270779132843\n",
            "Epoch 258:\n"
          ]
        },
        {
          "output_type": "stream",
          "name": "stderr",
          "text": [
            "100%|██████████| 10/10 [00:00<00:00, 85.96it/s]\n"
          ]
        },
        {
          "output_type": "stream",
          "name": "stdout",
          "text": [
            "Training loss: 1.1806485533714295\n"
          ]
        },
        {
          "output_type": "stream",
          "name": "stderr",
          "text": [
            "100%|██████████| 6/6 [00:00<00:00, 146.35it/s]\n"
          ]
        },
        {
          "output_type": "stream",
          "name": "stdout",
          "text": [
            "Validation loss: 1.1791983644167583\n",
            "Validation accuracy: 0.47966864705085754\n",
            "Epoch 259:\n"
          ]
        },
        {
          "output_type": "stream",
          "name": "stderr",
          "text": [
            "100%|██████████| 10/10 [00:00<00:00, 61.50it/s]\n"
          ]
        },
        {
          "output_type": "stream",
          "name": "stdout",
          "text": [
            "Training loss: 1.190374732017517\n"
          ]
        },
        {
          "output_type": "stream",
          "name": "stderr",
          "text": [
            "100%|██████████| 6/6 [00:00<00:00, 157.74it/s]\n"
          ]
        },
        {
          "output_type": "stream",
          "name": "stdout",
          "text": [
            "Validation loss: 1.178312639395396\n",
            "Validation accuracy: 0.47364455461502075\n",
            "Epoch 260:\n"
          ]
        },
        {
          "output_type": "stream",
          "name": "stderr",
          "text": [
            "100%|██████████| 10/10 [00:00<00:00, 62.76it/s]\n"
          ]
        },
        {
          "output_type": "stream",
          "name": "stdout",
          "text": [
            "Training loss: 1.1833896398544312\n"
          ]
        },
        {
          "output_type": "stream",
          "name": "stderr",
          "text": [
            "100%|██████████| 6/6 [00:00<00:00, 131.45it/s]\n"
          ]
        },
        {
          "output_type": "stream",
          "name": "stdout",
          "text": [
            "Validation loss: 1.172998309135437\n",
            "Validation accuracy: 0.46234938502311707\n",
            "Epoch 261:\n"
          ]
        },
        {
          "output_type": "stream",
          "name": "stderr",
          "text": [
            "100%|██████████| 10/10 [00:00<00:00, 65.95it/s]\n"
          ]
        },
        {
          "output_type": "stream",
          "name": "stdout",
          "text": [
            "Training loss: 1.169145929813385\n"
          ]
        },
        {
          "output_type": "stream",
          "name": "stderr",
          "text": [
            "100%|██████████| 6/6 [00:00<00:00, 120.68it/s]\n"
          ]
        },
        {
          "output_type": "stream",
          "name": "stdout",
          "text": [
            "Validation loss: 1.1935585538546245\n",
            "Validation accuracy: 0.46159636974334717\n",
            "Epoch 262:\n"
          ]
        },
        {
          "output_type": "stream",
          "name": "stderr",
          "text": [
            "100%|██████████| 10/10 [00:00<00:00, 62.93it/s]\n"
          ]
        },
        {
          "output_type": "stream",
          "name": "stdout",
          "text": [
            "Training loss: 1.1725878238677978\n"
          ]
        },
        {
          "output_type": "stream",
          "name": "stderr",
          "text": [
            "100%|██████████| 6/6 [00:00<00:00, 135.96it/s]\n"
          ]
        },
        {
          "output_type": "stream",
          "name": "stdout",
          "text": [
            "Validation loss: 1.183215856552124\n",
            "Validation accuracy: 0.4800451695919037\n",
            "Epoch 263:\n"
          ]
        },
        {
          "output_type": "stream",
          "name": "stderr",
          "text": [
            "100%|██████████| 10/10 [00:00<00:00, 60.79it/s]\n"
          ]
        },
        {
          "output_type": "stream",
          "name": "stdout",
          "text": [
            "Training loss: 1.1781485438346864\n"
          ]
        },
        {
          "output_type": "stream",
          "name": "stderr",
          "text": [
            "100%|██████████| 6/6 [00:00<00:00, 121.88it/s]\n"
          ]
        },
        {
          "output_type": "stream",
          "name": "stdout",
          "text": [
            "Validation loss: 1.1943311095237732\n",
            "Validation accuracy: 0.4593373239040375\n",
            "Epoch 264:\n"
          ]
        },
        {
          "output_type": "stream",
          "name": "stderr",
          "text": [
            "100%|██████████| 10/10 [00:00<00:00, 68.85it/s]\n"
          ]
        },
        {
          "output_type": "stream",
          "name": "stdout",
          "text": [
            "Training loss: 1.1916032195091248\n"
          ]
        },
        {
          "output_type": "stream",
          "name": "stderr",
          "text": [
            "100%|██████████| 6/6 [00:00<00:00, 154.28it/s]\n"
          ]
        },
        {
          "output_type": "stream",
          "name": "stdout",
          "text": [
            "Validation loss: 1.2029303312301636\n",
            "Validation accuracy: 0.46611443161964417\n",
            "Epoch 265:\n"
          ]
        },
        {
          "output_type": "stream",
          "name": "stderr",
          "text": [
            "100%|██████████| 10/10 [00:00<00:00, 72.85it/s]"
          ]
        },
        {
          "output_type": "stream",
          "name": "stdout",
          "text": [
            "Training loss: 1.189319086074829"
          ]
        },
        {
          "output_type": "stream",
          "name": "stderr",
          "text": [
            "\n"
          ]
        },
        {
          "output_type": "stream",
          "name": "stdout",
          "text": [
            "\n"
          ]
        },
        {
          "output_type": "stream",
          "name": "stderr",
          "text": [
            "100%|██████████| 6/6 [00:00<00:00, 96.69it/s]\n"
          ]
        },
        {
          "output_type": "stream",
          "name": "stdout",
          "text": [
            "Validation loss: 1.1784443457921345\n",
            "Validation accuracy: 0.477786123752594\n",
            "Epoch 266:\n"
          ]
        },
        {
          "output_type": "stream",
          "name": "stderr",
          "text": [
            "100%|██████████| 10/10 [00:00<00:00, 61.95it/s]\n"
          ]
        },
        {
          "output_type": "stream",
          "name": "stdout",
          "text": [
            "Training loss: 1.1882670044898986\n"
          ]
        },
        {
          "output_type": "stream",
          "name": "stderr",
          "text": [
            "100%|██████████| 6/6 [00:00<00:00, 128.67it/s]\n"
          ]
        },
        {
          "output_type": "stream",
          "name": "stdout",
          "text": [
            "Validation loss: 1.168276309967041\n",
            "Validation accuracy: 0.4939758777618408\n",
            "Epoch 267:\n"
          ]
        },
        {
          "output_type": "stream",
          "name": "stderr",
          "text": [
            "100%|██████████| 10/10 [00:00<00:00, 58.10it/s]\n"
          ]
        },
        {
          "output_type": "stream",
          "name": "stdout",
          "text": [
            "Training loss: 1.1831541776657104\n"
          ]
        },
        {
          "output_type": "stream",
          "name": "stderr",
          "text": [
            "100%|██████████| 6/6 [00:00<00:00, 132.40it/s]\n"
          ]
        },
        {
          "output_type": "stream",
          "name": "stdout",
          "text": [
            "Validation loss: 1.1777224739392598\n",
            "Validation accuracy: 0.46234938502311707\n",
            "Epoch 268:\n"
          ]
        },
        {
          "output_type": "stream",
          "name": "stderr",
          "text": [
            "100%|██████████| 10/10 [00:00<00:00, 65.29it/s]\n"
          ]
        },
        {
          "output_type": "stream",
          "name": "stdout",
          "text": [
            "Training loss: 1.1777039647102356\n"
          ]
        },
        {
          "output_type": "stream",
          "name": "stderr",
          "text": [
            "100%|██████████| 6/6 [00:00<00:00, 131.00it/s]\n"
          ]
        },
        {
          "output_type": "stream",
          "name": "stdout",
          "text": [
            "Validation loss: 1.1780161460240681\n",
            "Validation accuracy: 0.46837347745895386\n",
            "Epoch 269:\n"
          ]
        },
        {
          "output_type": "stream",
          "name": "stderr",
          "text": [
            "100%|██████████| 10/10 [00:00<00:00, 66.54it/s]\n"
          ]
        },
        {
          "output_type": "stream",
          "name": "stdout",
          "text": [
            "Training loss: 1.1913990020751952\n"
          ]
        },
        {
          "output_type": "stream",
          "name": "stderr",
          "text": [
            "100%|██████████| 6/6 [00:00<00:00, 130.62it/s]\n"
          ]
        },
        {
          "output_type": "stream",
          "name": "stdout",
          "text": [
            "Validation loss: 1.172201414903005\n",
            "Validation accuracy: 0.4710090160369873\n",
            "Epoch 270:\n"
          ]
        },
        {
          "output_type": "stream",
          "name": "stderr",
          "text": [
            "100%|██████████| 10/10 [00:00<00:00, 61.35it/s]\n"
          ]
        },
        {
          "output_type": "stream",
          "name": "stdout",
          "text": [
            "Training loss: 1.1816937804222107\n"
          ]
        },
        {
          "output_type": "stream",
          "name": "stderr",
          "text": [
            "100%|██████████| 6/6 [00:00<00:00, 103.58it/s]\n"
          ]
        },
        {
          "output_type": "stream",
          "name": "stdout",
          "text": [
            "Validation loss: 1.183694879213969\n",
            "Validation accuracy: 0.4657379388809204\n",
            "Epoch 271:\n"
          ]
        },
        {
          "output_type": "stream",
          "name": "stderr",
          "text": [
            "100%|██████████| 10/10 [00:00<00:00, 49.30it/s]\n"
          ]
        },
        {
          "output_type": "stream",
          "name": "stdout",
          "text": [
            "Training loss: 1.1850908160209657\n"
          ]
        },
        {
          "output_type": "stream",
          "name": "stderr",
          "text": [
            "100%|██████████| 6/6 [00:00<00:00, 125.18it/s]\n"
          ]
        },
        {
          "output_type": "stream",
          "name": "stdout",
          "text": [
            "Validation loss: 1.177767276763916\n",
            "Validation accuracy: 0.48268070816993713\n",
            "Epoch 272:\n"
          ]
        },
        {
          "output_type": "stream",
          "name": "stderr",
          "text": [
            "100%|██████████| 10/10 [00:00<00:00, 69.45it/s]\n"
          ]
        },
        {
          "output_type": "stream",
          "name": "stdout",
          "text": [
            "Training loss: 1.188096833229065\n"
          ]
        },
        {
          "output_type": "stream",
          "name": "stderr",
          "text": [
            "100%|██████████| 6/6 [00:00<00:00, 155.33it/s]\n"
          ]
        },
        {
          "output_type": "stream",
          "name": "stdout",
          "text": [
            "Validation loss: 1.1881029605865479\n",
            "Validation accuracy: 0.4898343086242676\n",
            "Epoch 273:\n"
          ]
        },
        {
          "output_type": "stream",
          "name": "stderr",
          "text": [
            "100%|██████████| 10/10 [00:00<00:00, 94.06it/s]\n"
          ]
        },
        {
          "output_type": "stream",
          "name": "stdout",
          "text": [
            "Training loss: 1.188187873363495\n"
          ]
        },
        {
          "output_type": "stream",
          "name": "stderr",
          "text": [
            "100%|██████████| 6/6 [00:00<00:00, 173.56it/s]\n"
          ]
        },
        {
          "output_type": "stream",
          "name": "stdout",
          "text": [
            "Validation loss: 1.1909593343734741\n",
            "Validation accuracy: 0.4664909541606903\n",
            "Epoch 274:\n"
          ]
        },
        {
          "output_type": "stream",
          "name": "stderr",
          "text": [
            "100%|██████████| 10/10 [00:00<00:00, 82.59it/s]\n"
          ]
        },
        {
          "output_type": "stream",
          "name": "stdout",
          "text": [
            "Training loss: 1.1821519613265992\n"
          ]
        },
        {
          "output_type": "stream",
          "name": "stderr",
          "text": [
            "100%|██████████| 6/6 [00:00<00:00, 159.59it/s]\n"
          ]
        },
        {
          "output_type": "stream",
          "name": "stdout",
          "text": [
            "Validation loss: 1.1788597504297893\n",
            "Validation accuracy: 0.4905873239040375\n",
            "Epoch 275:\n"
          ]
        },
        {
          "output_type": "stream",
          "name": "stderr",
          "text": [
            "100%|██████████| 10/10 [00:00<00:00, 93.42it/s]\n"
          ]
        },
        {
          "output_type": "stream",
          "name": "stdout",
          "text": [
            "Training loss: 1.1745895743370056\n"
          ]
        },
        {
          "output_type": "stream",
          "name": "stderr",
          "text": [
            "100%|██████████| 6/6 [00:00<00:00, 152.82it/s]\n"
          ]
        },
        {
          "output_type": "stream",
          "name": "stdout",
          "text": [
            "Validation loss: 1.1884591182072957\n",
            "Validation accuracy: 0.4627258777618408\n",
            "Epoch 276:\n"
          ]
        },
        {
          "output_type": "stream",
          "name": "stderr",
          "text": [
            "100%|██████████| 10/10 [00:00<00:00, 83.68it/s]\n"
          ]
        },
        {
          "output_type": "stream",
          "name": "stdout",
          "text": [
            "Training loss: 1.185820496082306\n"
          ]
        },
        {
          "output_type": "stream",
          "name": "stderr",
          "text": [
            "100%|██████████| 6/6 [00:00<00:00, 151.39it/s]\n"
          ]
        },
        {
          "output_type": "stream",
          "name": "stdout",
          "text": [
            "Validation loss: 1.173548976580302\n",
            "Validation accuracy: 0.47439756989479065\n",
            "Epoch 277:\n"
          ]
        },
        {
          "output_type": "stream",
          "name": "stderr",
          "text": [
            "100%|██████████| 10/10 [00:00<00:00, 78.69it/s]\n"
          ]
        },
        {
          "output_type": "stream",
          "name": "stdout",
          "text": [
            "Training loss: 1.1805528044700622\n"
          ]
        },
        {
          "output_type": "stream",
          "name": "stderr",
          "text": [
            "100%|██████████| 6/6 [00:00<00:00, 160.45it/s]\n"
          ]
        },
        {
          "output_type": "stream",
          "name": "stdout",
          "text": [
            "Validation loss: 1.1778127352396648\n",
            "Validation accuracy: 0.4710090160369873\n",
            "Epoch 278:\n"
          ]
        },
        {
          "output_type": "stream",
          "name": "stderr",
          "text": [
            "100%|██████████| 10/10 [00:00<00:00, 96.86it/s]\n"
          ]
        },
        {
          "output_type": "stream",
          "name": "stdout",
          "text": [
            "Training loss: 1.1943570137023927\n"
          ]
        },
        {
          "output_type": "stream",
          "name": "stderr",
          "text": [
            "100%|██████████| 6/6 [00:00<00:00, 182.26it/s]\n"
          ]
        },
        {
          "output_type": "stream",
          "name": "stdout",
          "text": [
            "Validation loss: 1.1741936206817627\n",
            "Validation accuracy: 0.4849397540092468\n",
            "Epoch 279:\n"
          ]
        },
        {
          "output_type": "stream",
          "name": "stderr",
          "text": [
            "100%|██████████| 10/10 [00:00<00:00, 76.72it/s]\n"
          ]
        },
        {
          "output_type": "stream",
          "name": "stdout",
          "text": [
            "Training loss: 1.1838857650756835\n"
          ]
        },
        {
          "output_type": "stream",
          "name": "stderr",
          "text": [
            "100%|██████████| 6/6 [00:00<00:00, 152.35it/s]\n"
          ]
        },
        {
          "output_type": "stream",
          "name": "stdout",
          "text": [
            "Validation loss: 1.2006957530975342\n",
            "Validation accuracy: 0.4672439694404602\n",
            "Epoch 280:\n"
          ]
        },
        {
          "output_type": "stream",
          "name": "stderr",
          "text": [
            "100%|██████████| 10/10 [00:00<00:00, 92.32it/s]\n"
          ]
        },
        {
          "output_type": "stream",
          "name": "stdout",
          "text": [
            "Training loss: 1.1844682216644287\n"
          ]
        },
        {
          "output_type": "stream",
          "name": "stderr",
          "text": [
            "100%|██████████| 6/6 [00:00<00:00, 188.88it/s]\n"
          ]
        },
        {
          "output_type": "stream",
          "name": "stdout",
          "text": [
            "Validation loss: 1.1890402634938557\n",
            "Validation accuracy: 0.45293673872947693\n",
            "Epoch 281:\n"
          ]
        },
        {
          "output_type": "stream",
          "name": "stderr",
          "text": [
            "100%|██████████| 10/10 [00:00<00:00, 85.79it/s]\n"
          ]
        },
        {
          "output_type": "stream",
          "name": "stdout",
          "text": [
            "Training loss: 1.191285741329193\n"
          ]
        },
        {
          "output_type": "stream",
          "name": "stderr",
          "text": [
            "100%|██████████| 6/6 [00:00<00:00, 130.99it/s]\n"
          ]
        },
        {
          "output_type": "stream",
          "name": "stdout",
          "text": [
            "Validation loss: 1.1703294118245442\n",
            "Validation accuracy: 0.4792921543121338\n",
            "Epoch 282:\n"
          ]
        },
        {
          "output_type": "stream",
          "name": "stderr",
          "text": [
            "100%|██████████| 10/10 [00:00<00:00, 87.09it/s]\n"
          ]
        },
        {
          "output_type": "stream",
          "name": "stdout",
          "text": [
            "Training loss: 1.1825095415115356\n"
          ]
        },
        {
          "output_type": "stream",
          "name": "stderr",
          "text": [
            "100%|██████████| 6/6 [00:00<00:00, 152.28it/s]\n"
          ]
        },
        {
          "output_type": "stream",
          "name": "stdout",
          "text": [
            "Validation loss: 1.179890513420105\n",
            "Validation accuracy: 0.47439756989479065\n",
            "Epoch 283:\n"
          ]
        },
        {
          "output_type": "stream",
          "name": "stderr",
          "text": [
            "100%|██████████| 10/10 [00:00<00:00, 86.25it/s]\n"
          ]
        },
        {
          "output_type": "stream",
          "name": "stdout",
          "text": [
            "Training loss: 1.1886852622032165\n"
          ]
        },
        {
          "output_type": "stream",
          "name": "stderr",
          "text": [
            "100%|██████████| 6/6 [00:00<00:00, 156.62it/s]\n"
          ]
        },
        {
          "output_type": "stream",
          "name": "stdout",
          "text": [
            "Validation loss: 1.1707664728164673\n",
            "Validation accuracy: 0.4755270779132843\n",
            "Epoch 284:\n"
          ]
        },
        {
          "output_type": "stream",
          "name": "stderr",
          "text": [
            "100%|██████████| 10/10 [00:00<00:00, 83.66it/s]\n"
          ]
        },
        {
          "output_type": "stream",
          "name": "stdout",
          "text": [
            "Training loss: 1.1755178809165954\n"
          ]
        },
        {
          "output_type": "stream",
          "name": "stderr",
          "text": [
            "100%|██████████| 6/6 [00:00<00:00, 156.58it/s]\n"
          ]
        },
        {
          "output_type": "stream",
          "name": "stdout",
          "text": [
            "Validation loss: 1.1791419585545857\n",
            "Validation accuracy: 0.48117467761039734\n",
            "Epoch 285:\n"
          ]
        },
        {
          "output_type": "stream",
          "name": "stderr",
          "text": [
            "100%|██████████| 10/10 [00:00<00:00, 98.42it/s]\n"
          ]
        },
        {
          "output_type": "stream",
          "name": "stdout",
          "text": [
            "Training loss: 1.194735050201416\n"
          ]
        },
        {
          "output_type": "stream",
          "name": "stderr",
          "text": [
            "100%|██████████| 6/6 [00:00<00:00, 187.37it/s]\n"
          ]
        },
        {
          "output_type": "stream",
          "name": "stdout",
          "text": [
            "Validation loss: 1.2095057169596355\n",
            "Validation accuracy: 0.4687499701976776\n",
            "Epoch 286:\n"
          ]
        },
        {
          "output_type": "stream",
          "name": "stderr",
          "text": [
            "100%|██████████| 10/10 [00:00<00:00, 82.82it/s]\n"
          ]
        },
        {
          "output_type": "stream",
          "name": "stdout",
          "text": [
            "Training loss: 1.18592689037323\n"
          ]
        },
        {
          "output_type": "stream",
          "name": "stderr",
          "text": [
            "100%|██████████| 6/6 [00:00<00:00, 165.15it/s]\n"
          ]
        },
        {
          "output_type": "stream",
          "name": "stdout",
          "text": [
            "Validation loss: 1.1982120275497437\n",
            "Validation accuracy: 0.48343372344970703\n",
            "Epoch 287:\n"
          ]
        },
        {
          "output_type": "stream",
          "name": "stderr",
          "text": [
            "100%|██████████| 10/10 [00:00<00:00, 85.41it/s]\n"
          ]
        },
        {
          "output_type": "stream",
          "name": "stdout",
          "text": [
            "Training loss: 1.1837085485458374\n"
          ]
        },
        {
          "output_type": "stream",
          "name": "stderr",
          "text": [
            "100%|██████████| 6/6 [00:00<00:00, 148.61it/s]\n"
          ]
        },
        {
          "output_type": "stream",
          "name": "stdout",
          "text": [
            "Validation loss: 1.161669393380483\n",
            "Validation accuracy: 0.47213852405548096\n",
            "Epoch 288:\n"
          ]
        },
        {
          "output_type": "stream",
          "name": "stderr",
          "text": [
            "100%|██████████| 10/10 [00:00<00:00, 91.26it/s]\n"
          ]
        },
        {
          "output_type": "stream",
          "name": "stdout",
          "text": [
            "Training loss: 1.1882118225097655\n"
          ]
        },
        {
          "output_type": "stream",
          "name": "stderr",
          "text": [
            "100%|██████████| 6/6 [00:00<00:00, 172.94it/s]\n"
          ]
        },
        {
          "output_type": "stream",
          "name": "stdout",
          "text": [
            "Validation loss: 1.173614243666331\n",
            "Validation accuracy: 0.4702560007572174\n",
            "Epoch 289:\n"
          ]
        },
        {
          "output_type": "stream",
          "name": "stderr",
          "text": [
            "100%|██████████| 10/10 [00:00<00:00, 79.32it/s]\n"
          ]
        },
        {
          "output_type": "stream",
          "name": "stdout",
          "text": [
            "Training loss: 1.1958829522132874\n"
          ]
        },
        {
          "output_type": "stream",
          "name": "stderr",
          "text": [
            "100%|██████████| 6/6 [00:00<00:00, 141.59it/s]\n"
          ]
        },
        {
          "output_type": "stream",
          "name": "stdout",
          "text": [
            "Validation loss: 1.1871293584505718\n",
            "Validation accuracy: 0.47063252329826355\n",
            "Epoch 290:\n"
          ]
        },
        {
          "output_type": "stream",
          "name": "stderr",
          "text": [
            "100%|██████████| 10/10 [00:00<00:00, 84.78it/s]\n"
          ]
        },
        {
          "output_type": "stream",
          "name": "stdout",
          "text": [
            "Training loss: 1.2026736617088318\n"
          ]
        },
        {
          "output_type": "stream",
          "name": "stderr",
          "text": [
            "100%|██████████| 6/6 [00:00<00:00, 147.97it/s]\n"
          ]
        },
        {
          "output_type": "stream",
          "name": "stdout",
          "text": [
            "Validation loss: 1.1902900139490764\n",
            "Validation accuracy: 0.48117467761039734\n",
            "Epoch 291:\n"
          ]
        },
        {
          "output_type": "stream",
          "name": "stderr",
          "text": [
            "100%|██████████| 10/10 [00:00<00:00, 92.99it/s]\n"
          ]
        },
        {
          "output_type": "stream",
          "name": "stdout",
          "text": [
            "Training loss: 1.1779997229576111\n"
          ]
        },
        {
          "output_type": "stream",
          "name": "stderr",
          "text": [
            "100%|██████████| 6/6 [00:00<00:00, 172.59it/s]\n"
          ]
        },
        {
          "output_type": "stream",
          "name": "stdout",
          "text": [
            "Validation loss: 1.1864442030588787\n",
            "Validation accuracy: 0.46536141633987427\n",
            "Epoch 292:\n"
          ]
        },
        {
          "output_type": "stream",
          "name": "stderr",
          "text": [
            "100%|██████████| 10/10 [00:00<00:00, 81.48it/s]\n"
          ]
        },
        {
          "output_type": "stream",
          "name": "stdout",
          "text": [
            "Training loss: 1.1912561058998108\n"
          ]
        },
        {
          "output_type": "stream",
          "name": "stderr",
          "text": [
            "100%|██████████| 6/6 [00:00<00:00, 146.56it/s]\n"
          ]
        },
        {
          "output_type": "stream",
          "name": "stdout",
          "text": [
            "Validation loss: 1.2020758191744487\n",
            "Validation accuracy: 0.47439756989479065\n",
            "Epoch 293:\n"
          ]
        },
        {
          "output_type": "stream",
          "name": "stderr",
          "text": [
            "100%|██████████| 10/10 [00:00<00:00, 94.25it/s]\n"
          ]
        },
        {
          "output_type": "stream",
          "name": "stdout",
          "text": [
            "Training loss: 1.1815900444984435\n"
          ]
        },
        {
          "output_type": "stream",
          "name": "stderr",
          "text": [
            "100%|██████████| 6/6 [00:00<00:00, 171.40it/s]\n"
          ]
        },
        {
          "output_type": "stream",
          "name": "stdout",
          "text": [
            "Validation loss: 1.167702813943227\n",
            "Validation accuracy: 0.48192769289016724\n",
            "Epoch 294:\n"
          ]
        },
        {
          "output_type": "stream",
          "name": "stderr",
          "text": [
            "100%|██████████| 10/10 [00:00<00:00, 83.63it/s]\n"
          ]
        },
        {
          "output_type": "stream",
          "name": "stdout",
          "text": [
            "Training loss: 1.1937157392501831\n"
          ]
        },
        {
          "output_type": "stream",
          "name": "stderr",
          "text": [
            "100%|██████████| 6/6 [00:00<00:00, 160.52it/s]\n"
          ]
        },
        {
          "output_type": "stream",
          "name": "stdout",
          "text": [
            "Validation loss: 1.1849525570869446\n",
            "Validation accuracy: 0.47590360045433044\n",
            "Epoch 295:\n"
          ]
        },
        {
          "output_type": "stream",
          "name": "stderr",
          "text": [
            "100%|██████████| 10/10 [00:00<00:00, 78.38it/s]\n"
          ]
        },
        {
          "output_type": "stream",
          "name": "stdout",
          "text": [
            "Training loss: 1.1831803917884827\n"
          ]
        },
        {
          "output_type": "stream",
          "name": "stderr",
          "text": [
            "100%|██████████| 6/6 [00:00<00:00, 132.36it/s]\n"
          ]
        },
        {
          "output_type": "stream",
          "name": "stdout",
          "text": [
            "Validation loss: 1.1782033443450928\n",
            "Validation accuracy: 0.47966864705085754\n",
            "Epoch 296:\n"
          ]
        },
        {
          "output_type": "stream",
          "name": "stderr",
          "text": [
            "100%|██████████| 10/10 [00:00<00:00, 96.65it/s]\n"
          ]
        },
        {
          "output_type": "stream",
          "name": "stdout",
          "text": [
            "Training loss: 1.1877639293670654\n"
          ]
        },
        {
          "output_type": "stream",
          "name": "stderr",
          "text": [
            "100%|██████████| 6/6 [00:00<00:00, 166.12it/s]\n"
          ]
        },
        {
          "output_type": "stream",
          "name": "stdout",
          "text": [
            "Validation loss: 1.1784050464630127\n",
            "Validation accuracy: 0.47816264629364014\n",
            "Epoch 297:\n"
          ]
        },
        {
          "output_type": "stream",
          "name": "stderr",
          "text": [
            "100%|██████████| 10/10 [00:00<00:00, 85.68it/s]\n"
          ]
        },
        {
          "output_type": "stream",
          "name": "stdout",
          "text": [
            "Training loss: 1.1764904737472535\n"
          ]
        },
        {
          "output_type": "stream",
          "name": "stderr",
          "text": [
            "100%|██████████| 6/6 [00:00<00:00, 148.81it/s]\n"
          ]
        },
        {
          "output_type": "stream",
          "name": "stdout",
          "text": [
            "Validation loss: 1.1991104483604431\n",
            "Validation accuracy: 0.46686744689941406\n",
            "Epoch 298:\n"
          ]
        },
        {
          "output_type": "stream",
          "name": "stderr",
          "text": [
            "100%|██████████| 10/10 [00:00<00:00, 86.89it/s]\n"
          ]
        },
        {
          "output_type": "stream",
          "name": "stdout",
          "text": [
            "Training loss: 1.1754347920417785\n"
          ]
        },
        {
          "output_type": "stream",
          "name": "stderr",
          "text": [
            "100%|██████████| 6/6 [00:00<00:00, 143.42it/s]\n"
          ]
        },
        {
          "output_type": "stream",
          "name": "stdout",
          "text": [
            "Validation loss: 1.1783176064491272\n",
            "Validation accuracy: 0.4755270779132843\n",
            "Epoch 299:\n"
          ]
        },
        {
          "output_type": "stream",
          "name": "stderr",
          "text": [
            "100%|██████████| 10/10 [00:00<00:00, 95.40it/s]\n"
          ]
        },
        {
          "output_type": "stream",
          "name": "stdout",
          "text": [
            "Training loss: 1.1822045683860778\n"
          ]
        },
        {
          "output_type": "stream",
          "name": "stderr",
          "text": [
            "100%|██████████| 6/6 [00:00<00:00, 183.94it/s]\n"
          ]
        },
        {
          "output_type": "stream",
          "name": "stdout",
          "text": [
            "Validation loss: 1.1881326238314311\n",
            "Validation accuracy: 0.46536141633987427\n",
            "Epoch 300:\n"
          ]
        },
        {
          "output_type": "stream",
          "name": "stderr",
          "text": [
            "100%|██████████| 10/10 [00:00<00:00, 71.96it/s]\n"
          ]
        },
        {
          "output_type": "stream",
          "name": "stdout",
          "text": [
            "Training loss: 1.1806779265403748\n"
          ]
        },
        {
          "output_type": "stream",
          "name": "stderr",
          "text": [
            "100%|██████████| 6/6 [00:00<00:00, 148.08it/s]\n"
          ]
        },
        {
          "output_type": "stream",
          "name": "stdout",
          "text": [
            "Validation loss: 1.1724775036176045\n",
            "Validation accuracy: 0.46837347745895386\n",
            "Epoch 301:\n"
          ]
        },
        {
          "output_type": "stream",
          "name": "stderr",
          "text": [
            "100%|██████████| 10/10 [00:00<00:00, 80.25it/s]\n"
          ]
        },
        {
          "output_type": "stream",
          "name": "stdout",
          "text": [
            "Training loss: 1.1886321187019349\n"
          ]
        },
        {
          "output_type": "stream",
          "name": "stderr",
          "text": [
            "100%|██████████| 6/6 [00:00<00:00, 164.66it/s]\n"
          ]
        },
        {
          "output_type": "stream",
          "name": "stdout",
          "text": [
            "Validation loss: 1.1659221649169922\n",
            "Validation accuracy: 0.45783132314682007\n",
            "Epoch 302:\n"
          ]
        },
        {
          "output_type": "stream",
          "name": "stderr",
          "text": [
            "100%|██████████| 10/10 [00:00<00:00, 95.35it/s]\n"
          ]
        },
        {
          "output_type": "stream",
          "name": "stdout",
          "text": [
            "Training loss: 1.18460556268692\n"
          ]
        },
        {
          "output_type": "stream",
          "name": "stderr",
          "text": [
            "100%|██████████| 6/6 [00:00<00:00, 187.93it/s]\n"
          ]
        },
        {
          "output_type": "stream",
          "name": "stdout",
          "text": [
            "Validation loss: 1.1929514805475872\n",
            "Validation accuracy: 0.4853162467479706\n",
            "Epoch 303:\n"
          ]
        },
        {
          "output_type": "stream",
          "name": "stderr",
          "text": [
            "100%|██████████| 10/10 [00:00<00:00, 76.92it/s]\n"
          ]
        },
        {
          "output_type": "stream",
          "name": "stdout",
          "text": [
            "Training loss: 1.177178728580475\n"
          ]
        },
        {
          "output_type": "stream",
          "name": "stderr",
          "text": [
            "100%|██████████| 6/6 [00:00<00:00, 143.58it/s]\n"
          ]
        },
        {
          "output_type": "stream",
          "name": "stdout",
          "text": [
            "Validation loss: 1.1878404021263123\n",
            "Validation accuracy: 0.48117467761039734\n",
            "Epoch 304:\n"
          ]
        },
        {
          "output_type": "stream",
          "name": "stderr",
          "text": [
            "100%|██████████| 10/10 [00:00<00:00, 96.23it/s]\n"
          ]
        },
        {
          "output_type": "stream",
          "name": "stdout",
          "text": [
            "Training loss: 1.1815622925758362\n"
          ]
        },
        {
          "output_type": "stream",
          "name": "stderr",
          "text": [
            "100%|██████████| 6/6 [00:00<00:00, 205.42it/s]\n"
          ]
        },
        {
          "output_type": "stream",
          "name": "stdout",
          "text": [
            "Validation loss: 1.1906709273656209\n",
            "Validation accuracy: 0.47138553857803345\n",
            "Epoch 305:\n"
          ]
        },
        {
          "output_type": "stream",
          "name": "stderr",
          "text": [
            "100%|██████████| 10/10 [00:00<00:00, 81.85it/s]\n"
          ]
        },
        {
          "output_type": "stream",
          "name": "stdout",
          "text": [
            "Training loss: 1.1868134140968323\n"
          ]
        },
        {
          "output_type": "stream",
          "name": "stderr",
          "text": [
            "100%|██████████| 6/6 [00:00<00:00, 128.45it/s]\n"
          ]
        },
        {
          "output_type": "stream",
          "name": "stdout",
          "text": [
            "Validation loss: 1.201138198375702\n",
            "Validation accuracy: 0.47891563177108765\n",
            "Epoch 306:\n"
          ]
        },
        {
          "output_type": "stream",
          "name": "stderr",
          "text": [
            "100%|██████████| 10/10 [00:00<00:00, 84.76it/s]\n"
          ]
        },
        {
          "output_type": "stream",
          "name": "stdout",
          "text": [
            "Training loss: 1.1773313760757447\n"
          ]
        },
        {
          "output_type": "stream",
          "name": "stderr",
          "text": [
            "100%|██████████| 6/6 [00:00<00:00, 168.21it/s]\n"
          ]
        },
        {
          "output_type": "stream",
          "name": "stdout",
          "text": [
            "Validation loss: 1.193399449189504\n",
            "Validation accuracy: 0.47138553857803345\n",
            "Epoch 307:\n"
          ]
        },
        {
          "output_type": "stream",
          "name": "stderr",
          "text": [
            "100%|██████████| 10/10 [00:00<00:00, 82.90it/s]\n"
          ]
        },
        {
          "output_type": "stream",
          "name": "stdout",
          "text": [
            "Training loss: 1.187373650074005\n"
          ]
        },
        {
          "output_type": "stream",
          "name": "stderr",
          "text": [
            "100%|██████████| 6/6 [00:00<00:00, 162.32it/s]\n"
          ]
        },
        {
          "output_type": "stream",
          "name": "stdout",
          "text": [
            "Validation loss: 1.1902641654014587\n",
            "Validation accuracy: 0.48832830786705017\n",
            "Epoch 308:\n"
          ]
        },
        {
          "output_type": "stream",
          "name": "stderr",
          "text": [
            "100%|██████████| 10/10 [00:00<00:00, 80.94it/s]\n"
          ]
        },
        {
          "output_type": "stream",
          "name": "stdout",
          "text": [
            "Training loss: 1.1827693581581116\n"
          ]
        },
        {
          "output_type": "stream",
          "name": "stderr",
          "text": [
            "100%|██████████| 6/6 [00:00<00:00, 143.68it/s]\n"
          ]
        },
        {
          "output_type": "stream",
          "name": "stdout",
          "text": [
            "Validation loss: 1.185480535030365\n",
            "Validation accuracy: 0.48343372344970703\n",
            "Epoch 309:\n"
          ]
        },
        {
          "output_type": "stream",
          "name": "stderr",
          "text": [
            "100%|██████████| 10/10 [00:00<00:00, 85.06it/s]\n"
          ]
        },
        {
          "output_type": "stream",
          "name": "stdout",
          "text": [
            "Training loss: 1.1741992831230164\n"
          ]
        },
        {
          "output_type": "stream",
          "name": "stderr",
          "text": [
            "100%|██████████| 6/6 [00:00<00:00, 158.84it/s]\n"
          ]
        },
        {
          "output_type": "stream",
          "name": "stdout",
          "text": [
            "Validation loss: 1.1807013750076294\n",
            "Validation accuracy: 0.4657379388809204\n",
            "Epoch 310:\n"
          ]
        },
        {
          "output_type": "stream",
          "name": "stderr",
          "text": [
            "100%|██████████| 10/10 [00:00<00:00, 95.50it/s]\n"
          ]
        },
        {
          "output_type": "stream",
          "name": "stdout",
          "text": [
            "Training loss: 1.1975813031196594\n"
          ]
        },
        {
          "output_type": "stream",
          "name": "stderr",
          "text": [
            "100%|██████████| 6/6 [00:00<00:00, 156.51it/s]\n"
          ]
        },
        {
          "output_type": "stream",
          "name": "stdout",
          "text": [
            "Validation loss: 1.1919560233751934\n",
            "Validation accuracy: 0.47740963101387024\n",
            "Epoch 311:\n"
          ]
        },
        {
          "output_type": "stream",
          "name": "stderr",
          "text": [
            "100%|██████████| 10/10 [00:00<00:00, 73.07it/s]\n"
          ]
        },
        {
          "output_type": "stream",
          "name": "stdout",
          "text": [
            "Training loss: 1.1969290256500245\n"
          ]
        },
        {
          "output_type": "stream",
          "name": "stderr",
          "text": [
            "100%|██████████| 6/6 [00:00<00:00, 172.19it/s]\n"
          ]
        },
        {
          "output_type": "stream",
          "name": "stdout",
          "text": [
            "Validation loss: 1.1911365588506062\n",
            "Validation accuracy: 0.46611443161964417\n",
            "Epoch 312:\n"
          ]
        },
        {
          "output_type": "stream",
          "name": "stderr",
          "text": [
            "100%|██████████| 10/10 [00:00<00:00, 92.08it/s]\n"
          ]
        },
        {
          "output_type": "stream",
          "name": "stdout",
          "text": [
            "Training loss: 1.1935240507125855\n"
          ]
        },
        {
          "output_type": "stream",
          "name": "stderr",
          "text": [
            "100%|██████████| 6/6 [00:00<00:00, 162.73it/s]\n"
          ]
        },
        {
          "output_type": "stream",
          "name": "stdout",
          "text": [
            "Validation loss: 1.1865850885709126\n",
            "Validation accuracy: 0.4762800931930542\n",
            "Epoch 313:\n"
          ]
        },
        {
          "output_type": "stream",
          "name": "stderr",
          "text": [
            "100%|██████████| 10/10 [00:00<00:00, 77.42it/s]\n"
          ]
        },
        {
          "output_type": "stream",
          "name": "stdout",
          "text": [
            "Training loss: 1.1779027700424194\n"
          ]
        },
        {
          "output_type": "stream",
          "name": "stderr",
          "text": [
            "100%|██████████| 6/6 [00:00<00:00, 138.41it/s]\n"
          ]
        },
        {
          "output_type": "stream",
          "name": "stdout",
          "text": [
            "Validation loss: 1.1657821734746296\n",
            "Validation accuracy: 0.48418673872947693\n",
            "Epoch 314:\n"
          ]
        },
        {
          "output_type": "stream",
          "name": "stderr",
          "text": [
            "100%|██████████| 10/10 [00:00<00:00, 86.11it/s]\n"
          ]
        },
        {
          "output_type": "stream",
          "name": "stdout",
          "text": [
            "Training loss: 1.1809632420539855\n"
          ]
        },
        {
          "output_type": "stream",
          "name": "stderr",
          "text": [
            "100%|██████████| 6/6 [00:00<00:00, 155.52it/s]\n"
          ]
        },
        {
          "output_type": "stream",
          "name": "stdout",
          "text": [
            "Validation loss: 1.1896167794863384\n",
            "Validation accuracy: 0.46460843086242676\n",
            "Epoch 315:\n"
          ]
        },
        {
          "output_type": "stream",
          "name": "stderr",
          "text": [
            "100%|██████████| 10/10 [00:00<00:00, 92.73it/s]\n"
          ]
        },
        {
          "output_type": "stream",
          "name": "stdout",
          "text": [
            "Training loss: 1.1866641283035277\n"
          ]
        },
        {
          "output_type": "stream",
          "name": "stderr",
          "text": [
            "100%|██████████| 6/6 [00:00<00:00, 17.67it/s]\n"
          ]
        },
        {
          "output_type": "stream",
          "name": "stdout",
          "text": [
            "Validation loss: 1.1785416007041931\n",
            "Validation accuracy: 0.46536141633987427\n",
            "Epoch 316:\n"
          ]
        },
        {
          "output_type": "stream",
          "name": "stderr",
          "text": [
            "100%|██████████| 10/10 [00:00<00:00, 98.31it/s]\n"
          ]
        },
        {
          "output_type": "stream",
          "name": "stdout",
          "text": [
            "Training loss: 1.184693992137909\n"
          ]
        },
        {
          "output_type": "stream",
          "name": "stderr",
          "text": [
            "100%|██████████| 6/6 [00:00<00:00, 141.90it/s]\n"
          ]
        },
        {
          "output_type": "stream",
          "name": "stdout",
          "text": [
            "Validation loss: 1.2027442852656047\n",
            "Validation accuracy: 0.47816264629364014\n",
            "Epoch 317:\n"
          ]
        },
        {
          "output_type": "stream",
          "name": "stderr",
          "text": [
            "100%|██████████| 10/10 [00:00<00:00, 77.02it/s]\n"
          ]
        },
        {
          "output_type": "stream",
          "name": "stdout",
          "text": [
            "Training loss: 1.190944004058838\n"
          ]
        },
        {
          "output_type": "stream",
          "name": "stderr",
          "text": [
            "100%|██████████| 6/6 [00:00<00:00, 154.42it/s]\n"
          ]
        },
        {
          "output_type": "stream",
          "name": "stdout",
          "text": [
            "Validation loss: 1.1708869735399883\n",
            "Validation accuracy: 0.4679969847202301\n",
            "Epoch 318:\n"
          ]
        },
        {
          "output_type": "stream",
          "name": "stderr",
          "text": [
            "100%|██████████| 10/10 [00:00<00:00, 84.62it/s]\n"
          ]
        },
        {
          "output_type": "stream",
          "name": "stdout",
          "text": [
            "Training loss: 1.1869587540626525\n"
          ]
        },
        {
          "output_type": "stream",
          "name": "stderr",
          "text": [
            "100%|██████████| 6/6 [00:00<00:00, 156.27it/s]\n"
          ]
        },
        {
          "output_type": "stream",
          "name": "stdout",
          "text": [
            "Validation loss: 1.1815545161565144\n",
            "Validation accuracy: 0.4785391390323639\n",
            "Epoch 319:\n"
          ]
        },
        {
          "output_type": "stream",
          "name": "stderr",
          "text": [
            "100%|██████████| 10/10 [00:00<00:00, 86.48it/s]\n"
          ]
        },
        {
          "output_type": "stream",
          "name": "stdout",
          "text": [
            "Training loss: 1.1669458627700806\n"
          ]
        },
        {
          "output_type": "stream",
          "name": "stderr",
          "text": [
            "100%|██████████| 6/6 [00:00<00:00, 157.96it/s]\n"
          ]
        },
        {
          "output_type": "stream",
          "name": "stdout",
          "text": [
            "Validation loss: 1.1847753723462422\n",
            "Validation accuracy: 0.46686744689941406\n",
            "Epoch 320:\n"
          ]
        },
        {
          "output_type": "stream",
          "name": "stderr",
          "text": [
            "100%|██████████| 10/10 [00:00<00:00, 84.21it/s]\n"
          ]
        },
        {
          "output_type": "stream",
          "name": "stdout",
          "text": [
            "Training loss: 1.1784034490585327\n"
          ]
        },
        {
          "output_type": "stream",
          "name": "stderr",
          "text": [
            "100%|██████████| 6/6 [00:00<00:00, 135.66it/s]\n"
          ]
        },
        {
          "output_type": "stream",
          "name": "stdout",
          "text": [
            "Validation loss: 1.181815226872762\n",
            "Validation accuracy: 0.4785391390323639\n",
            "Epoch 321:\n"
          ]
        },
        {
          "output_type": "stream",
          "name": "stderr",
          "text": [
            "100%|██████████| 10/10 [00:00<00:00, 86.75it/s]\n"
          ]
        },
        {
          "output_type": "stream",
          "name": "stdout",
          "text": [
            "Training loss: 1.175954532623291\n"
          ]
        },
        {
          "output_type": "stream",
          "name": "stderr",
          "text": [
            "100%|██████████| 6/6 [00:00<00:00, 157.54it/s]\n"
          ]
        },
        {
          "output_type": "stream",
          "name": "stdout",
          "text": [
            "Validation loss: 1.1874640782674153\n",
            "Validation accuracy: 0.48418673872947693\n",
            "Epoch 322:\n"
          ]
        },
        {
          "output_type": "stream",
          "name": "stderr",
          "text": [
            "100%|██████████| 10/10 [00:00<00:00, 94.10it/s]\n"
          ]
        },
        {
          "output_type": "stream",
          "name": "stdout",
          "text": [
            "Training loss: 1.1777188777923584\n"
          ]
        },
        {
          "output_type": "stream",
          "name": "stderr",
          "text": [
            "100%|██████████| 6/6 [00:00<00:00, 153.78it/s]\n"
          ]
        },
        {
          "output_type": "stream",
          "name": "stdout",
          "text": [
            "Validation loss: 1.1826802492141724\n",
            "Validation accuracy: 0.4860692620277405\n",
            "Epoch 323:\n"
          ]
        },
        {
          "output_type": "stream",
          "name": "stderr",
          "text": [
            "100%|██████████| 10/10 [00:00<00:00, 70.72it/s]\n"
          ]
        },
        {
          "output_type": "stream",
          "name": "stdout",
          "text": [
            "Training loss: 1.1813595414161682\n"
          ]
        },
        {
          "output_type": "stream",
          "name": "stderr",
          "text": [
            "100%|██████████| 6/6 [00:00<00:00, 159.95it/s]\n"
          ]
        },
        {
          "output_type": "stream",
          "name": "stdout",
          "text": [
            "Validation loss: 1.187204937140147\n",
            "Validation accuracy: 0.4725150465965271\n",
            "Epoch 324:\n"
          ]
        },
        {
          "output_type": "stream",
          "name": "stderr",
          "text": [
            "100%|██████████| 10/10 [00:00<00:00, 92.21it/s]\n"
          ]
        },
        {
          "output_type": "stream",
          "name": "stdout",
          "text": [
            "Training loss: 1.1899768590927124\n"
          ]
        },
        {
          "output_type": "stream",
          "name": "stderr",
          "text": [
            "100%|██████████| 6/6 [00:00<00:00, 191.77it/s]\n"
          ]
        },
        {
          "output_type": "stream",
          "name": "stdout",
          "text": [
            "Validation loss: 1.183665931224823\n",
            "Validation accuracy: 0.46159636974334717\n",
            "Epoch 325:\n"
          ]
        },
        {
          "output_type": "stream",
          "name": "stderr",
          "text": [
            "100%|██████████| 10/10 [00:00<00:00, 73.97it/s]\n"
          ]
        },
        {
          "output_type": "stream",
          "name": "stdout",
          "text": [
            "Training loss: 1.182848298549652\n"
          ]
        },
        {
          "output_type": "stream",
          "name": "stderr",
          "text": [
            "100%|██████████| 6/6 [00:00<00:00, 157.03it/s]\n"
          ]
        },
        {
          "output_type": "stream",
          "name": "stdout",
          "text": [
            "Validation loss: 1.1693262855211894\n",
            "Validation accuracy: 0.4894578158855438\n",
            "Epoch 326:\n"
          ]
        },
        {
          "output_type": "stream",
          "name": "stderr",
          "text": [
            "100%|██████████| 10/10 [00:00<00:00, 94.41it/s]\n"
          ]
        },
        {
          "output_type": "stream",
          "name": "stdout",
          "text": [
            "Training loss: 1.1897520065307616\n"
          ]
        },
        {
          "output_type": "stream",
          "name": "stderr",
          "text": [
            "100%|██████████| 6/6 [00:00<00:00, 161.93it/s]\n"
          ]
        },
        {
          "output_type": "stream",
          "name": "stdout",
          "text": [
            "Validation loss: 1.1853003303209941\n",
            "Validation accuracy: 0.4687499701976776\n",
            "Epoch 327:\n"
          ]
        },
        {
          "output_type": "stream",
          "name": "stderr",
          "text": [
            "100%|██████████| 10/10 [00:00<00:00, 79.99it/s]\n"
          ]
        },
        {
          "output_type": "stream",
          "name": "stdout",
          "text": [
            "Training loss: 1.1865035533905028\n"
          ]
        },
        {
          "output_type": "stream",
          "name": "stderr",
          "text": [
            "100%|██████████| 6/6 [00:00<00:00, 135.96it/s]\n"
          ]
        },
        {
          "output_type": "stream",
          "name": "stdout",
          "text": [
            "Validation loss: 1.1703376173973083\n",
            "Validation accuracy: 0.4717620313167572\n",
            "Epoch 328:\n"
          ]
        },
        {
          "output_type": "stream",
          "name": "stderr",
          "text": [
            "100%|██████████| 10/10 [00:00<00:00, 59.07it/s]\n"
          ]
        },
        {
          "output_type": "stream",
          "name": "stdout",
          "text": [
            "Training loss: 1.1839754819869994\n"
          ]
        },
        {
          "output_type": "stream",
          "name": "stderr",
          "text": [
            "100%|██████████| 6/6 [00:00<00:00, 126.39it/s]\n"
          ]
        },
        {
          "output_type": "stream",
          "name": "stdout",
          "text": [
            "Validation loss: 1.1863292455673218\n",
            "Validation accuracy: 0.4875752925872803\n",
            "Epoch 329:\n"
          ]
        },
        {
          "output_type": "stream",
          "name": "stderr",
          "text": [
            "100%|██████████| 10/10 [00:00<00:00, 63.66it/s]\n"
          ]
        },
        {
          "output_type": "stream",
          "name": "stdout",
          "text": [
            "Training loss: 1.1745267152786254\n"
          ]
        },
        {
          "output_type": "stream",
          "name": "stderr",
          "text": [
            "100%|██████████| 6/6 [00:00<00:00, 108.76it/s]\n"
          ]
        },
        {
          "output_type": "stream",
          "name": "stdout",
          "text": [
            "Validation loss: 1.1825797160466511\n",
            "Validation accuracy: 0.46686744689941406\n",
            "Epoch 330:\n"
          ]
        },
        {
          "output_type": "stream",
          "name": "stderr",
          "text": [
            "100%|██████████| 10/10 [00:00<00:00, 59.75it/s]\n"
          ]
        },
        {
          "output_type": "stream",
          "name": "stdout",
          "text": [
            "Training loss: 1.1808685183525085\n"
          ]
        },
        {
          "output_type": "stream",
          "name": "stderr",
          "text": [
            "100%|██████████| 6/6 [00:00<00:00, 132.15it/s]\n"
          ]
        },
        {
          "output_type": "stream",
          "name": "stdout",
          "text": [
            "Validation loss: 1.1833811402320862\n",
            "Validation accuracy: 0.4672439694404602\n",
            "Epoch 331:\n"
          ]
        },
        {
          "output_type": "stream",
          "name": "stderr",
          "text": [
            "100%|██████████| 10/10 [00:00<00:00, 61.76it/s]\n"
          ]
        },
        {
          "output_type": "stream",
          "name": "stdout",
          "text": [
            "Training loss: 1.1815608263015747\n"
          ]
        },
        {
          "output_type": "stream",
          "name": "stderr",
          "text": [
            "100%|██████████| 6/6 [00:00<00:00, 124.67it/s]\n"
          ]
        },
        {
          "output_type": "stream",
          "name": "stdout",
          "text": [
            "Validation loss: 1.2061036030451457\n",
            "Validation accuracy: 0.4627258777618408\n",
            "Epoch 332:\n"
          ]
        },
        {
          "output_type": "stream",
          "name": "stderr",
          "text": [
            "100%|██████████| 10/10 [00:00<00:00, 65.99it/s]\n"
          ]
        },
        {
          "output_type": "stream",
          "name": "stdout",
          "text": [
            "Training loss: 1.183556044101715\n"
          ]
        },
        {
          "output_type": "stream",
          "name": "stderr",
          "text": [
            "100%|██████████| 6/6 [00:00<00:00, 145.98it/s]\n"
          ]
        },
        {
          "output_type": "stream",
          "name": "stdout",
          "text": [
            "Validation loss: 1.189069350560506\n",
            "Validation accuracy: 0.46912649273872375\n",
            "Epoch 333:\n"
          ]
        },
        {
          "output_type": "stream",
          "name": "stderr",
          "text": [
            "100%|██████████| 10/10 [00:00<00:00, 57.62it/s]\n"
          ]
        },
        {
          "output_type": "stream",
          "name": "stdout",
          "text": [
            "Training loss: 1.1906983256340027\n"
          ]
        },
        {
          "output_type": "stream",
          "name": "stderr",
          "text": [
            "100%|██████████| 6/6 [00:00<00:00, 123.86it/s]\n"
          ]
        },
        {
          "output_type": "stream",
          "name": "stdout",
          "text": [
            "Validation loss: 1.1708776354789734\n",
            "Validation accuracy: 0.4717620313167572\n",
            "Epoch 334:\n"
          ]
        },
        {
          "output_type": "stream",
          "name": "stderr",
          "text": [
            "100%|██████████| 10/10 [00:00<00:00, 59.33it/s]\n"
          ]
        },
        {
          "output_type": "stream",
          "name": "stdout",
          "text": [
            "Training loss: 1.1840278267860413\n"
          ]
        },
        {
          "output_type": "stream",
          "name": "stderr",
          "text": [
            "100%|██████████| 6/6 [00:00<00:00, 159.66it/s]\n"
          ]
        },
        {
          "output_type": "stream",
          "name": "stdout",
          "text": [
            "Validation loss: 1.1907151937484741\n",
            "Validation accuracy: 0.4679969847202301\n",
            "Epoch 335:\n"
          ]
        },
        {
          "output_type": "stream",
          "name": "stderr",
          "text": [
            "100%|██████████| 10/10 [00:00<00:00, 74.88it/s]\n"
          ]
        },
        {
          "output_type": "stream",
          "name": "stdout",
          "text": [
            "Training loss: 1.1752652168273925\n"
          ]
        },
        {
          "output_type": "stream",
          "name": "stderr",
          "text": [
            "100%|██████████| 6/6 [00:00<00:00, 115.54it/s]\n"
          ]
        },
        {
          "output_type": "stream",
          "name": "stdout",
          "text": [
            "Validation loss: 1.1703956723213196\n",
            "Validation accuracy: 0.48343372344970703\n",
            "Epoch 336:\n"
          ]
        },
        {
          "output_type": "stream",
          "name": "stderr",
          "text": [
            "100%|██████████| 10/10 [00:00<00:00, 61.40it/s]\n"
          ]
        },
        {
          "output_type": "stream",
          "name": "stdout",
          "text": [
            "Training loss: 1.181722378730774\n"
          ]
        },
        {
          "output_type": "stream",
          "name": "stderr",
          "text": [
            "100%|██████████| 6/6 [00:00<00:00, 122.96it/s]\n"
          ]
        },
        {
          "output_type": "stream",
          "name": "stdout",
          "text": [
            "Validation loss: 1.1746471126874287\n",
            "Validation accuracy: 0.4830572009086609\n",
            "Epoch 337:\n"
          ]
        },
        {
          "output_type": "stream",
          "name": "stderr",
          "text": [
            "100%|██████████| 10/10 [00:00<00:00, 60.40it/s]\n"
          ]
        },
        {
          "output_type": "stream",
          "name": "stdout",
          "text": [
            "Training loss: 1.1800159096717835\n"
          ]
        },
        {
          "output_type": "stream",
          "name": "stderr",
          "text": [
            "100%|██████████| 6/6 [00:00<00:00, 138.37it/s]\n"
          ]
        },
        {
          "output_type": "stream",
          "name": "stdout",
          "text": [
            "Validation loss: 1.1868611971537273\n",
            "Validation accuracy: 0.48719877004623413\n",
            "Epoch 338:\n"
          ]
        },
        {
          "output_type": "stream",
          "name": "stderr",
          "text": [
            "100%|██████████| 10/10 [00:00<00:00, 56.96it/s]\n"
          ]
        },
        {
          "output_type": "stream",
          "name": "stdout",
          "text": [
            "Training loss: 1.1803903341293336\n"
          ]
        },
        {
          "output_type": "stream",
          "name": "stderr",
          "text": [
            "100%|██████████| 6/6 [00:00<00:00, 126.43it/s]\n"
          ]
        },
        {
          "output_type": "stream",
          "name": "stdout",
          "text": [
            "Validation loss: 1.1663756767908733\n",
            "Validation accuracy: 0.48042166233062744\n",
            "Epoch 339:\n"
          ]
        },
        {
          "output_type": "stream",
          "name": "stderr",
          "text": [
            "100%|██████████| 10/10 [00:00<00:00, 62.50it/s]\n"
          ]
        },
        {
          "output_type": "stream",
          "name": "stdout",
          "text": [
            "Training loss: 1.1836943984031678\n"
          ]
        },
        {
          "output_type": "stream",
          "name": "stderr",
          "text": [
            "100%|██████████| 6/6 [00:00<00:00, 122.47it/s]\n"
          ]
        },
        {
          "output_type": "stream",
          "name": "stdout",
          "text": [
            "Validation loss: 1.1958239475886028\n",
            "Validation accuracy: 0.4672439694404602\n",
            "Epoch 340:\n"
          ]
        },
        {
          "output_type": "stream",
          "name": "stderr",
          "text": [
            "100%|██████████| 10/10 [00:00<00:00, 54.76it/s]\n"
          ]
        },
        {
          "output_type": "stream",
          "name": "stdout",
          "text": [
            "Training loss: 1.1903322458267211\n"
          ]
        },
        {
          "output_type": "stream",
          "name": "stderr",
          "text": [
            "100%|██████████| 6/6 [00:00<00:00, 114.13it/s]\n"
          ]
        },
        {
          "output_type": "stream",
          "name": "stdout",
          "text": [
            "Validation loss: 1.1915942033131917\n",
            "Validation accuracy: 0.4785391390323639\n",
            "Epoch 341:\n"
          ]
        },
        {
          "output_type": "stream",
          "name": "stderr",
          "text": [
            "100%|██████████| 10/10 [00:00<00:00, 61.56it/s]\n"
          ]
        },
        {
          "output_type": "stream",
          "name": "stdout",
          "text": [
            "Training loss: 1.1803354501724244\n"
          ]
        },
        {
          "output_type": "stream",
          "name": "stderr",
          "text": [
            "100%|██████████| 6/6 [00:00<00:00, 110.02it/s]\n"
          ]
        },
        {
          "output_type": "stream",
          "name": "stdout",
          "text": [
            "Validation loss: 1.1850758989651997\n",
            "Validation accuracy: 0.4634788930416107\n",
            "Epoch 342:\n"
          ]
        },
        {
          "output_type": "stream",
          "name": "stderr",
          "text": [
            "100%|██████████| 10/10 [00:00<00:00, 54.19it/s]\n"
          ]
        },
        {
          "output_type": "stream",
          "name": "stdout",
          "text": [
            "Training loss: 1.181541872024536\n"
          ]
        },
        {
          "output_type": "stream",
          "name": "stderr",
          "text": [
            "100%|██████████| 6/6 [00:00<00:00, 159.52it/s]\n"
          ]
        },
        {
          "output_type": "stream",
          "name": "stdout",
          "text": [
            "Validation loss: 1.183827539285024\n",
            "Validation accuracy: 0.47364455461502075\n",
            "Epoch 343:\n"
          ]
        },
        {
          "output_type": "stream",
          "name": "stderr",
          "text": [
            "100%|██████████| 10/10 [00:00<00:00, 85.75it/s]\n"
          ]
        },
        {
          "output_type": "stream",
          "name": "stdout",
          "text": [
            "Training loss: 1.1865822911262511\n"
          ]
        },
        {
          "output_type": "stream",
          "name": "stderr",
          "text": [
            "100%|██████████| 6/6 [00:00<00:00, 149.65it/s]\n"
          ]
        },
        {
          "output_type": "stream",
          "name": "stdout",
          "text": [
            "Validation loss: 1.1650267044703166\n",
            "Validation accuracy: 0.4747740924358368\n",
            "Epoch 344:\n"
          ]
        },
        {
          "output_type": "stream",
          "name": "stderr",
          "text": [
            "100%|██████████| 10/10 [00:00<00:00, 77.88it/s]\n"
          ]
        },
        {
          "output_type": "stream",
          "name": "stdout",
          "text": [
            "Training loss: 1.196727454662323\n"
          ]
        },
        {
          "output_type": "stream",
          "name": "stderr",
          "text": [
            "100%|██████████| 6/6 [00:00<00:00, 160.31it/s]\n"
          ]
        },
        {
          "output_type": "stream",
          "name": "stdout",
          "text": [
            "Validation loss: 1.179825445016225\n",
            "Validation accuracy: 0.4807981848716736\n",
            "Epoch 345:\n"
          ]
        },
        {
          "output_type": "stream",
          "name": "stderr",
          "text": [
            "100%|██████████| 10/10 [00:00<00:00, 96.89it/s]\n"
          ]
        },
        {
          "output_type": "stream",
          "name": "stdout",
          "text": [
            "Training loss: 1.191818618774414\n"
          ]
        },
        {
          "output_type": "stream",
          "name": "stderr",
          "text": [
            "100%|██████████| 6/6 [00:00<00:00, 179.10it/s]\n"
          ]
        },
        {
          "output_type": "stream",
          "name": "stdout",
          "text": [
            "Validation loss: 1.1868146856625874\n",
            "Validation accuracy: 0.48117467761039734\n",
            "Epoch 346:\n"
          ]
        },
        {
          "output_type": "stream",
          "name": "stderr",
          "text": [
            "100%|██████████| 10/10 [00:00<00:00, 75.10it/s]\n"
          ]
        },
        {
          "output_type": "stream",
          "name": "stdout",
          "text": [
            "Training loss: 1.1852594017982483\n"
          ]
        },
        {
          "output_type": "stream",
          "name": "stderr",
          "text": [
            "100%|██████████| 6/6 [00:00<00:00, 125.77it/s]\n"
          ]
        },
        {
          "output_type": "stream",
          "name": "stdout",
          "text": [
            "Validation loss: 1.1879067420959473\n",
            "Validation accuracy: 0.4977409541606903\n",
            "Epoch 347:\n"
          ]
        },
        {
          "output_type": "stream",
          "name": "stderr",
          "text": [
            "100%|██████████| 10/10 [00:00<00:00, 95.80it/s]\n"
          ]
        },
        {
          "output_type": "stream",
          "name": "stdout",
          "text": [
            "Training loss: 1.1724793195724488\n"
          ]
        },
        {
          "output_type": "stream",
          "name": "stderr",
          "text": [
            "100%|██████████| 6/6 [00:00<00:00, 175.13it/s]\n"
          ]
        },
        {
          "output_type": "stream",
          "name": "stdout",
          "text": [
            "Validation loss: 1.165690263112386\n",
            "Validation accuracy: 0.48569273948669434\n",
            "Epoch 348:\n"
          ]
        },
        {
          "output_type": "stream",
          "name": "stderr",
          "text": [
            "100%|██████████| 10/10 [00:00<00:00, 71.35it/s]\n"
          ]
        },
        {
          "output_type": "stream",
          "name": "stdout",
          "text": [
            "Training loss: 1.1743283033370973\n"
          ]
        },
        {
          "output_type": "stream",
          "name": "stderr",
          "text": [
            "100%|██████████| 6/6 [00:00<00:00, 150.27it/s]\n"
          ]
        },
        {
          "output_type": "stream",
          "name": "stdout",
          "text": [
            "Validation loss: 1.1766461332639058\n",
            "Validation accuracy: 0.46159636974334717\n",
            "Epoch 349:\n"
          ]
        },
        {
          "output_type": "stream",
          "name": "stderr",
          "text": [
            "100%|██████████| 10/10 [00:00<00:00, 78.02it/s]\n"
          ]
        },
        {
          "output_type": "stream",
          "name": "stdout",
          "text": [
            "Training loss: 1.1687562704086303\n"
          ]
        },
        {
          "output_type": "stream",
          "name": "stderr",
          "text": [
            "100%|██████████| 6/6 [00:00<00:00, 156.94it/s]\n"
          ]
        },
        {
          "output_type": "stream",
          "name": "stdout",
          "text": [
            "Validation loss: 1.1709702809651692\n",
            "Validation accuracy: 0.4762800931930542\n",
            "Epoch 350:\n"
          ]
        },
        {
          "output_type": "stream",
          "name": "stderr",
          "text": [
            "100%|██████████| 10/10 [00:00<00:00, 80.62it/s]\n"
          ]
        },
        {
          "output_type": "stream",
          "name": "stdout",
          "text": [
            "Training loss: 1.1798593521118164\n"
          ]
        },
        {
          "output_type": "stream",
          "name": "stderr",
          "text": [
            "100%|██████████| 6/6 [00:00<00:00, 147.12it/s]\n"
          ]
        },
        {
          "output_type": "stream",
          "name": "stdout",
          "text": [
            "Validation loss: 1.1874977350234985\n",
            "Validation accuracy: 0.46912649273872375\n",
            "Epoch 351:\n"
          ]
        },
        {
          "output_type": "stream",
          "name": "stderr",
          "text": [
            "100%|██████████| 10/10 [00:00<00:00, 97.50it/s]\n"
          ]
        },
        {
          "output_type": "stream",
          "name": "stdout",
          "text": [
            "Training loss: 1.195735216140747\n"
          ]
        },
        {
          "output_type": "stream",
          "name": "stderr",
          "text": [
            "100%|██████████| 6/6 [00:00<00:00, 163.75it/s]\n"
          ]
        },
        {
          "output_type": "stream",
          "name": "stdout",
          "text": [
            "Validation loss: 1.1796095371246338\n",
            "Validation accuracy: 0.4807981848716736\n",
            "Epoch 352:\n"
          ]
        },
        {
          "output_type": "stream",
          "name": "stderr",
          "text": [
            "100%|██████████| 10/10 [00:00<00:00, 68.37it/s]\n"
          ]
        },
        {
          "output_type": "stream",
          "name": "stdout",
          "text": [
            "Training loss: 1.1829977989196778\n"
          ]
        },
        {
          "output_type": "stream",
          "name": "stderr",
          "text": [
            "100%|██████████| 6/6 [00:00<00:00, 159.04it/s]\n"
          ]
        },
        {
          "output_type": "stream",
          "name": "stdout",
          "text": [
            "Validation loss: 1.175992449124654\n",
            "Validation accuracy: 0.46912649273872375\n",
            "Epoch 353:\n"
          ]
        },
        {
          "output_type": "stream",
          "name": "stderr",
          "text": [
            "100%|██████████| 10/10 [00:00<00:00, 92.78it/s]\n"
          ]
        },
        {
          "output_type": "stream",
          "name": "stdout",
          "text": [
            "Training loss: 1.1877906680107118\n"
          ]
        },
        {
          "output_type": "stream",
          "name": "stderr",
          "text": [
            "100%|██████████| 6/6 [00:00<00:00, 118.63it/s]\n"
          ]
        },
        {
          "output_type": "stream",
          "name": "stdout",
          "text": [
            "Validation loss: 1.1727362076441448\n",
            "Validation accuracy: 0.4740210771560669\n",
            "Epoch 354:\n"
          ]
        },
        {
          "output_type": "stream",
          "name": "stderr",
          "text": [
            "100%|██████████| 10/10 [00:00<00:00, 75.54it/s]\n"
          ]
        },
        {
          "output_type": "stream",
          "name": "stdout",
          "text": [
            "Training loss: 1.1856157898902893\n"
          ]
        },
        {
          "output_type": "stream",
          "name": "stderr",
          "text": [
            "100%|██████████| 6/6 [00:00<00:00, 139.15it/s]\n"
          ]
        },
        {
          "output_type": "stream",
          "name": "stdout",
          "text": [
            "Validation loss: 1.192250947157542\n",
            "Validation accuracy: 0.45519575476646423\n",
            "Epoch 355:\n"
          ]
        },
        {
          "output_type": "stream",
          "name": "stderr",
          "text": [
            "100%|██████████| 10/10 [00:00<00:00, 92.68it/s]\n"
          ]
        },
        {
          "output_type": "stream",
          "name": "stdout",
          "text": [
            "Training loss: 1.173930287361145\n"
          ]
        },
        {
          "output_type": "stream",
          "name": "stderr",
          "text": [
            "100%|██████████| 6/6 [00:00<00:00, 156.99it/s]\n"
          ]
        },
        {
          "output_type": "stream",
          "name": "stdout",
          "text": [
            "Validation loss: 1.1851311524709065\n",
            "Validation accuracy: 0.4725150465965271\n",
            "Epoch 356:\n"
          ]
        },
        {
          "output_type": "stream",
          "name": "stderr",
          "text": [
            "100%|██████████| 10/10 [00:00<00:00, 79.19it/s]\n"
          ]
        },
        {
          "output_type": "stream",
          "name": "stdout",
          "text": [
            "Training loss: 1.1828797459602356\n"
          ]
        },
        {
          "output_type": "stream",
          "name": "stderr",
          "text": [
            "100%|██████████| 6/6 [00:00<00:00, 132.35it/s]\n"
          ]
        },
        {
          "output_type": "stream",
          "name": "stdout",
          "text": [
            "Validation loss: 1.1698482831319172\n",
            "Validation accuracy: 0.4815512001514435\n",
            "Epoch 357:\n"
          ]
        },
        {
          "output_type": "stream",
          "name": "stderr",
          "text": [
            "100%|██████████| 10/10 [00:00<00:00, 85.00it/s]\n"
          ]
        },
        {
          "output_type": "stream",
          "name": "stdout",
          "text": [
            "Training loss: 1.1917811036109924\n"
          ]
        },
        {
          "output_type": "stream",
          "name": "stderr",
          "text": [
            "100%|██████████| 6/6 [00:00<00:00, 150.86it/s]\n"
          ]
        },
        {
          "output_type": "stream",
          "name": "stdout",
          "text": [
            "Validation loss: 1.1717954277992249\n",
            "Validation accuracy: 0.4939758777618408\n",
            "Epoch 358:\n"
          ]
        },
        {
          "output_type": "stream",
          "name": "stderr",
          "text": [
            "100%|██████████| 10/10 [00:00<00:00, 84.00it/s]\n"
          ]
        },
        {
          "output_type": "stream",
          "name": "stdout",
          "text": [
            "Training loss: 1.182947075366974\n"
          ]
        },
        {
          "output_type": "stream",
          "name": "stderr",
          "text": [
            "100%|██████████| 6/6 [00:00<00:00, 157.29it/s]\n"
          ]
        },
        {
          "output_type": "stream",
          "name": "stdout",
          "text": [
            "Validation loss: 1.1794422666231792\n",
            "Validation accuracy: 0.482304185628891\n",
            "Epoch 359:\n"
          ]
        },
        {
          "output_type": "stream",
          "name": "stderr",
          "text": [
            "100%|██████████| 10/10 [00:00<00:00, 73.32it/s]\n"
          ]
        },
        {
          "output_type": "stream",
          "name": "stdout",
          "text": [
            "Training loss: 1.1758591890335084\n"
          ]
        },
        {
          "output_type": "stream",
          "name": "stderr",
          "text": [
            "100%|██████████| 6/6 [00:00<00:00, 151.12it/s]\n"
          ]
        },
        {
          "output_type": "stream",
          "name": "stdout",
          "text": [
            "Validation loss: 1.1760997573534648\n",
            "Validation accuracy: 0.4860692620277405\n",
            "Epoch 360:\n"
          ]
        },
        {
          "output_type": "stream",
          "name": "stderr",
          "text": [
            "100%|██████████| 10/10 [00:00<00:00, 85.29it/s]\n"
          ]
        },
        {
          "output_type": "stream",
          "name": "stdout",
          "text": [
            "Training loss: 1.183892297744751\n"
          ]
        },
        {
          "output_type": "stream",
          "name": "stderr",
          "text": [
            "100%|██████████| 6/6 [00:00<00:00, 154.17it/s]\n"
          ]
        },
        {
          "output_type": "stream",
          "name": "stdout",
          "text": [
            "Validation loss: 1.187066654364268\n",
            "Validation accuracy: 0.4725150465965271\n",
            "Epoch 361:\n"
          ]
        },
        {
          "output_type": "stream",
          "name": "stderr",
          "text": [
            "100%|██████████| 10/10 [00:00<00:00, 90.27it/s]\n"
          ]
        },
        {
          "output_type": "stream",
          "name": "stdout",
          "text": [
            "Training loss: 1.1952746391296387\n"
          ]
        },
        {
          "output_type": "stream",
          "name": "stderr",
          "text": [
            "100%|██████████| 6/6 [00:00<00:00, 144.10it/s]\n"
          ]
        },
        {
          "output_type": "stream",
          "name": "stdout",
          "text": [
            "Validation loss: 1.172564427057902\n",
            "Validation accuracy: 0.4909638464450836\n",
            "Epoch 362:\n"
          ]
        },
        {
          "output_type": "stream",
          "name": "stderr",
          "text": [
            "100%|██████████| 10/10 [00:00<00:00, 81.07it/s]\n"
          ]
        },
        {
          "output_type": "stream",
          "name": "stdout",
          "text": [
            "Training loss: 1.1859091639518737\n"
          ]
        },
        {
          "output_type": "stream",
          "name": "stderr",
          "text": [
            "100%|██████████| 6/6 [00:00<00:00, 153.01it/s]\n"
          ]
        },
        {
          "output_type": "stream",
          "name": "stdout",
          "text": [
            "Validation loss: 1.1797805825869243\n",
            "Validation accuracy: 0.48832830786705017\n",
            "Epoch 363:\n"
          ]
        },
        {
          "output_type": "stream",
          "name": "stderr",
          "text": [
            "100%|██████████| 10/10 [00:00<00:00, 92.09it/s]\n"
          ]
        },
        {
          "output_type": "stream",
          "name": "stdout",
          "text": [
            "Training loss: 1.185978102684021\n"
          ]
        },
        {
          "output_type": "stream",
          "name": "stderr",
          "text": [
            "100%|██████████| 6/6 [00:00<00:00, 160.51it/s]\n"
          ]
        },
        {
          "output_type": "stream",
          "name": "stdout",
          "text": [
            "Validation loss: 1.1845763325691223\n",
            "Validation accuracy: 0.4792921543121338\n",
            "Epoch 364:\n"
          ]
        },
        {
          "output_type": "stream",
          "name": "stderr",
          "text": [
            "100%|██████████| 10/10 [00:00<00:00, 70.53it/s]\n"
          ]
        },
        {
          "output_type": "stream",
          "name": "stdout",
          "text": [
            "Training loss: 1.186016047000885\n"
          ]
        },
        {
          "output_type": "stream",
          "name": "stderr",
          "text": [
            "100%|██████████| 6/6 [00:00<00:00, 152.06it/s]\n"
          ]
        },
        {
          "output_type": "stream",
          "name": "stdout",
          "text": [
            "Validation loss: 1.19241068760554\n",
            "Validation accuracy: 0.47816264629364014\n",
            "Epoch 365:\n"
          ]
        },
        {
          "output_type": "stream",
          "name": "stderr",
          "text": [
            "100%|██████████| 10/10 [00:00<00:00, 79.66it/s]\n"
          ]
        },
        {
          "output_type": "stream",
          "name": "stdout",
          "text": [
            "Training loss: 1.19466632604599\n"
          ]
        },
        {
          "output_type": "stream",
          "name": "stderr",
          "text": [
            "100%|██████████| 6/6 [00:00<00:00, 149.00it/s]\n"
          ]
        },
        {
          "output_type": "stream",
          "name": "stdout",
          "text": [
            "Validation loss: 1.174033562342326\n",
            "Validation accuracy: 0.47364455461502075\n",
            "Epoch 366:\n"
          ]
        },
        {
          "output_type": "stream",
          "name": "stderr",
          "text": [
            "100%|██████████| 10/10 [00:00<00:00, 91.20it/s]\n"
          ]
        },
        {
          "output_type": "stream",
          "name": "stdout",
          "text": [
            "Training loss: 1.1723050475120544\n"
          ]
        },
        {
          "output_type": "stream",
          "name": "stderr",
          "text": [
            "100%|██████████| 6/6 [00:00<00:00, 128.39it/s]\n"
          ]
        },
        {
          "output_type": "stream",
          "name": "stdout",
          "text": [
            "Validation loss: 1.1823749939600627\n",
            "Validation accuracy: 0.4664909541606903\n",
            "Epoch 367:\n"
          ]
        },
        {
          "output_type": "stream",
          "name": "stderr",
          "text": [
            "100%|██████████| 10/10 [00:00<00:00, 77.48it/s]\n"
          ]
        },
        {
          "output_type": "stream",
          "name": "stdout",
          "text": [
            "Training loss: 1.1833874821662902\n"
          ]
        },
        {
          "output_type": "stream",
          "name": "stderr",
          "text": [
            "100%|██████████| 6/6 [00:00<00:00, 154.25it/s]\n"
          ]
        },
        {
          "output_type": "stream",
          "name": "stdout",
          "text": [
            "Validation loss: 1.1758941411972046\n",
            "Validation accuracy: 0.473268061876297\n",
            "Epoch 368:\n"
          ]
        },
        {
          "output_type": "stream",
          "name": "stderr",
          "text": [
            "100%|██████████| 10/10 [00:00<00:00, 80.27it/s]\n"
          ]
        },
        {
          "output_type": "stream",
          "name": "stdout",
          "text": [
            "Training loss: 1.1797619342803956\n"
          ]
        },
        {
          "output_type": "stream",
          "name": "stderr",
          "text": [
            "100%|██████████| 6/6 [00:00<00:00, 143.31it/s]\n"
          ]
        },
        {
          "output_type": "stream",
          "name": "stdout",
          "text": [
            "Validation loss: 1.1695966521898906\n",
            "Validation accuracy: 0.4853162467479706\n",
            "Epoch 369:\n"
          ]
        },
        {
          "output_type": "stream",
          "name": "stderr",
          "text": [
            "100%|██████████| 10/10 [00:00<00:00, 68.45it/s]\n"
          ]
        },
        {
          "output_type": "stream",
          "name": "stdout",
          "text": [
            "Training loss: 1.1834784150123596\n"
          ]
        },
        {
          "output_type": "stream",
          "name": "stderr",
          "text": [
            "100%|██████████| 6/6 [00:00<00:00, 134.72it/s]\n"
          ]
        },
        {
          "output_type": "stream",
          "name": "stdout",
          "text": [
            "Validation loss: 1.1677924195925395\n",
            "Validation accuracy: 0.48418673872947693\n",
            "Epoch 370:\n"
          ]
        },
        {
          "output_type": "stream",
          "name": "stderr",
          "text": [
            "100%|██████████| 10/10 [00:00<00:00, 72.32it/s]\n"
          ]
        },
        {
          "output_type": "stream",
          "name": "stdout",
          "text": [
            "Training loss: 1.1926621317863464\n"
          ]
        },
        {
          "output_type": "stream",
          "name": "stderr",
          "text": [
            "100%|██████████| 6/6 [00:00<00:00, 138.51it/s]\n"
          ]
        },
        {
          "output_type": "stream",
          "name": "stdout",
          "text": [
            "Validation loss: 1.1838429967562358\n",
            "Validation accuracy: 0.4710090160369873\n",
            "Epoch 371:\n"
          ]
        },
        {
          "output_type": "stream",
          "name": "stderr",
          "text": [
            "100%|██████████| 10/10 [00:00<00:00, 72.16it/s]\n"
          ]
        },
        {
          "output_type": "stream",
          "name": "stdout",
          "text": [
            "Training loss: 1.1781396508216857\n"
          ]
        },
        {
          "output_type": "stream",
          "name": "stderr",
          "text": [
            "100%|██████████| 6/6 [00:00<00:00, 152.78it/s]\n"
          ]
        },
        {
          "output_type": "stream",
          "name": "stdout",
          "text": [
            "Validation loss: 1.1834334929784138\n",
            "Validation accuracy: 0.4762800931930542\n",
            "Epoch 372:\n"
          ]
        },
        {
          "output_type": "stream",
          "name": "stderr",
          "text": [
            "100%|██████████| 10/10 [00:00<00:00, 84.76it/s]\n"
          ]
        },
        {
          "output_type": "stream",
          "name": "stdout",
          "text": [
            "Training loss: 1.1841799378395081\n"
          ]
        },
        {
          "output_type": "stream",
          "name": "stderr",
          "text": [
            "100%|██████████| 6/6 [00:00<00:00, 147.37it/s]\n"
          ]
        },
        {
          "output_type": "stream",
          "name": "stdout",
          "text": [
            "Validation loss: 1.185393234093984\n",
            "Validation accuracy: 0.4740210771560669\n",
            "Epoch 373:\n"
          ]
        },
        {
          "output_type": "stream",
          "name": "stderr",
          "text": [
            "100%|██████████| 10/10 [00:00<00:00, 82.09it/s]\n"
          ]
        },
        {
          "output_type": "stream",
          "name": "stdout",
          "text": [
            "Training loss: 1.1837186813354492\n"
          ]
        },
        {
          "output_type": "stream",
          "name": "stderr",
          "text": [
            "100%|██████████| 6/6 [00:00<00:00, 142.83it/s]\n"
          ]
        },
        {
          "output_type": "stream",
          "name": "stdout",
          "text": [
            "Validation loss: 1.183499038219452\n",
            "Validation accuracy: 0.4710090160369873\n",
            "Epoch 374:\n"
          ]
        },
        {
          "output_type": "stream",
          "name": "stderr",
          "text": [
            "100%|██████████| 10/10 [00:00<00:00, 23.46it/s]\n"
          ]
        },
        {
          "output_type": "stream",
          "name": "stdout",
          "text": [
            "Training loss: 1.1801440834999084\n"
          ]
        },
        {
          "output_type": "stream",
          "name": "stderr",
          "text": [
            "100%|██████████| 6/6 [00:00<00:00, 125.02it/s]\n"
          ]
        },
        {
          "output_type": "stream",
          "name": "stdout",
          "text": [
            "Validation loss: 1.1695795853932698\n",
            "Validation accuracy: 0.47364455461502075\n",
            "Epoch 375:\n"
          ]
        },
        {
          "output_type": "stream",
          "name": "stderr",
          "text": [
            "100%|██████████| 10/10 [00:00<00:00, 77.82it/s]\n"
          ]
        },
        {
          "output_type": "stream",
          "name": "stdout",
          "text": [
            "Training loss: 1.1936428904533387\n"
          ]
        },
        {
          "output_type": "stream",
          "name": "stderr",
          "text": [
            "100%|██████████| 6/6 [00:00<00:00, 145.89it/s]\n"
          ]
        },
        {
          "output_type": "stream",
          "name": "stdout",
          "text": [
            "Validation loss: 1.1781643827756245\n",
            "Validation accuracy: 0.46912649273872375\n",
            "Epoch 376:\n"
          ]
        },
        {
          "output_type": "stream",
          "name": "stderr",
          "text": [
            "100%|██████████| 10/10 [00:00<00:00, 85.49it/s]\n"
          ]
        },
        {
          "output_type": "stream",
          "name": "stdout",
          "text": [
            "Training loss: 1.1915774464607238\n"
          ]
        },
        {
          "output_type": "stream",
          "name": "stderr",
          "text": [
            "100%|██████████| 6/6 [00:00<00:00, 151.20it/s]\n"
          ]
        },
        {
          "output_type": "stream",
          "name": "stdout",
          "text": [
            "Validation loss: 1.1750999689102173\n",
            "Validation accuracy: 0.45707830786705017\n",
            "Epoch 377:\n"
          ]
        },
        {
          "output_type": "stream",
          "name": "stderr",
          "text": [
            "100%|██████████| 10/10 [00:00<00:00, 71.57it/s]\n"
          ]
        },
        {
          "output_type": "stream",
          "name": "stdout",
          "text": [
            "Training loss: 1.1917190313339234\n"
          ]
        },
        {
          "output_type": "stream",
          "name": "stderr",
          "text": [
            "100%|██████████| 6/6 [00:00<00:00, 150.94it/s]\n"
          ]
        },
        {
          "output_type": "stream",
          "name": "stdout",
          "text": [
            "Validation loss: 1.167822579542796\n",
            "Validation accuracy: 0.4830572009086609\n",
            "Epoch 378:\n"
          ]
        },
        {
          "output_type": "stream",
          "name": "stderr",
          "text": [
            "100%|██████████| 10/10 [00:00<00:00, 83.57it/s]\n"
          ]
        },
        {
          "output_type": "stream",
          "name": "stdout",
          "text": [
            "Training loss: 1.1850582838058472\n"
          ]
        },
        {
          "output_type": "stream",
          "name": "stderr",
          "text": [
            "100%|██████████| 6/6 [00:00<00:00, 156.76it/s]\n"
          ]
        },
        {
          "output_type": "stream",
          "name": "stdout",
          "text": [
            "Validation loss: 1.174396236737569\n",
            "Validation accuracy: 0.4845632314682007\n",
            "Epoch 379:\n"
          ]
        },
        {
          "output_type": "stream",
          "name": "stderr",
          "text": [
            "100%|██████████| 10/10 [00:00<00:00, 81.81it/s]\n"
          ]
        },
        {
          "output_type": "stream",
          "name": "stdout",
          "text": [
            "Training loss: 1.1811769366264344\n"
          ]
        },
        {
          "output_type": "stream",
          "name": "stderr",
          "text": [
            "100%|██████████| 6/6 [00:00<00:00, 126.13it/s]\n"
          ]
        },
        {
          "output_type": "stream",
          "name": "stdout",
          "text": [
            "Validation loss: 1.1889561017354329\n",
            "Validation accuracy: 0.4612198770046234\n",
            "Epoch 380:\n"
          ]
        },
        {
          "output_type": "stream",
          "name": "stderr",
          "text": [
            "100%|██████████| 10/10 [00:00<00:00, 73.55it/s]\n"
          ]
        },
        {
          "output_type": "stream",
          "name": "stdout",
          "text": [
            "Training loss: 1.1785845041275025\n"
          ]
        },
        {
          "output_type": "stream",
          "name": "stderr",
          "text": [
            "100%|██████████| 6/6 [00:00<00:00, 141.40it/s]\n"
          ]
        },
        {
          "output_type": "stream",
          "name": "stdout",
          "text": [
            "Validation loss: 1.1797266801198323\n",
            "Validation accuracy: 0.46159636974334717\n",
            "Epoch 381:\n"
          ]
        },
        {
          "output_type": "stream",
          "name": "stderr",
          "text": [
            "100%|██████████| 10/10 [00:00<00:00, 79.25it/s]\n"
          ]
        },
        {
          "output_type": "stream",
          "name": "stdout",
          "text": [
            "Training loss: 1.1760777711868287\n"
          ]
        },
        {
          "output_type": "stream",
          "name": "stderr",
          "text": [
            "100%|██████████| 6/6 [00:00<00:00, 154.37it/s]\n"
          ]
        },
        {
          "output_type": "stream",
          "name": "stdout",
          "text": [
            "Validation loss: 1.1819334427515666\n",
            "Validation accuracy: 0.48343372344970703\n",
            "Epoch 382:\n"
          ]
        },
        {
          "output_type": "stream",
          "name": "stderr",
          "text": [
            "100%|██████████| 10/10 [00:00<00:00, 78.22it/s]\n"
          ]
        },
        {
          "output_type": "stream",
          "name": "stdout",
          "text": [
            "Training loss: 1.1718453884124755\n"
          ]
        },
        {
          "output_type": "stream",
          "name": "stderr",
          "text": [
            "100%|██████████| 6/6 [00:00<00:00, 147.20it/s]\n"
          ]
        },
        {
          "output_type": "stream",
          "name": "stdout",
          "text": [
            "Validation loss: 1.1806165377298992\n",
            "Validation accuracy: 0.4740210771560669\n",
            "Epoch 383:\n"
          ]
        },
        {
          "output_type": "stream",
          "name": "stderr",
          "text": [
            "100%|██████████| 10/10 [00:00<00:00, 86.08it/s]\n"
          ]
        },
        {
          "output_type": "stream",
          "name": "stdout",
          "text": [
            "Training loss: 1.1861579775810243\n"
          ]
        },
        {
          "output_type": "stream",
          "name": "stderr",
          "text": [
            "100%|██████████| 6/6 [00:00<00:00, 153.34it/s]\n"
          ]
        },
        {
          "output_type": "stream",
          "name": "stdout",
          "text": [
            "Validation loss: 1.18678480386734\n",
            "Validation accuracy: 0.4589608311653137\n",
            "Epoch 384:\n"
          ]
        },
        {
          "output_type": "stream",
          "name": "stderr",
          "text": [
            "100%|██████████| 10/10 [00:00<00:00, 79.04it/s]\n"
          ]
        },
        {
          "output_type": "stream",
          "name": "stdout",
          "text": [
            "Training loss: 1.1824788331985474\n"
          ]
        },
        {
          "output_type": "stream",
          "name": "stderr",
          "text": [
            "100%|██████████| 6/6 [00:00<00:00, 144.55it/s]\n"
          ]
        },
        {
          "output_type": "stream",
          "name": "stdout",
          "text": [
            "Validation loss: 1.1791497071584065\n",
            "Validation accuracy: 0.47966864705085754\n",
            "Epoch 385:\n"
          ]
        },
        {
          "output_type": "stream",
          "name": "stderr",
          "text": [
            "100%|██████████| 10/10 [00:00<00:00, 78.89it/s]\n"
          ]
        },
        {
          "output_type": "stream",
          "name": "stdout",
          "text": [
            "Training loss: 1.1734381914138794\n"
          ]
        },
        {
          "output_type": "stream",
          "name": "stderr",
          "text": [
            "100%|██████████| 6/6 [00:00<00:00, 156.68it/s]\n"
          ]
        },
        {
          "output_type": "stream",
          "name": "stdout",
          "text": [
            "Validation loss: 1.17302010456721\n",
            "Validation accuracy: 0.4853162467479706\n",
            "Epoch 386:\n"
          ]
        },
        {
          "output_type": "stream",
          "name": "stderr",
          "text": [
            "100%|██████████| 10/10 [00:00<00:00, 77.24it/s]\n"
          ]
        },
        {
          "output_type": "stream",
          "name": "stdout",
          "text": [
            "Training loss: 1.178336989879608\n"
          ]
        },
        {
          "output_type": "stream",
          "name": "stderr",
          "text": [
            "100%|██████████| 6/6 [00:00<00:00, 143.39it/s]\n"
          ]
        },
        {
          "output_type": "stream",
          "name": "stdout",
          "text": [
            "Validation loss: 1.1679732004801433\n",
            "Validation accuracy: 0.47063252329826355\n",
            "Epoch 387:\n"
          ]
        },
        {
          "output_type": "stream",
          "name": "stderr",
          "text": [
            "100%|██████████| 10/10 [00:00<00:00, 82.33it/s]\n"
          ]
        },
        {
          "output_type": "stream",
          "name": "stdout",
          "text": [
            "Training loss: 1.1799903154373168\n"
          ]
        },
        {
          "output_type": "stream",
          "name": "stderr",
          "text": [
            "100%|██████████| 6/6 [00:00<00:00, 160.14it/s]\n"
          ]
        },
        {
          "output_type": "stream",
          "name": "stdout",
          "text": [
            "Validation loss: 1.1889637311299641\n",
            "Validation accuracy: 0.47213852405548096\n",
            "Epoch 388:\n"
          ]
        },
        {
          "output_type": "stream",
          "name": "stderr",
          "text": [
            "100%|██████████| 10/10 [00:00<00:00, 85.60it/s]\n"
          ]
        },
        {
          "output_type": "stream",
          "name": "stdout",
          "text": [
            "Training loss: 1.1762536764144897\n"
          ]
        },
        {
          "output_type": "stream",
          "name": "stderr",
          "text": [
            "100%|██████████| 6/6 [00:00<00:00, 159.14it/s]\n"
          ]
        },
        {
          "output_type": "stream",
          "name": "stdout",
          "text": [
            "Validation loss: 1.1785940527915955\n",
            "Validation accuracy: 0.4710090160369873\n",
            "Epoch 389:\n"
          ]
        },
        {
          "output_type": "stream",
          "name": "stderr",
          "text": [
            " 10%|█         | 1/10 [00:00<00:00, 50.40it/s]\n"
          ]
        },
        {
          "output_type": "error",
          "ename": "KeyboardInterrupt",
          "evalue": "",
          "traceback": [
            "\u001b[0;31m---------------------------------------------------------------------------\u001b[0m",
            "\u001b[0;31mKeyboardInterrupt\u001b[0m                         Traceback (most recent call last)",
            "\u001b[0;32m<ipython-input-7-497e2dce4fcf>\u001b[0m in \u001b[0;36m<cell line: 16>\u001b[0;34m()\u001b[0m\n\u001b[1;32m     61\u001b[0m     \u001b[0mdtrain\u001b[0m \u001b[0;34m=\u001b[0m \u001b[0mpandas2torch\u001b[0m\u001b[0;34m(\u001b[0m\u001b[0mX_train\u001b[0m\u001b[0;34m,\u001b[0m \u001b[0my_train\u001b[0m\u001b[0;34m)\u001b[0m\u001b[0;34m\u001b[0m\u001b[0;34m\u001b[0m\u001b[0m\n\u001b[1;32m     62\u001b[0m     \u001b[0mdval\u001b[0m \u001b[0;34m=\u001b[0m \u001b[0mpandas2torch\u001b[0m\u001b[0;34m(\u001b[0m\u001b[0mX_val\u001b[0m\u001b[0;34m,\u001b[0m \u001b[0my_val\u001b[0m\u001b[0;34m)\u001b[0m\u001b[0;34m\u001b[0m\u001b[0;34m\u001b[0m\u001b[0m\n\u001b[0;32m---> 63\u001b[0;31m     \u001b[0mnn_metrics\u001b[0m \u001b[0;34m=\u001b[0m \u001b[0mneural_net\u001b[0m\u001b[0;34m.\u001b[0m\u001b[0mtrain\u001b[0m\u001b[0;34m(\u001b[0m\u001b[0mX_train\u001b[0m\u001b[0;34m,\u001b[0m \u001b[0my_train\u001b[0m\u001b[0;34m,\u001b[0m \u001b[0mX_val\u001b[0m\u001b[0;34m,\u001b[0m \u001b[0my_val\u001b[0m\u001b[0;34m,\u001b[0m \u001b[0mreturn_history\u001b[0m\u001b[0;34m=\u001b[0m\u001b[0;32mTrue\u001b[0m\u001b[0;34m)\u001b[0m\u001b[0;34m\u001b[0m\u001b[0;34m\u001b[0m\u001b[0m\n\u001b[0m\u001b[1;32m     64\u001b[0m     \u001b[0mprint\u001b[0m\u001b[0;34m(\u001b[0m\u001b[0;34m\"MLP log loss:\"\u001b[0m\u001b[0;34m,\u001b[0m \u001b[0mnn_metrics\u001b[0m\u001b[0;34m[\u001b[0m\u001b[0;34m\"logloss\"\u001b[0m\u001b[0;34m]\u001b[0m\u001b[0;34m)\u001b[0m\u001b[0;34m\u001b[0m\u001b[0;34m\u001b[0m\u001b[0m\n\u001b[1;32m     65\u001b[0m     \u001b[0mprint\u001b[0m\u001b[0;34m(\u001b[0m\u001b[0;34m\"MLP accuracy:\"\u001b[0m\u001b[0;34m,\u001b[0m \u001b[0mnn_metrics\u001b[0m\u001b[0;34m[\u001b[0m\u001b[0;34m\"accuracy\"\u001b[0m\u001b[0;34m]\u001b[0m\u001b[0;34m)\u001b[0m\u001b[0;34m\u001b[0m\u001b[0;34m\u001b[0m\u001b[0m\n",
            "\u001b[0;32m<ipython-input-6-64949f0b19cd>\u001b[0m in \u001b[0;36mtrain\u001b[0;34m(self, X_train, y_train, X_val, y_val, return_history)\u001b[0m\n\u001b[1;32m    262\u001b[0m             \u001b[0mself\u001b[0m\u001b[0;34m.\u001b[0m\u001b[0mnet\u001b[0m\u001b[0;34m.\u001b[0m\u001b[0mtrain\u001b[0m\u001b[0;34m(\u001b[0m\u001b[0;32mTrue\u001b[0m\u001b[0;34m)\u001b[0m\u001b[0;34m\u001b[0m\u001b[0;34m\u001b[0m\u001b[0m\n\u001b[1;32m    263\u001b[0m             \u001b[0;31m# scheduler.step()\u001b[0m\u001b[0;34m\u001b[0m\u001b[0;34m\u001b[0m\u001b[0m\n\u001b[0;32m--> 264\u001b[0;31m             \u001b[0mtrain_loss\u001b[0m \u001b[0;34m=\u001b[0m \u001b[0mself\u001b[0m\u001b[0;34m.\u001b[0m\u001b[0mtrain_one_epoch\u001b[0m\u001b[0;34m(\u001b[0m\u001b[0mtrain_loader\u001b[0m\u001b[0;34m,\u001b[0m \u001b[0moptim\u001b[0m\u001b[0;34m,\u001b[0m \u001b[0mloss_fn\u001b[0m\u001b[0;34m)\u001b[0m\u001b[0;34m\u001b[0m\u001b[0;34m\u001b[0m\u001b[0m\n\u001b[0m\u001b[1;32m    265\u001b[0m             \u001b[0mtrain_history\u001b[0m\u001b[0;34m.\u001b[0m\u001b[0mappend\u001b[0m\u001b[0;34m(\u001b[0m\u001b[0mtrain_loss\u001b[0m\u001b[0;34m)\u001b[0m\u001b[0;34m\u001b[0m\u001b[0;34m\u001b[0m\u001b[0m\n\u001b[1;32m    266\u001b[0m             \u001b[0mwriter\u001b[0m\u001b[0;34m.\u001b[0m\u001b[0madd_scalar\u001b[0m\u001b[0;34m(\u001b[0m\u001b[0;34m\"logloss_train\"\u001b[0m\u001b[0;34m,\u001b[0m \u001b[0mtrain_loss\u001b[0m\u001b[0;34m,\u001b[0m \u001b[0mepoch\u001b[0m\u001b[0;34m)\u001b[0m\u001b[0;34m\u001b[0m\u001b[0;34m\u001b[0m\u001b[0m\n",
            "\u001b[0;32m<ipython-input-6-64949f0b19cd>\u001b[0m in \u001b[0;36mtrain_one_epoch\u001b[0;34m(self, train_loader, optim, loss_fn)\u001b[0m\n\u001b[1;32m    211\u001b[0m         \u001b[0mloss_sum\u001b[0m \u001b[0;34m=\u001b[0m \u001b[0;36m0\u001b[0m\u001b[0;34m\u001b[0m\u001b[0;34m\u001b[0m\u001b[0m\n\u001b[1;32m    212\u001b[0m \u001b[0;34m\u001b[0m\u001b[0m\n\u001b[0;32m--> 213\u001b[0;31m         \u001b[0;32mfor\u001b[0m \u001b[0mi\u001b[0m\u001b[0;34m,\u001b[0m \u001b[0mdata\u001b[0m \u001b[0;32min\u001b[0m \u001b[0mtqdm\u001b[0m\u001b[0;34m(\u001b[0m\u001b[0menumerate\u001b[0m\u001b[0;34m(\u001b[0m\u001b[0mtrain_loader\u001b[0m\u001b[0;34m)\u001b[0m\u001b[0;34m,\u001b[0m \u001b[0mtotal\u001b[0m\u001b[0;34m=\u001b[0m\u001b[0mlen\u001b[0m\u001b[0;34m(\u001b[0m\u001b[0mtrain_loader\u001b[0m\u001b[0;34m)\u001b[0m\u001b[0;34m)\u001b[0m\u001b[0;34m:\u001b[0m\u001b[0;34m\u001b[0m\u001b[0;34m\u001b[0m\u001b[0m\n\u001b[0m\u001b[1;32m    214\u001b[0m             \u001b[0;31m# Data\u001b[0m\u001b[0;34m\u001b[0m\u001b[0;34m\u001b[0m\u001b[0m\n\u001b[1;32m    215\u001b[0m             \u001b[0mx\u001b[0m\u001b[0;34m,\u001b[0m \u001b[0my\u001b[0m \u001b[0;34m=\u001b[0m \u001b[0mdata\u001b[0m\u001b[0;34m\u001b[0m\u001b[0;34m\u001b[0m\u001b[0m\n",
            "\u001b[0;32m/usr/local/lib/python3.10/dist-packages/tqdm/std.py\u001b[0m in \u001b[0;36m__iter__\u001b[0;34m(self)\u001b[0m\n\u001b[1;32m   1179\u001b[0m \u001b[0;34m\u001b[0m\u001b[0m\n\u001b[1;32m   1180\u001b[0m         \u001b[0;32mtry\u001b[0m\u001b[0;34m:\u001b[0m\u001b[0;34m\u001b[0m\u001b[0;34m\u001b[0m\u001b[0m\n\u001b[0;32m-> 1181\u001b[0;31m             \u001b[0;32mfor\u001b[0m \u001b[0mobj\u001b[0m \u001b[0;32min\u001b[0m \u001b[0miterable\u001b[0m\u001b[0;34m:\u001b[0m\u001b[0;34m\u001b[0m\u001b[0;34m\u001b[0m\u001b[0m\n\u001b[0m\u001b[1;32m   1182\u001b[0m                 \u001b[0;32myield\u001b[0m \u001b[0mobj\u001b[0m\u001b[0;34m\u001b[0m\u001b[0;34m\u001b[0m\u001b[0m\n\u001b[1;32m   1183\u001b[0m                 \u001b[0;31m# Update and possibly print the progressbar.\u001b[0m\u001b[0;34m\u001b[0m\u001b[0;34m\u001b[0m\u001b[0m\n",
            "\u001b[0;32m/usr/local/lib/python3.10/dist-packages/torch/utils/data/dataloader.py\u001b[0m in \u001b[0;36m__next__\u001b[0;34m(self)\u001b[0m\n\u001b[1;32m    629\u001b[0m                 \u001b[0;31m# TODO(https://github.com/pytorch/pytorch/issues/76750)\u001b[0m\u001b[0;34m\u001b[0m\u001b[0;34m\u001b[0m\u001b[0m\n\u001b[1;32m    630\u001b[0m                 \u001b[0mself\u001b[0m\u001b[0;34m.\u001b[0m\u001b[0m_reset\u001b[0m\u001b[0;34m(\u001b[0m\u001b[0;34m)\u001b[0m  \u001b[0;31m# type: ignore[call-arg]\u001b[0m\u001b[0;34m\u001b[0m\u001b[0;34m\u001b[0m\u001b[0m\n\u001b[0;32m--> 631\u001b[0;31m             \u001b[0mdata\u001b[0m \u001b[0;34m=\u001b[0m \u001b[0mself\u001b[0m\u001b[0;34m.\u001b[0m\u001b[0m_next_data\u001b[0m\u001b[0;34m(\u001b[0m\u001b[0;34m)\u001b[0m\u001b[0;34m\u001b[0m\u001b[0;34m\u001b[0m\u001b[0m\n\u001b[0m\u001b[1;32m    632\u001b[0m             \u001b[0mself\u001b[0m\u001b[0;34m.\u001b[0m\u001b[0m_num_yielded\u001b[0m \u001b[0;34m+=\u001b[0m \u001b[0;36m1\u001b[0m\u001b[0;34m\u001b[0m\u001b[0;34m\u001b[0m\u001b[0m\n\u001b[1;32m    633\u001b[0m             \u001b[0;32mif\u001b[0m \u001b[0mself\u001b[0m\u001b[0;34m.\u001b[0m\u001b[0m_dataset_kind\u001b[0m \u001b[0;34m==\u001b[0m \u001b[0m_DatasetKind\u001b[0m\u001b[0;34m.\u001b[0m\u001b[0mIterable\u001b[0m \u001b[0;32mand\u001b[0m\u001b[0;31m \u001b[0m\u001b[0;31m\\\u001b[0m\u001b[0;34m\u001b[0m\u001b[0;34m\u001b[0m\u001b[0m\n",
            "\u001b[0;32m/usr/local/lib/python3.10/dist-packages/torch/utils/data/dataloader.py\u001b[0m in \u001b[0;36m_next_data\u001b[0;34m(self)\u001b[0m\n\u001b[1;32m    673\u001b[0m     \u001b[0;32mdef\u001b[0m \u001b[0m_next_data\u001b[0m\u001b[0;34m(\u001b[0m\u001b[0mself\u001b[0m\u001b[0;34m)\u001b[0m\u001b[0;34m:\u001b[0m\u001b[0;34m\u001b[0m\u001b[0;34m\u001b[0m\u001b[0m\n\u001b[1;32m    674\u001b[0m         \u001b[0mindex\u001b[0m \u001b[0;34m=\u001b[0m \u001b[0mself\u001b[0m\u001b[0;34m.\u001b[0m\u001b[0m_next_index\u001b[0m\u001b[0;34m(\u001b[0m\u001b[0;34m)\u001b[0m  \u001b[0;31m# may raise StopIteration\u001b[0m\u001b[0;34m\u001b[0m\u001b[0;34m\u001b[0m\u001b[0m\n\u001b[0;32m--> 675\u001b[0;31m         \u001b[0mdata\u001b[0m \u001b[0;34m=\u001b[0m \u001b[0mself\u001b[0m\u001b[0;34m.\u001b[0m\u001b[0m_dataset_fetcher\u001b[0m\u001b[0;34m.\u001b[0m\u001b[0mfetch\u001b[0m\u001b[0;34m(\u001b[0m\u001b[0mindex\u001b[0m\u001b[0;34m)\u001b[0m  \u001b[0;31m# may raise StopIteration\u001b[0m\u001b[0;34m\u001b[0m\u001b[0;34m\u001b[0m\u001b[0m\n\u001b[0m\u001b[1;32m    676\u001b[0m         \u001b[0;32mif\u001b[0m \u001b[0mself\u001b[0m\u001b[0;34m.\u001b[0m\u001b[0m_pin_memory\u001b[0m\u001b[0;34m:\u001b[0m\u001b[0;34m\u001b[0m\u001b[0;34m\u001b[0m\u001b[0m\n\u001b[1;32m    677\u001b[0m             \u001b[0mdata\u001b[0m \u001b[0;34m=\u001b[0m \u001b[0m_utils\u001b[0m\u001b[0;34m.\u001b[0m\u001b[0mpin_memory\u001b[0m\u001b[0;34m.\u001b[0m\u001b[0mpin_memory\u001b[0m\u001b[0;34m(\u001b[0m\u001b[0mdata\u001b[0m\u001b[0;34m,\u001b[0m \u001b[0mself\u001b[0m\u001b[0;34m.\u001b[0m\u001b[0m_pin_memory_device\u001b[0m\u001b[0;34m)\u001b[0m\u001b[0;34m\u001b[0m\u001b[0;34m\u001b[0m\u001b[0m\n",
            "\u001b[0;32m/usr/local/lib/python3.10/dist-packages/torch/utils/data/_utils/fetch.py\u001b[0m in \u001b[0;36mfetch\u001b[0;34m(self, possibly_batched_index)\u001b[0m\n\u001b[1;32m     49\u001b[0m                 \u001b[0mdata\u001b[0m \u001b[0;34m=\u001b[0m \u001b[0mself\u001b[0m\u001b[0;34m.\u001b[0m\u001b[0mdataset\u001b[0m\u001b[0;34m.\u001b[0m\u001b[0m__getitems__\u001b[0m\u001b[0;34m(\u001b[0m\u001b[0mpossibly_batched_index\u001b[0m\u001b[0;34m)\u001b[0m\u001b[0;34m\u001b[0m\u001b[0;34m\u001b[0m\u001b[0m\n\u001b[1;32m     50\u001b[0m             \u001b[0;32melse\u001b[0m\u001b[0;34m:\u001b[0m\u001b[0;34m\u001b[0m\u001b[0;34m\u001b[0m\u001b[0m\n\u001b[0;32m---> 51\u001b[0;31m                 \u001b[0mdata\u001b[0m \u001b[0;34m=\u001b[0m \u001b[0;34m[\u001b[0m\u001b[0mself\u001b[0m\u001b[0;34m.\u001b[0m\u001b[0mdataset\u001b[0m\u001b[0;34m[\u001b[0m\u001b[0midx\u001b[0m\u001b[0;34m]\u001b[0m \u001b[0;32mfor\u001b[0m \u001b[0midx\u001b[0m \u001b[0;32min\u001b[0m \u001b[0mpossibly_batched_index\u001b[0m\u001b[0;34m]\u001b[0m\u001b[0;34m\u001b[0m\u001b[0;34m\u001b[0m\u001b[0m\n\u001b[0m\u001b[1;32m     52\u001b[0m         \u001b[0;32melse\u001b[0m\u001b[0;34m:\u001b[0m\u001b[0;34m\u001b[0m\u001b[0;34m\u001b[0m\u001b[0m\n\u001b[1;32m     53\u001b[0m             \u001b[0mdata\u001b[0m \u001b[0;34m=\u001b[0m \u001b[0mself\u001b[0m\u001b[0;34m.\u001b[0m\u001b[0mdataset\u001b[0m\u001b[0;34m[\u001b[0m\u001b[0mpossibly_batched_index\u001b[0m\u001b[0;34m]\u001b[0m\u001b[0;34m\u001b[0m\u001b[0;34m\u001b[0m\u001b[0m\n",
            "\u001b[0;32m/usr/local/lib/python3.10/dist-packages/torch/utils/data/_utils/fetch.py\u001b[0m in \u001b[0;36m<listcomp>\u001b[0;34m(.0)\u001b[0m\n\u001b[1;32m     49\u001b[0m                 \u001b[0mdata\u001b[0m \u001b[0;34m=\u001b[0m \u001b[0mself\u001b[0m\u001b[0;34m.\u001b[0m\u001b[0mdataset\u001b[0m\u001b[0;34m.\u001b[0m\u001b[0m__getitems__\u001b[0m\u001b[0;34m(\u001b[0m\u001b[0mpossibly_batched_index\u001b[0m\u001b[0;34m)\u001b[0m\u001b[0;34m\u001b[0m\u001b[0;34m\u001b[0m\u001b[0m\n\u001b[1;32m     50\u001b[0m             \u001b[0;32melse\u001b[0m\u001b[0;34m:\u001b[0m\u001b[0;34m\u001b[0m\u001b[0;34m\u001b[0m\u001b[0m\n\u001b[0;32m---> 51\u001b[0;31m                 \u001b[0mdata\u001b[0m \u001b[0;34m=\u001b[0m \u001b[0;34m[\u001b[0m\u001b[0mself\u001b[0m\u001b[0;34m.\u001b[0m\u001b[0mdataset\u001b[0m\u001b[0;34m[\u001b[0m\u001b[0midx\u001b[0m\u001b[0;34m]\u001b[0m \u001b[0;32mfor\u001b[0m \u001b[0midx\u001b[0m \u001b[0;32min\u001b[0m \u001b[0mpossibly_batched_index\u001b[0m\u001b[0;34m]\u001b[0m\u001b[0;34m\u001b[0m\u001b[0;34m\u001b[0m\u001b[0m\n\u001b[0m\u001b[1;32m     52\u001b[0m         \u001b[0;32melse\u001b[0m\u001b[0;34m:\u001b[0m\u001b[0;34m\u001b[0m\u001b[0;34m\u001b[0m\u001b[0m\n\u001b[1;32m     53\u001b[0m             \u001b[0mdata\u001b[0m \u001b[0;34m=\u001b[0m \u001b[0mself\u001b[0m\u001b[0;34m.\u001b[0m\u001b[0mdataset\u001b[0m\u001b[0;34m[\u001b[0m\u001b[0mpossibly_batched_index\u001b[0m\u001b[0;34m]\u001b[0m\u001b[0;34m\u001b[0m\u001b[0;34m\u001b[0m\u001b[0m\n",
            "\u001b[0;32m/usr/local/lib/python3.10/dist-packages/torch/utils/data/dataset.py\u001b[0m in \u001b[0;36m__getitem__\u001b[0;34m(self, index)\u001b[0m\n\u001b[1;32m    204\u001b[0m \u001b[0;34m\u001b[0m\u001b[0m\n\u001b[1;32m    205\u001b[0m     \u001b[0;32mdef\u001b[0m \u001b[0m__getitem__\u001b[0m\u001b[0;34m(\u001b[0m\u001b[0mself\u001b[0m\u001b[0;34m,\u001b[0m \u001b[0mindex\u001b[0m\u001b[0;34m)\u001b[0m\u001b[0;34m:\u001b[0m\u001b[0;34m\u001b[0m\u001b[0;34m\u001b[0m\u001b[0m\n\u001b[0;32m--> 206\u001b[0;31m         \u001b[0;32mreturn\u001b[0m \u001b[0mtuple\u001b[0m\u001b[0;34m(\u001b[0m\u001b[0mtensor\u001b[0m\u001b[0;34m[\u001b[0m\u001b[0mindex\u001b[0m\u001b[0;34m]\u001b[0m \u001b[0;32mfor\u001b[0m \u001b[0mtensor\u001b[0m \u001b[0;32min\u001b[0m \u001b[0mself\u001b[0m\u001b[0;34m.\u001b[0m\u001b[0mtensors\u001b[0m\u001b[0;34m)\u001b[0m\u001b[0;34m\u001b[0m\u001b[0;34m\u001b[0m\u001b[0m\n\u001b[0m\u001b[1;32m    207\u001b[0m \u001b[0;34m\u001b[0m\u001b[0m\n\u001b[1;32m    208\u001b[0m     \u001b[0;32mdef\u001b[0m \u001b[0m__len__\u001b[0m\u001b[0;34m(\u001b[0m\u001b[0mself\u001b[0m\u001b[0;34m)\u001b[0m\u001b[0;34m:\u001b[0m\u001b[0;34m\u001b[0m\u001b[0;34m\u001b[0m\u001b[0m\n",
            "\u001b[0;32m/usr/local/lib/python3.10/dist-packages/torch/utils/data/dataset.py\u001b[0m in \u001b[0;36m<genexpr>\u001b[0;34m(.0)\u001b[0m\n\u001b[1;32m    204\u001b[0m \u001b[0;34m\u001b[0m\u001b[0m\n\u001b[1;32m    205\u001b[0m     \u001b[0;32mdef\u001b[0m \u001b[0m__getitem__\u001b[0m\u001b[0;34m(\u001b[0m\u001b[0mself\u001b[0m\u001b[0;34m,\u001b[0m \u001b[0mindex\u001b[0m\u001b[0;34m)\u001b[0m\u001b[0;34m:\u001b[0m\u001b[0;34m\u001b[0m\u001b[0;34m\u001b[0m\u001b[0m\n\u001b[0;32m--> 206\u001b[0;31m         \u001b[0;32mreturn\u001b[0m \u001b[0mtuple\u001b[0m\u001b[0;34m(\u001b[0m\u001b[0mtensor\u001b[0m\u001b[0;34m[\u001b[0m\u001b[0mindex\u001b[0m\u001b[0;34m]\u001b[0m \u001b[0;32mfor\u001b[0m \u001b[0mtensor\u001b[0m \u001b[0;32min\u001b[0m \u001b[0mself\u001b[0m\u001b[0;34m.\u001b[0m\u001b[0mtensors\u001b[0m\u001b[0;34m)\u001b[0m\u001b[0;34m\u001b[0m\u001b[0;34m\u001b[0m\u001b[0m\n\u001b[0m\u001b[1;32m    207\u001b[0m \u001b[0;34m\u001b[0m\u001b[0m\n\u001b[1;32m    208\u001b[0m     \u001b[0;32mdef\u001b[0m \u001b[0m__len__\u001b[0m\u001b[0;34m(\u001b[0m\u001b[0mself\u001b[0m\u001b[0;34m)\u001b[0m\u001b[0;34m:\u001b[0m\u001b[0;34m\u001b[0m\u001b[0;34m\u001b[0m\u001b[0m\n",
            "\u001b[0;31mKeyboardInterrupt\u001b[0m: "
          ]
        }
      ]
    }
  ]
}
